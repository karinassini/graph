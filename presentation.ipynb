{
 "cells": [
  {
   "cell_type": "code",
   "execution_count": 2,
   "metadata": {
    "application/vnd.databricks.v1+cell": {
     "cellMetadata": {
      "byteLimit": 2048000,
      "rowLimit": 10000
     },
     "inputWidgets": {},
     "nuid": "fa62de67-3ea0-406f-8c9d-9a5858e4eaec",
     "showTitle": false,
     "title": ""
    }
   },
   "outputs": [],
   "source": [
    "from core import *\n",
    "import networkx as nx\n",
    "import time\n",
    "import pandas as pd"
   ]
  },
  {
   "attachments": {},
   "cell_type": "markdown",
   "metadata": {
    "application/vnd.databricks.v1+cell": {
     "cellMetadata": {
      "byteLimit": 2048000,
      "rowLimit": 10000
     },
     "inputWidgets": {},
     "nuid": "1662cfff-8d97-4e76-abf4-fbe473a8119f",
     "showTitle": false,
     "title": ""
    }
   },
   "source": [
    "# Leitura das instâncias \n",
    "\n",
    "- Instância toy1 (toy1_instance): grafo valorado com custos positivos e não direcionado. Exemplo de entrada\n",
    "para ser usada pelos algoritmos de caminho mínimo e árvore geradora mínima."
   ]
  },
  {
   "cell_type": "code",
   "execution_count": 3,
   "metadata": {
    "application/vnd.databricks.v1+cell": {
     "cellMetadata": {
      "byteLimit": 2048000,
      "rowLimit": 10000
     },
     "inputWidgets": {},
     "nuid": "a25c0e03-1e29-4abe-b53c-b939f498763b",
     "showTitle": false,
     "title": ""
    }
   },
   "outputs": [],
   "source": [
    "toy1_instance = {\n",
    "    \"a\": {\"b\": 60, \"c\": 54, \"d\": 42},\n",
    "    \"b\": {\"a\": 60, \"d\": 71, \"f\": 29},\n",
    "    \"c\": {\"a\": 54, \"d\": 56, \"e\": 67},\n",
    "    \"d\": {\"a\": 42, \"b\": 71, \"c\": 56, \"f\": 52, \"g\": 87, \"e\": 26},\n",
    "    \"e\": {\"c\": 67, \"d\": 26, \"g\": 70, \"i\": 73},\n",
    "    \"f\": {\"b\": 29, \"d\": 52, \"g\": 20, \"h\": 25},\n",
    "    \"g\": {\"d\": 87, \"e\": 70, \"f\": 20, \"h\": 36, \"j\": 32, \"i\": 59},\n",
    "    \"h\": {\"f\": 25, \"g\": 36, \"j\": 25},\n",
    "    \"i\": {\"e\": 73, \"g\": 59, \"j\": 26},\n",
    "    \"j\": {\"g\": 32, \"h\": 25, \"i\": 26},\n",
    "}"
   ]
  },
  {
   "attachments": {},
   "cell_type": "markdown",
   "metadata": {
    "application/vnd.databricks.v1+cell": {
     "cellMetadata": {
      "byteLimit": 2048000,
      "rowLimit": 10000
     },
     "inputWidgets": {},
     "nuid": "a2be53f0-7930-4ae8-8f72-11aa5d0e5adb",
     "showTitle": false,
     "title": ""
    }
   },
   "source": [
    "- Instância toy2: grafo de fluxo valorado com custos positivos e direcionado. Exemplo de\n",
    "entrada para ser usada pelo algoritmo de fluxo (Ford-Fulkerson)."
   ]
  },
  {
   "cell_type": "code",
   "execution_count": 179,
   "metadata": {
    "application/vnd.databricks.v1+cell": {
     "cellMetadata": {
      "byteLimit": 2048000,
      "rowLimit": 10000
     },
     "inputWidgets": {},
     "nuid": "bf058aab-fd51-4123-82b0-79ecc664f8fe",
     "showTitle": false,
     "title": ""
    }
   },
   "outputs": [],
   "source": [
    "toy2_instance = {\n",
    "    \"1\": {\"2\": 3, \"3\": 3},\n",
    "    \"2\": {\"3\": 1, \"4\": 3, \"5\": 2},\n",
    "    \"3\": {\"4\": 5},\n",
    "    \"4\": {\"6\": 6},\n",
    "    \"5\": {\"4\": 3, \"6\": 3},\n",
    "    \"6\": {}\n",
    "}"
   ]
  },
  {
   "attachments": {},
   "cell_type": "markdown",
   "metadata": {
    "application/vnd.databricks.v1+cell": {
     "cellMetadata": {
      "byteLimit": 2048000,
      "rowLimit": 10000
     },
     "inputWidgets": {},
     "nuid": "aeffad6d-6930-4ae4-afb9-2f62ba9ce461",
     "showTitle": false,
     "title": ""
    }
   },
   "source": [
    "Instâncias de benchmarks disponíveis na literatura: exemplos de entrada para serem aplicadas\n",
    "aos algoritmos de caminho mínimo e árvore geradora mínima.\n",
    "Os algoritmos devem ser executados com pelo menos 3 diferentes instâncias do site\n",
    "http://www.dis.uniroma1.it/challenge9/download.shtml. Neste site existe uma tabela com arquivos\n",
    "de dados referentes a 12 redes de estradas dos USA.\n",
    "\n",
    "Sugiro escolher as três menores: New York\n",
    "(NY), San Francisco (BAY) e Colorado (COL). Existem dois tipos de rede para cada cidade citada\n",
    "acima: uma delas possui informações de distância (coluna Distance graph da tabela) e a outra,\n",
    "tempo de viagem (coluna Travel Time graph da tabela). Sugiro aplicar suas implementações apenas\n",
    "nas redes de distâncias. Informações do formato dos arquivos de dados podem ser encontradas em\n",
    "http://www.dis.uniroma1.it/challenge9/format.shtml."
   ]
  },
  {
   "cell_type": "code",
   "execution_count": 20,
   "metadata": {
    "application/vnd.databricks.v1+cell": {
     "cellMetadata": {
      "byteLimit": 2048000,
      "rowLimit": 10000
     },
     "inputWidgets": {},
     "nuid": "db98a3e3-f430-4708-beaa-109c956e13d0",
     "showTitle": false,
     "title": ""
    }
   },
   "outputs": [],
   "source": [
    "ny_path = \"USA-road-d.NY.gr.gz\"\n",
    "san_path = \"USA-road-d.BAY.gr.gz\"\n",
    "col_path = \"USA-road-d.COL.gr.gz\""
   ]
  },
  {
   "cell_type": "code",
   "execution_count": 6,
   "metadata": {
    "application/vnd.databricks.v1+cell": {
     "cellMetadata": {
      "byteLimit": 2048000,
      "rowLimit": 10000
     },
     "inputWidgets": {},
     "nuid": "d7ae27fd-f0da-4e5a-ba23-4ece7723c03a",
     "showTitle": false,
     "title": ""
    }
   },
   "outputs": [
    {
     "name": "stdout",
     "output_type": "stream",
     "text": [
      "\n"
     ]
    }
   ],
   "source": [
    "download_data(\n",
    "    \"http://www.diag.uniroma1.it/challenge9/data/USA-road-d/USA-road-d.NY.gr.gz\",\n",
    "    ny_path,\n",
    ")\n",
    "\n",
    "download_data(\n",
    "    \"http://www.diag.uniroma1.it/challenge9/data/USA-road-d/USA-road-d.BAY.gr.gz\",\n",
    "    san_path,\n",
    ")\n",
    "download_data(\n",
    "    \"http://www.diag.uniroma1.it//challenge9/data/USA-road-d/USA-road-d.COL.gr.gz\",\n",
    "    col_path,\n",
    ")"
   ]
  },
  {
   "attachments": {},
   "cell_type": "markdown",
   "metadata": {},
   "source": [
    "- Instância de entrada para o algoritmo de fluxo: um exemplo de entrada a ser aplicado ao\n",
    "algoritmo de Ford-Fulkerson\n",
    "Considerar o exemplo do arquivo no formato DIMACS representando o digrafo de 6 vértices e 8\n",
    "arcos apresentado em https://lpsolve.sourceforge.net/5.5/DIMACS_maxf.htm."
   ]
  },
  {
   "cell_type": "code",
   "execution_count": 220,
   "metadata": {},
   "outputs": [],
   "source": [
    "def read_gr_graph(file_path, func = nx.Graph):\n",
    "    graph = func()\n",
    "\n",
    "    with open(file_path, \"r\") as file:\n",
    "        for line in file:\n",
    "            if line.startswith((\"c\", \"p\")):\n",
    "                continue\n",
    "            if line.startswith(\"a\"):\n",
    "                _, source, target, weight = line.split()\n",
    "                graph.add_edge(source, target, weight=float(weight))\n",
    "    return graph"
   ]
  },
  {
   "cell_type": "code",
   "execution_count": 221,
   "metadata": {},
   "outputs": [],
   "source": [
    "graph_dimacs_instance = read_gr_graph(\"data/dimacs.txt\", nx.DiGraph)"
   ]
  },
  {
   "cell_type": "code",
   "execution_count": 222,
   "metadata": {},
   "outputs": [],
   "source": [
    "dimacs_instance = nx.to_dict_of_dicts(graph_dimacs_instance)"
   ]
  },
  {
   "cell_type": "code",
   "execution_count": 223,
   "metadata": {},
   "outputs": [],
   "source": [
    "dimacs_instance = {\n",
    "    node1: {node2: subdict[\"weight\"] for node2, subdict in nested_dict.items()}\n",
    "    for node1, nested_dict in dimacs_instance.items()\n",
    "}"
   ]
  },
  {
   "attachments": {},
   "cell_type": "markdown",
   "metadata": {
    "application/vnd.databricks.v1+cell": {
     "cellMetadata": {},
     "inputWidgets": {},
     "nuid": "a82a722c-b836-4076-bea7-a83e70777ac4",
     "showTitle": false,
     "title": ""
    }
   },
   "source": [
    "## Arquivo de resultados"
   ]
  },
  {
   "cell_type": "code",
   "execution_count": 5,
   "metadata": {
    "application/vnd.databricks.v1+cell": {
     "cellMetadata": {
      "byteLimit": 2048000,
      "rowLimit": 10000
     },
     "inputWidgets": {},
     "nuid": "84567e62-0d04-47be-8049-3eea922362c6",
     "showTitle": false,
     "title": ""
    }
   },
   "outputs": [],
   "source": [
    "try:\n",
    "    results = pd.read_csv(\"data/results.csv\")\n",
    "except Exception as e:\n",
    "    results = pd.DataFrame(\n",
    "        columns=[\n",
    "            \"instancia\",\n",
    "            \"n\",\n",
    "            \"m\",\n",
    "            \"algoritmo\",\n",
    "            \"custo\",\n",
    "            \"tempo\",\n",
    "            \"resultado\",\n",
    "            \"anteriores\",\n",
    "        ]\n",
    "    )"
   ]
  },
  {
   "attachments": {},
   "cell_type": "markdown",
   "metadata": {
    "application/vnd.databricks.v1+cell": {
     "cellMetadata": {
      "byteLimit": 2048000,
      "rowLimit": 10000
     },
     "inputWidgets": {},
     "nuid": "4f30b6ae-17a2-48b5-91f3-6391778a616e",
     "showTitle": false,
     "title": ""
    }
   },
   "source": [
    "# Plot dos gráficos mais simples"
   ]
  },
  {
   "attachments": {},
   "cell_type": "markdown",
   "metadata": {
    "application/vnd.databricks.v1+cell": {
     "cellMetadata": {
      "byteLimit": 2048000,
      "rowLimit": 10000
     },
     "inputWidgets": {},
     "nuid": "0bfbf989-3cfc-4c52-941d-1716aa0163e4",
     "showTitle": false,
     "title": ""
    }
   },
   "source": [
    "## Toy 1"
   ]
  },
  {
   "cell_type": "code",
   "execution_count": 10,
   "metadata": {
    "application/vnd.databricks.v1+cell": {
     "cellMetadata": {
      "byteLimit": 2048000,
      "rowLimit": 10000
     },
     "inputWidgets": {},
     "nuid": "bef1ba9c-d732-44ae-870b-04b456e8cea3",
     "showTitle": false,
     "title": ""
    }
   },
   "outputs": [],
   "source": [
    "# Create an empty graph\n",
    "graph_toy1_instance = nx.Graph()\n",
    "\n",
    "# Add nodes from adjacency list\n",
    "graph_toy1_instance.add_nodes_from(toy1_instance.keys())\n",
    "\n",
    "# Add edges from adjacency list\n",
    "for node, neighbors in toy1_instance.items():\n",
    "    for neighbor, weight in neighbors.items():\n",
    "        graph_toy1_instance.add_edge(node, neighbor, weight=weight)"
   ]
  },
  {
   "cell_type": "code",
   "execution_count": 7,
   "metadata": {
    "application/vnd.databricks.v1+cell": {
     "cellMetadata": {
      "byteLimit": 2048000,
      "rowLimit": 10000
     },
     "inputWidgets": {},
     "nuid": "3e92cee9-8e93-4f75-9d83-3f89a23845cd",
     "showTitle": false,
     "title": ""
    }
   },
   "outputs": [
    {
     "data": {
      "image/png": "[encoded data removed]",
      "text/plain": [
       "<Figure size 800x600 with 1 Axes>"
      ]
     },
     "metadata": {},
     "output_type": "display_data"
    }
   ],
   "source": [
    "plot_graph(graph_toy1_instance)"
   ]
  },
  {
   "attachments": {},
   "cell_type": "markdown",
   "metadata": {
    "application/vnd.databricks.v1+cell": {
     "cellMetadata": {
      "byteLimit": 2048000,
      "rowLimit": 10000
     },
     "inputWidgets": {},
     "nuid": "f3ec28d6-6e09-485d-af9d-39e26cf753b9",
     "showTitle": false,
     "title": ""
    }
   },
   "source": [
    "## Toy 2"
   ]
  },
  {
   "cell_type": "code",
   "execution_count": 180,
   "metadata": {
    "application/vnd.databricks.v1+cell": {
     "cellMetadata": {
      "byteLimit": 2048000,
      "rowLimit": 10000
     },
     "inputWidgets": {},
     "nuid": "56a9e5fa-e796-4bb7-b920-3a9a7f9d266e",
     "showTitle": false,
     "title": ""
    }
   },
   "outputs": [],
   "source": [
    "graph_toy2_instance = nx.DiGraph()\n",
    "\n",
    "# Add nodes from adjacency list\n",
    "graph_toy2_instance.add_nodes_from(toy2_instance.keys())\n",
    "\n",
    "# Add edges from adjacency list\n",
    "for node, neighbors in toy2_instance.items():\n",
    "    for neighbor, weight in neighbors.items():\n",
    "        graph_toy2_instance.add_edge(node, neighbor, weight=weight)"
   ]
  },
  {
   "cell_type": "code",
   "execution_count": 181,
   "metadata": {
    "application/vnd.databricks.v1+cell": {
     "cellMetadata": {
      "byteLimit": 2048000,
      "rowLimit": 10000
     },
     "inputWidgets": {},
     "nuid": "a92a0118-433e-4e28-8fef-0c5e0f6b73df",
     "showTitle": false,
     "title": ""
    }
   },
   "outputs": [
    {
     "data": {
      "image/png": "[encoded data removed]",
      "text/plain": [
       "<Figure size 800x600 with 1 Axes>"
      ]
     },
     "metadata": {},
     "output_type": "display_data"
    }
   ],
   "source": [
    "plot_graph(graph_toy2_instance, arrows=True)"
   ]
  },
  {
   "attachments": {},
   "cell_type": "markdown",
   "metadata": {},
   "source": [
    "## DIMACS"
   ]
  },
  {
   "cell_type": "code",
   "execution_count": 225,
   "metadata": {},
   "outputs": [
    {
     "data": {
      "image/png": "[encoded data removed]",
      "text/plain": [
       "<Figure size 800x600 with 1 Axes>"
      ]
     },
     "metadata": {},
     "output_type": "display_data"
    }
   ],
   "source": [
    "plot_graph(graph_dimacs_instance, arrows=True)"
   ]
  },
  {
   "attachments": {},
   "cell_type": "markdown",
   "metadata": {
    "application/vnd.databricks.v1+cell": {
     "cellMetadata": {
      "byteLimit": 2048000,
      "rowLimit": 10000
     },
     "inputWidgets": {},
     "nuid": "298d7318-2ad2-462f-a56f-b196148fe4a1",
     "showTitle": false,
     "title": ""
    }
   },
   "source": [
    "# Djikstra\n",
    "\n",
    "\n",
    "Pseudocode \n",
    "\n",
    "````python\n",
    "\n",
    "vINI = vértice inicial\n",
    "d(vINI, vINI) = 0\n",
    "d(vINI, i) = INFINITO, para todo i, i pertence a V – {vINI}\n",
    "fechado = vazio\n",
    "aberto = V\n",
    "anterior(i) = 0, para todo i, i pertence a V\n",
    "enquanto(aberto ≠ vazio) {\n",
    "    k = vértice pertencente a aberto, mais próximo do vértice inicial\n",
    "    fechado = fechado + k; \n",
    "    aberto = aberto – k;\n",
    "    para cada vizinho i de k que está em aberto faça{\n",
    "        custo = min{d(vINI, i), d(vINI,k) + c(k,i)}\n",
    "\n",
    "        se (custo < d(vINI, i)) então\n",
    "            d(vINI, i) = custo; anterior(i) = k\n",
    "\n",
    "    }\n",
    "}\n",
    "\n",
    "````"
   ]
  },
  {
   "attachments": {},
   "cell_type": "markdown",
   "metadata": {
    "application/vnd.databricks.v1+cell": {
     "cellMetadata": {
      "byteLimit": 2048000,
      "rowLimit": 10000
     },
     "inputWidgets": {},
     "nuid": "b0555535-0c14-4794-b2ae-7ae51edab0be",
     "showTitle": false,
     "title": ""
    }
   },
   "source": [
    "## TOY 1"
   ]
  },
  {
   "cell_type": "code",
   "execution_count": 8,
   "metadata": {
    "application/vnd.databricks.v1+cell": {
     "cellMetadata": {
      "byteLimit": 2048000,
      "rowLimit": 10000
     },
     "inputWidgets": {},
     "nuid": "70d1fc1d-dae0-456d-95ba-c2d7bd7ac107",
     "showTitle": false,
     "title": ""
    }
   },
   "outputs": [],
   "source": [
    "start_node = \"a\"\n",
    "start_time = time.time()\n",
    "distances, previous = dijkstra(toy1_instance, start_node)\n",
    "end_time = time.time()"
   ]
  },
  {
   "cell_type": "code",
   "execution_count": 9,
   "metadata": {
    "application/vnd.databricks.v1+cell": {
     "cellMetadata": {
      "byteLimit": 2048000,
      "rowLimit": 10000
     },
     "inputWidgets": {},
     "nuid": "989cf4e9-235d-4b73-80ec-b1690d61ab2f",
     "showTitle": false,
     "title": ""
    }
   },
   "outputs": [
    {
     "name": "stdout",
     "output_type": "stream",
     "text": [
      "Time between function executions: 0.0 seconds\n"
     ]
    }
   ],
   "source": [
    "print(\"Time between function executions:\", end_time - start_time, \"seconds\")"
   ]
  },
  {
   "cell_type": "code",
   "execution_count": 12,
   "metadata": {
    "application/vnd.databricks.v1+cell": {
     "cellMetadata": {
      "byteLimit": 2048000,
      "rowLimit": 10000
     },
     "inputWidgets": {},
     "nuid": "15bba7a0-610b-4a15-9a42-dccda7829a81",
     "showTitle": false,
     "title": ""
    }
   },
   "outputs": [],
   "source": [
    "results_list = [\n",
    "    \"toy1\",\n",
    "    graph_toy1_instance.number_of_nodes(),\n",
    "    graph_toy1_instance.number_of_edges(),\n",
    "    \"Dijkstra\",\n",
    "    sum(distances.values()),\n",
    "    end_time - start_time,\n",
    "    distances,\n",
    "    previous,\n",
    "]"
   ]
  },
  {
   "cell_type": "code",
   "execution_count": null,
   "metadata": {},
   "outputs": [],
   "source": [
    "results.loc[len(results)] = results_list"
   ]
  },
  {
   "cell_type": "code",
   "execution_count": 18,
   "metadata": {},
   "outputs": [
    {
     "data": {
      "text/html": [
       "<div>\n",
       "<style scoped>\n",
       "    .dataframe tbody tr th:only-of-type {\n",
       "        vertical-align: middle;\n",
       "    }\n",
       "\n",
       "    .dataframe tbody tr th {\n",
       "        vertical-align: top;\n",
       "    }\n",
       "\n",
       "    .dataframe thead th {\n",
       "        text-align: right;\n",
       "    }\n",
       "</style>\n",
       "<table border=\"1\" class=\"dataframe\">\n",
       "  <thead>\n",
       "    <tr style=\"text-align: right;\">\n",
       "      <th></th>\n",
       "      <th>0</th>\n",
       "    </tr>\n",
       "  </thead>\n",
       "  <tbody>\n",
       "    <tr>\n",
       "      <th>instancia</th>\n",
       "      <td>toy1</td>\n",
       "    </tr>\n",
       "    <tr>\n",
       "      <th>n</th>\n",
       "      <td>10</td>\n",
       "    </tr>\n",
       "    <tr>\n",
       "      <th>m</th>\n",
       "      <td>19</td>\n",
       "    </tr>\n",
       "    <tr>\n",
       "      <th>algoritmo</th>\n",
       "      <td>Dijkstra</td>\n",
       "    </tr>\n",
       "    <tr>\n",
       "      <th>custo</th>\n",
       "      <td>816.0</td>\n",
       "    </tr>\n",
       "    <tr>\n",
       "      <th>tempo</th>\n",
       "      <td>0.000098</td>\n",
       "    </tr>\n",
       "    <tr>\n",
       "      <th>resultado</th>\n",
       "      <td>{'a': 0, 'b': 60, 'c': 54, 'd': 42, 'e': 68, '...</td>\n",
       "    </tr>\n",
       "    <tr>\n",
       "      <th>anteriores</th>\n",
       "      <td>{'a': None, 'b': 'a', 'c': 'a', 'd': 'a', 'e':...</td>\n",
       "    </tr>\n",
       "  </tbody>\n",
       "</table>\n",
       "</div>"
      ],
      "text/plain": [
       "                                                            0\n",
       "instancia                                                toy1\n",
       "n                                                          10\n",
       "m                                                          19\n",
       "algoritmo                                            Dijkstra\n",
       "custo                                                   816.0\n",
       "tempo                                                0.000098\n",
       "resultado   {'a': 0, 'b': 60, 'c': 54, 'd': 42, 'e': 68, '...\n",
       "anteriores  {'a': None, 'b': 'a', 'c': 'a', 'd': 'a', 'e':..."
      ]
     },
     "execution_count": 18,
     "metadata": {},
     "output_type": "execute_result"
    }
   ],
   "source": [
    "results.query(\"instancia == 'toy1' and algoritmo == 'Dijkstra'\").transpose()"
   ]
  },
  {
   "attachments": {},
   "cell_type": "markdown",
   "metadata": {
    "application/vnd.databricks.v1+cell": {
     "cellMetadata": {},
     "inputWidgets": {},
     "nuid": "e5a04f80-6dc1-4c7f-b6c5-9331a97ef2dc",
     "showTitle": false,
     "title": ""
    }
   },
   "source": [
    "## New york"
   ]
  },
  {
   "cell_type": "code",
   "execution_count": 22,
   "metadata": {},
   "outputs": [
    {
     "data": {
      "text/plain": [
       "'USA-road-d.NY.gr.gz'"
      ]
     },
     "execution_count": 22,
     "metadata": {},
     "output_type": "execute_result"
    }
   ],
   "source": [
    "ny_path"
   ]
  },
  {
   "cell_type": "code",
   "execution_count": 24,
   "metadata": {
    "application/vnd.databricks.v1+cell": {
     "cellMetadata": {
      "byteLimit": 2048000,
      "rowLimit": 10000
     },
     "inputWidgets": {},
     "nuid": "ae379289-218e-478d-9e47-2877e36d24a9",
     "showTitle": false,
     "title": ""
    }
   },
   "outputs": [],
   "source": [
    "graph = read_gr_graph(\"data/\" + ny_path.replace(\".gz\", \"\"))"
   ]
  },
  {
   "cell_type": "code",
   "execution_count": 25,
   "metadata": {
    "application/vnd.databricks.v1+cell": {
     "cellMetadata": {
      "byteLimit": 2048000,
      "rowLimit": 10000
     },
     "inputWidgets": {},
     "nuid": "14b57d4d-32d0-495c-bdac-311bc5bd245c",
     "showTitle": false,
     "title": ""
    }
   },
   "outputs": [],
   "source": [
    "graph_ny = nx.to_dict_of_dicts(graph)"
   ]
  },
  {
   "cell_type": "code",
   "execution_count": 26,
   "metadata": {
    "application/vnd.databricks.v1+cell": {
     "cellMetadata": {
      "byteLimit": 2048000,
      "rowLimit": 10000
     },
     "inputWidgets": {},
     "nuid": "588c51d3-e33f-4564-aaae-1865fc3c62c4",
     "showTitle": false,
     "title": ""
    }
   },
   "outputs": [],
   "source": [
    "graph_ny = {\n",
    "    node1: {node2: subdict[\"weight\"] for node2, subdict in nested_dict.items()}\n",
    "    for node1, nested_dict in graph_ny.items()\n",
    "}"
   ]
  },
  {
   "cell_type": "code",
   "execution_count": 29,
   "metadata": {
    "application/vnd.databricks.v1+cell": {
     "cellMetadata": {
      "byteLimit": 2048000,
      "rowLimit": 10000
     },
     "inputWidgets": {},
     "nuid": "635b7d21-05d6-42bc-b5cd-5498ca1ba213",
     "showTitle": false,
     "title": ""
    }
   },
   "outputs": [],
   "source": [
    "start_node = 1\n",
    "start_time = time.time()\n",
    "distances, previous = dijkstra(graph_ny, \"1\")\n",
    "end_time = time.time()\n",
    "print(\"Time between function executions:\", end_time - start_time, \"seconds\")"
   ]
  },
  {
   "cell_type": "code",
   "execution_count": 48,
   "metadata": {
    "application/vnd.databricks.v1+cell": {
     "cellMetadata": {
      "byteLimit": 2048000,
      "rowLimit": 10000
     },
     "inputWidgets": {},
     "nuid": "b597075a-c82e-4669-8128-a902801a457c",
     "showTitle": false,
     "title": ""
    }
   },
   "outputs": [],
   "source": [
    "results_list = [\n",
    "    \"new_york\",\n",
    "    graph.number_of_nodes(),\n",
    "    graph.number_of_edges(),\n",
    "    \"Dijkstra\",\n",
    "    sum(distances.values()),\n",
    "    end_time - start_time,\n",
    "    distances,\n",
    "    previous,\n",
    "]"
   ]
  },
  {
   "cell_type": "code",
   "execution_count": 49,
   "metadata": {},
   "outputs": [
    {
     "data": {
      "text/plain": [
       "['new_york',\n",
       " 264346,\n",
       " 365050,\n",
       " 'Dijkstra',\n",
       " 186686642878.0,\n",
       " 6347.335877,\n",
       " {1: 0.0,\n",
       "  2: 803.0,\n",
       "  3: 50999.0,\n",
       "  4: 50841.0,\n",
       "  5: 20130.0,\n",
       "  6: 20904.0,\n",
       "  7: 34326.0,\n",
       "  8: 35857.0,\n",
       "  9: 54635.0,\n",
       "  10: 56308.0,\n",
       "  11: 56035.0,\n",
       "  12: 842.0,\n",
       "  13: 1394.0,\n",
       "  14: 111751.0,\n",
       "  15: 113122.0,\n",
       "  16: 189934.0,\n",
       "  17: 191593.0,\n",
       "  18: 281787.0,\n",
       "  19: 282799.0,\n",
       "  20: 274315.0,\n",
       "  21: 273089.0,\n",
       "  22: 275580.0,\n",
       "  23: 75847.0,\n",
       "  24: 78554.0,\n",
       "  25: 162515.0,\n",
       "  26: 161995.0,\n",
       "  27: 45742.0,\n",
       "  28: 45845.0,\n",
       "  29: 27333.0,\n",
       "  30: 27851.0,\n",
       "  31: 156680.0,\n",
       "  32: 160092.0,\n",
       "  33: 171750.0,\n",
       "  34: 173744.0,\n",
       "  35: 172087.0,\n",
       "  36: 166402.0,\n",
       "  37: 166765.0,\n",
       "  38: 152374.0,\n",
       "  39: 153392.0,\n",
       "  40: 173960.0,\n",
       "  41: 174352.0,\n",
       "  42: 28407.0,\n",
       "  43: 164882.0,\n",
       "  44: 164312.0,\n",
       "  45: 162548.0,\n",
       "  46: 167797.0,\n",
       "  47: 167225.0,\n",
       "  48: 1420.0,\n",
       "  49: 137327.0,\n",
       "  50: 135812.0,\n",
       "  51: 138513.0,\n",
       "  52: 154651.0,\n",
       "  53: 156719.0,\n",
       "  54: 125265.0,\n",
       "  55: 125785.0,\n",
       "  56: 126191.0,\n",
       "  57: 126925.0,\n",
       "  58: 123949.0,\n",
       "  59: 124654.0,\n",
       "  60: 99554.0,\n",
       "  61: 98301.0,\n",
       "  62: 105115.0,\n",
       "  63: 107533.0,\n",
       "  64: 101561.0,\n",
       "  65: 102592.0,\n",
       "  66: 123855.0,\n",
       "  67: 103104.0,\n",
       "  68: 99871.0,\n",
       "  69: 98551.0,\n",
       "  70: 98097.0,\n",
       "  71: 97744.0,\n",
       "  72: 102109.0,\n",
       "  73: 107271.0,\n",
       "  74: 72402.0,\n",
       "  75: 71604.0,\n",
       "  76: 73809.0,\n",
       "  77: 80774.0,\n",
       "  78: 80286.0,\n",
       "  79: 81705.0,\n",
       "  80: 75581.0,\n",
       "  81: 81570.0,\n",
       "  82: 87599.0,\n",
       "  83: 87968.0,\n",
       "  84: 89343.0,\n",
       "  85: 141013.0,\n",
       "  86: 133092.0,\n",
       "  87: 122859.0,\n",
       "  88: 149930.0,\n",
       "  89: 150258.0,\n",
       "  90: 151295.0,\n",
       "  91: 150839.0,\n",
       "  92: 150944.0,\n",
       "  93: 151208.0,\n",
       "  94: 164471.0,\n",
       "  95: 164614.0,\n",
       "  96: 106948.0,\n",
       "  97: 109293.0,\n",
       "  98: 108182.0,\n",
       "  99: 111283.0,\n",
       "  100: 114015.0,\n",
       "  101: 117192.0,\n",
       "  102: 123153.0,\n",
       "  103: 129270.0,\n",
       "  104: 115638.0,\n",
       "  105: 116703.0,\n",
       "  106: 104624.0,\n",
       "  107: 110415.0,\n",
       "  108: 103208.0,\n",
       "  109: 100923.0,\n",
       "  110: 96124.0,\n",
       "  111: 105545.0,\n",
       "  112: 99126.0,\n",
       "  113: 92004.0,\n",
       "  114: 92115.0,\n",
       "  115: 90568.0,\n",
       "  116: 99526.0,\n",
       "  117: 103766.0,\n",
       "  118: 96975.0,\n",
       "  119: 98027.0,\n",
       "  120: 93344.0,\n",
       "  121: 92047.0,\n",
       "  122: 93829.0,\n",
       "  123: 91797.0,\n",
       "  124: 93935.0,\n",
       "  125: 88203.0,\n",
       "  126: 90369.0,\n",
       "  127: 91400.0,\n",
       "  128: 92454.0,\n",
       "  129: 87679.0,\n",
       "  130: 80720.0,\n",
       "  131: 86215.0,\n",
       "  132: 87476.0,\n",
       "  133: 93347.0,\n",
       "  134: 90461.0,\n",
       "  135: 91466.0,\n",
       "  136: 92001.0,\n",
       "  137: 93152.0,\n",
       "  138: 99771.0,\n",
       "  139: 103328.0,\n",
       "  140: 102446.0,\n",
       "  141: 103931.0,\n",
       "  142: 106019.0,\n",
       "  143: 103234.0,\n",
       "  144: 105131.0,\n",
       "  145: 103707.0,\n",
       "  146: 110180.0,\n",
       "  147: 85683.0,\n",
       "  148: 87954.0,\n",
       "  149: 89274.0,\n",
       "  150: 110962.0,\n",
       "  151: 110945.0,\n",
       "  152: 74339.0,\n",
       "  153: 76581.0,\n",
       "  154: 83881.0,\n",
       "  155: 84831.0,\n",
       "  156: 84943.0,\n",
       "  157: 86867.0,\n",
       "  158: 86313.0,\n",
       "  159: 82989.0,\n",
       "  160: 84472.0,\n",
       "  161: 73850.0,\n",
       "  162: 68834.0,\n",
       "  163: 76737.0,\n",
       "  164: 175127.0,\n",
       "  165: 176863.0,\n",
       "  166: 99807.0,\n",
       "  167: 95876.0,\n",
       "  168: 105940.0,\n",
       "  169: 107285.0,\n",
       "  170: 102412.0,\n",
       "  171: 100731.0,\n",
       "  172: 104146.0,\n",
       "  173: 96475.0,\n",
       "  174: 98438.0,\n",
       "  175: 93122.0,\n",
       "  176: 88327.0,\n",
       "  177: 107890.0,\n",
       "  178: 102829.0,\n",
       "  179: 98683.0,\n",
       "  180: 99601.0,\n",
       "  181: 94646.0,\n",
       "  182: 95208.0,\n",
       "  183: 97330.0,\n",
       "  184: 100169.0,\n",
       "  185: 98219.0,\n",
       "  186: 94832.0,\n",
       "  187: 93886.0,\n",
       "  188: 82165.0,\n",
       "  189: 83066.0,\n",
       "  190: 82947.0,\n",
       "  191: 87121.0,\n",
       "  192: 83188.0,\n",
       "  193: 85031.0,\n",
       "  194: 84520.0,\n",
       "  195: 85216.0,\n",
       "  196: 77270.0,\n",
       "  197: 80548.0,\n",
       "  198: 86868.0,\n",
       "  199: 90851.0,\n",
       "  200: 88037.0,\n",
       "  201: 88430.0,\n",
       "  202: 86102.0,\n",
       "  203: 82177.0,\n",
       "  204: 89889.0,\n",
       "  205: 79016.0,\n",
       "  206: 81265.0,\n",
       "  207: 88159.0,\n",
       "  208: 81180.0,\n",
       "  209: 80148.0,\n",
       "  210: 78480.0,\n",
       "  211: 80671.0,\n",
       "  212: 80974.0,\n",
       "  213: 83286.0,\n",
       "  214: 84564.0,\n",
       "  215: 101330.0,\n",
       "  216: 103308.0,\n",
       "  217: 104392.0,\n",
       "  218: 104417.0,\n",
       "  219: 105526.0,\n",
       "  220: 107986.0,\n",
       "  221: 111589.0,\n",
       "  222: 106937.0,\n",
       "  223: 106141.0,\n",
       "  224: 107373.0,\n",
       "  225: 104922.0,\n",
       "  226: 119164.0,\n",
       "  227: 104160.0,\n",
       "  228: 103657.0,\n",
       "  229: 99546.0,\n",
       "  230: 173990.0,\n",
       "  231: 114818.0,\n",
       "  232: 110355.0,\n",
       "  233: 113740.0,\n",
       "  234: 114015.0,\n",
       "  235: 114348.0,\n",
       "  236: 116828.0,\n",
       "  237: 114699.0,\n",
       "  238: 116437.0,\n",
       "  239: 117541.0,\n",
       "  240: 121417.0,\n",
       "  241: 118881.0,\n",
       "  242: 123754.0,\n",
       "  243: 125494.0,\n",
       "  244: 125330.0,\n",
       "  245: 122084.0,\n",
       "  246: 123341.0,\n",
       "  247: 123526.0,\n",
       "  248: 126219.0,\n",
       "  249: 173433.0,\n",
       "  250: 117450.0,\n",
       "  251: 109648.0,\n",
       "  252: 115597.0,\n",
       "  253: 91578.0,\n",
       "  254: 94561.0,\n",
       "  255: 107167.0,\n",
       "  256: 98246.0,\n",
       "  257: 102228.0,\n",
       "  258: 102780.0,\n",
       "  259: 103014.0,\n",
       "  260: 95157.0,\n",
       "  261: 115716.0,\n",
       "  262: 99290.0,\n",
       "  263: 88978.0,\n",
       "  264: 86742.0,\n",
       "  265: 94644.0,\n",
       "  266: 85568.0,\n",
       "  267: 86461.0,\n",
       "  268: 89208.0,\n",
       "  269: 92383.0,\n",
       "  270: 93880.0,\n",
       "  271: 103750.0,\n",
       "  272: 105809.0,\n",
       "  273: 108470.0,\n",
       "  274: 108117.0,\n",
       "  275: 109836.0,\n",
       "  276: 105144.0,\n",
       "  277: 106570.0,\n",
       "  278: 104511.0,\n",
       "  279: 103080.0,\n",
       "  280: 101317.0,\n",
       "  281: 93454.0,\n",
       "  282: 91827.0,\n",
       "  283: 88833.0,\n",
       "  284: 87931.0,\n",
       "  285: 104806.0,\n",
       "  286: 105651.0,\n",
       "  287: 107385.0,\n",
       "  288: 109296.0,\n",
       "  289: 68520.0,\n",
       "  290: 71553.0,\n",
       "  291: 64455.0,\n",
       "  292: 68369.0,\n",
       "  293: 67772.0,\n",
       "  294: 66733.0,\n",
       "  295: 73180.0,\n",
       "  296: 72367.0,\n",
       "  297: 63960.0,\n",
       "  298: 74543.0,\n",
       "  299: 73982.0,\n",
       "  300: 77047.0,\n",
       "  301: 74389.0,\n",
       "  302: 83058.0,\n",
       "  303: 86393.0,\n",
       "  304: 67629.0,\n",
       "  305: 63842.0,\n",
       "  306: 64706.0,\n",
       "  307: 63318.0,\n",
       "  308: 62756.0,\n",
       "  309: 66587.0,\n",
       "  310: 62176.0,\n",
       "  311: 62529.0,\n",
       "  312: 64301.0,\n",
       "  313: 59537.0,\n",
       "  314: 62716.0,\n",
       "  315: 64260.0,\n",
       "  316: 63060.0,\n",
       "  317: 63078.0,\n",
       "  318: 59164.0,\n",
       "  319: 59639.0,\n",
       "  320: 58515.0,\n",
       "  321: 62372.0,\n",
       "  322: 67883.0,\n",
       "  323: 68555.0,\n",
       "  324: 70202.0,\n",
       "  325: 74197.0,\n",
       "  326: 77299.0,\n",
       "  327: 72274.0,\n",
       "  328: 74017.0,\n",
       "  329: 73157.0,\n",
       "  330: 65433.0,\n",
       "  331: 64715.0,\n",
       "  332: 66575.0,\n",
       "  333: 66861.0,\n",
       "  334: 68111.0,\n",
       "  335: 66486.0,\n",
       "  336: 67872.0,\n",
       "  337: 60855.0,\n",
       "  338: 60604.0,\n",
       "  339: 59925.0,\n",
       "  340: 69563.0,\n",
       "  341: 61014.0,\n",
       "  342: 56956.0,\n",
       "  343: 61448.0,\n",
       "  344: 60901.0,\n",
       "  345: 56362.0,\n",
       "  346: 56831.0,\n",
       "  347: 55880.0,\n",
       "  348: 62319.0,\n",
       "  349: 50843.0,\n",
       "  350: 64165.0,\n",
       "  351: 68380.0,\n",
       "  352: 65657.0,\n",
       "  353: 65947.0,\n",
       "  354: 64596.0,\n",
       "  355: 67644.0,\n",
       "  356: 70764.0,\n",
       "  357: 69446.0,\n",
       "  358: 53970.0,\n",
       "  359: 55268.0,\n",
       "  360: 55842.0,\n",
       "  361: 51708.0,\n",
       "  362: 50926.0,\n",
       "  363: 53637.0,\n",
       "  364: 50370.0,\n",
       "  365: 49997.0,\n",
       "  366: 48405.0,\n",
       "  367: 63384.0,\n",
       "  368: 69981.0,\n",
       "  369: 64208.0,\n",
       "  370: 65319.0,\n",
       "  371: 67561.0,\n",
       "  372: 46319.0,\n",
       "  373: 48450.0,\n",
       "  374: 87999.0,\n",
       "  375: 89335.0,\n",
       "  376: 87837.0,\n",
       "  377: 93542.0,\n",
       "  378: 83506.0,\n",
       "  379: 93638.0,\n",
       "  380: 84789.0,\n",
       "  381: 82700.0,\n",
       "  382: 81395.0,\n",
       "  383: 86619.0,\n",
       "  384: 78652.0,\n",
       "  385: 78233.0,\n",
       "  386: 81123.0,\n",
       "  387: 81361.0,\n",
       "  388: 77229.0,\n",
       "  389: 78177.0,\n",
       "  390: 79066.0,\n",
       "  391: 85829.0,\n",
       "  392: 87726.0,\n",
       "  393: 83061.0,\n",
       "  394: 79840.0,\n",
       "  395: 81400.0,\n",
       "  396: 81711.0,\n",
       "  397: 81376.0,\n",
       "  398: 79953.0,\n",
       "  399: 85358.0,\n",
       "  400: 78448.0,\n",
       "  401: 81001.0,\n",
       "  402: 76619.0,\n",
       "  403: 72083.0,\n",
       "  404: 70830.0,\n",
       "  405: 76017.0,\n",
       "  406: 73151.0,\n",
       "  407: 80558.0,\n",
       "  408: 77681.0,\n",
       "  409: 74409.0,\n",
       "  410: 75435.0,\n",
       "  411: 76754.0,\n",
       "  412: 81697.0,\n",
       "  413: 70055.0,\n",
       "  414: 72300.0,\n",
       "  415: 72350.0,\n",
       "  416: 73598.0,\n",
       "  417: 71105.0,\n",
       "  418: 70586.0,\n",
       "  419: 70858.0,\n",
       "  420: 67373.0,\n",
       "  421: 72403.0,\n",
       "  422: 67164.0,\n",
       "  423: 66726.0,\n",
       "  424: 62832.0,\n",
       "  425: 65863.0,\n",
       "  426: 60789.0,\n",
       "  427: 63487.0,\n",
       "  428: 67130.0,\n",
       "  429: 68959.0,\n",
       "  430: 66451.0,\n",
       "  431: 58680.0,\n",
       "  432: 63472.0,\n",
       "  433: 67512.0,\n",
       "  434: 67964.0,\n",
       "  435: 69481.0,\n",
       "  436: 64870.0,\n",
       "  437: 65406.0,\n",
       "  438: 64144.0,\n",
       "  439: 67727.0,\n",
       "  440: 65411.0,\n",
       "  441: 76103.0,\n",
       "  442: 76092.0,\n",
       "  443: 78181.0,\n",
       "  444: 75177.0,\n",
       "  445: 71077.0,\n",
       "  446: 64699.0,\n",
       "  447: 66352.0,\n",
       "  448: 66173.0,\n",
       "  449: 66688.0,\n",
       "  450: 66910.0,\n",
       "  451: 67445.0,\n",
       "  452: 66247.0,\n",
       "  453: 65587.0,\n",
       "  454: 67798.0,\n",
       "  455: 69370.0,\n",
       "  456: 68223.0,\n",
       "  457: 67012.0,\n",
       "  458: 68465.0,\n",
       "  459: 71339.0,\n",
       "  460: 72746.0,\n",
       "  461: 74948.0,\n",
       "  462: 73588.0,\n",
       "  463: 76416.0,\n",
       "  464: 73204.0,\n",
       "  465: 62636.0,\n",
       "  466: 61613.0,\n",
       "  467: 62634.0,\n",
       "  468: 66426.0,\n",
       "  469: 63274.0,\n",
       "  470: 62115.0,\n",
       "  471: 61366.0,\n",
       "  472: 59277.0,\n",
       "  473: 57906.0,\n",
       "  474: 57518.0,\n",
       "  475: 60440.0,\n",
       "  476: 56592.0,\n",
       "  477: 66086.0,\n",
       "  478: 65138.0,\n",
       "  479: 60652.0,\n",
       "  480: 59981.0,\n",
       "  481: 69333.0,\n",
       "  482: 70558.0,\n",
       "  483: 70911.0,\n",
       "  484: 72772.0,\n",
       "  485: 65601.0,\n",
       "  486: 58567.0,\n",
       "  487: 60652.0,\n",
       "  488: 63293.0,\n",
       "  489: 56340.0,\n",
       "  490: 54114.0,\n",
       "  491: 56758.0,\n",
       "  492: 76393.0,\n",
       "  493: 77407.0,\n",
       "  494: 75211.0,\n",
       "  495: 76779.0,\n",
       "  496: 76060.0,\n",
       "  497: 75005.0,\n",
       "  498: 76795.0,\n",
       "  499: 71743.0,\n",
       "  500: 78615.0,\n",
       "  501: 67227.0,\n",
       "  502: 73358.0,\n",
       "  503: 59784.0,\n",
       "  504: 69122.0,\n",
       "  505: 70046.0,\n",
       "  506: 61168.0,\n",
       "  507: 72884.0,\n",
       "  508: 62820.0,\n",
       "  509: 61543.0,\n",
       "  510: 64307.0,\n",
       "  511: 67989.0,\n",
       "  512: 68806.0,\n",
       "  513: 71736.0,\n",
       "  514: 73752.0,\n",
       "  515: 74329.0,\n",
       "  516: 55557.0,\n",
       "  517: 59364.0,\n",
       "  518: 75100.0,\n",
       "  519: 61642.0,\n",
       "  520: 62544.0,\n",
       "  521: 71149.0,\n",
       "  522: 70157.0,\n",
       "  523: 70874.0,\n",
       "  524: 69713.0,\n",
       "  525: 69935.0,\n",
       "  526: 71986.0,\n",
       "  527: 67263.0,\n",
       "  528: 59190.0,\n",
       "  529: 60731.0,\n",
       "  530: 57698.0,\n",
       "  531: 56419.0,\n",
       "  532: 61617.0,\n",
       "  533: 57923.0,\n",
       "  534: 54010.0,\n",
       "  535: 58334.0,\n",
       "  536: 55151.0,\n",
       "  537: 59802.0,\n",
       "  538: 63362.0,\n",
       "  539: 65438.0,\n",
       "  540: 64158.0,\n",
       "  541: 66588.0,\n",
       "  542: 61412.0,\n",
       "  543: 58181.0,\n",
       "  544: 55045.0,\n",
       "  545: 56301.0,\n",
       "  546: 51237.0,\n",
       "  547: 50719.0,\n",
       "  548: 56985.0,\n",
       "  549: 54678.0,\n",
       "  550: 50468.0,\n",
       "  551: 49193.0,\n",
       "  552: 46211.0,\n",
       "  553: 57705.0,\n",
       "  554: 58346.0,\n",
       "  555: 59623.0,\n",
       "  556: 58013.0,\n",
       "  557: 57009.0,\n",
       "  558: 56272.0,\n",
       "  559: 54978.0,\n",
       "  560: 55606.0,\n",
       "  561: 53854.0,\n",
       "  562: 57944.0,\n",
       "  563: 50724.0,\n",
       "  564: 53599.0,\n",
       "  565: 52624.0,\n",
       "  566: 54135.0,\n",
       "  567: 49505.0,\n",
       "  568: 47586.0,\n",
       "  569: 49878.0,\n",
       "  570: 49793.0,\n",
       "  571: 46555.0,\n",
       "  572: 57238.0,\n",
       "  573: 53076.0,\n",
       "  574: 52077.0,\n",
       "  575: 54838.0,\n",
       "  576: 50858.0,\n",
       "  577: 56404.0,\n",
       "  578: 52099.0,\n",
       "  579: 49822.0,\n",
       "  580: 55896.0,\n",
       "  581: 55842.0,\n",
       "  582: 56512.0,\n",
       "  583: 56629.0,\n",
       "  584: 57316.0,\n",
       "  585: 57499.0,\n",
       "  586: 41413.0,\n",
       "  587: 45987.0,\n",
       "  588: 50800.0,\n",
       "  589: 53643.0,\n",
       "  590: 49838.0,\n",
       "  591: 49126.0,\n",
       "  592: 50465.0,\n",
       "  593: 55925.0,\n",
       "  594: 51585.0,\n",
       "  595: 56938.0,\n",
       "  596: 38889.0,\n",
       "  597: 46915.0,\n",
       "  598: 36827.0,\n",
       "  599: 48703.0,\n",
       "  600: 41807.0,\n",
       "  601: 43469.0,\n",
       "  602: 43702.0,\n",
       "  603: 53002.0,\n",
       "  604: 53355.0,\n",
       "  605: 55997.0,\n",
       "  606: 54230.0,\n",
       "  607: 57996.0,\n",
       "  608: 55630.0,\n",
       "  609: 57903.0,\n",
       "  610: 59546.0,\n",
       "  611: 59653.0,\n",
       "  612: 46415.0,\n",
       "  613: 49336.0,\n",
       "  614: 46097.0,\n",
       "  615: 49014.0,\n",
       "  616: 49624.0,\n",
       "  617: 63561.0,\n",
       "  618: 58659.0,\n",
       "  619: 56769.0,\n",
       "  620: 54681.0,\n",
       "  621: 58717.0,\n",
       "  622: 52901.0,\n",
       "  623: 60842.0,\n",
       "  624: 61407.0,\n",
       "  625: 51582.0,\n",
       "  626: 63719.0,\n",
       "  627: 60825.0,\n",
       "  628: 63603.0,\n",
       "  629: 50190.0,\n",
       "  630: 53992.0,\n",
       "  631: 52499.0,\n",
       "  632: 69041.0,\n",
       "  633: 56562.0,\n",
       "  634: 52261.0,\n",
       "  635: 51102.0,\n",
       "  636: 51279.0,\n",
       "  637: 51613.0,\n",
       "  638: 50219.0,\n",
       "  639: 52488.0,\n",
       "  640: 52656.0,\n",
       "  641: 49767.0,\n",
       "  642: 49315.0,\n",
       "  643: 48734.0,\n",
       "  644: 47280.0,\n",
       "  645: 51993.0,\n",
       "  646: 50936.0,\n",
       "  647: 51353.0,\n",
       "  648: 49314.0,\n",
       "  649: 50318.0,\n",
       "  650: 51332.0,\n",
       "  651: 55665.0,\n",
       "  652: 55483.0,\n",
       "  653: 47867.0,\n",
       "  654: 52094.0,\n",
       "  655: 45519.0,\n",
       "  656: 58044.0,\n",
       "  657: 57604.0,\n",
       "  658: 47628.0,\n",
       "  659: 45217.0,\n",
       "  660: 44227.0,\n",
       "  661: 49246.0,\n",
       "  662: 50162.0,\n",
       "  663: 37916.0,\n",
       "  664: 97443.0,\n",
       "  665: 99394.0,\n",
       "  666: 45484.0,\n",
       "  667: 104830.0,\n",
       "  668: 106623.0,\n",
       "  669: 42605.0,\n",
       "  670: 48399.0,\n",
       "  671: 49512.0,\n",
       "  672: 37774.0,\n",
       "  673: 43367.0,\n",
       "  674: 39821.0,\n",
       "  675: 40960.0,\n",
       "  676: 41088.0,\n",
       "  677: 33700.0,\n",
       "  678: 54837.0,\n",
       "  679: 52968.0,\n",
       "  680: 55145.0,\n",
       "  681: 48293.0,\n",
       "  682: 55839.0,\n",
       "  683: 57179.0,\n",
       "  684: 51973.0,\n",
       "  685: 46801.0,\n",
       "  686: 45469.0,\n",
       "  687: 44634.0,\n",
       "  688: 42805.0,\n",
       "  689: 42469.0,\n",
       "  690: 44144.0,\n",
       "  691: 46489.0,\n",
       "  692: 41975.0,\n",
       "  693: 43209.0,\n",
       "  694: 41438.0,\n",
       "  695: 40886.0,\n",
       "  696: 42246.0,\n",
       "  697: 42975.0,\n",
       "  698: 41662.0,\n",
       "  699: 42109.0,\n",
       "  700: 43109.0,\n",
       "  701: 48245.0,\n",
       "  702: 37989.0,\n",
       "  703: 58241.0,\n",
       "  704: 59154.0,\n",
       "  705: 44148.0,\n",
       "  706: 42466.0,\n",
       "  707: 40805.0,\n",
       "  708: 48811.0,\n",
       "  709: 46530.0,\n",
       "  710: 49062.0,\n",
       "  711: 41452.0,\n",
       "  712: 42511.0,\n",
       "  713: 40421.0,\n",
       "  714: 41928.0,\n",
       "  715: 41023.0,\n",
       "  716: 39708.0,\n",
       "  717: 40124.0,\n",
       "  718: 39000.0,\n",
       "  719: 37911.0,\n",
       "  720: 38915.0,\n",
       "  721: 36882.0,\n",
       "  722: 38601.0,\n",
       "  723: 40227.0,\n",
       "  724: 41266.0,\n",
       "  725: 39310.0,\n",
       "  726: 37745.0,\n",
       "  727: 39111.0,\n",
       "  728: 36631.0,\n",
       "  729: 37344.0,\n",
       "  730: 40270.0,\n",
       "  731: 38871.0,\n",
       "  732: 40321.0,\n",
       "  733: 34759.0,\n",
       "  734: 36574.0,\n",
       "  735: 34220.0,\n",
       "  736: 35028.0,\n",
       "  737: 36366.0,\n",
       "  738: 36033.0,\n",
       "  739: 51437.0,\n",
       "  740: 46414.0,\n",
       "  741: 37084.0,\n",
       "  742: 39989.0,\n",
       "  743: 36711.0,\n",
       "  744: 35592.0,\n",
       "  745: 37144.0,\n",
       "  746: 34478.0,\n",
       "  747: 35638.0,\n",
       "  748: 36199.0,\n",
       "  749: 35204.0,\n",
       "  750: 106037.0,\n",
       "  751: 35761.0,\n",
       "  752: 35962.0,\n",
       "  753: 36809.0,\n",
       "  754: 35276.0,\n",
       "  755: 29394.0,\n",
       "  756: 34518.0,\n",
       "  757: 36656.0,\n",
       "  758: 33995.0,\n",
       "  759: 35487.0,\n",
       "  760: 33106.0,\n",
       "  761: 33654.0,\n",
       "  762: 33416.0,\n",
       "  763: 33750.0,\n",
       "  764: 31992.0,\n",
       "  765: 32220.0,\n",
       "  766: 34348.0,\n",
       "  767: 34429.0,\n",
       "  768: 31741.0,\n",
       "  769: 30793.0,\n",
       "  770: 36616.0,\n",
       "  771: 38873.0,\n",
       "  772: 35563.0,\n",
       "  773: 37029.0,\n",
       "  774: 33129.0,\n",
       "  775: 29984.0,\n",
       "  776: 30651.0,\n",
       "  777: 28531.0,\n",
       "  778: 28717.0,\n",
       "  779: 31397.0,\n",
       "  780: 38465.0,\n",
       "  781: 31365.0,\n",
       "  782: 30409.0,\n",
       "  783: 30677.0,\n",
       "  784: 30365.0,\n",
       "  785: 30064.0,\n",
       "  786: 31826.0,\n",
       "  787: 31096.0,\n",
       "  788: 28730.0,\n",
       "  789: 29854.0,\n",
       "  790: 29825.0,\n",
       "  791: 28933.0,\n",
       "  792: 29047.0,\n",
       "  793: 28368.0,\n",
       "  794: 27372.0,\n",
       "  795: 27949.0,\n",
       "  796: 29910.0,\n",
       "  797: 26970.0,\n",
       "  798: 28710.0,\n",
       "  799: 23591.0,\n",
       "  800: 27318.0,\n",
       "  801: 29124.0,\n",
       "  802: 26983.0,\n",
       "  803: 26356.0,\n",
       "  804: 31723.0,\n",
       "  805: 24591.0,\n",
       "  806: 26198.0,\n",
       "  807: 24719.0,\n",
       "  808: 23475.0,\n",
       "  809: 24479.0,\n",
       "  810: 23112.0,\n",
       "  811: 23300.0,\n",
       "  812: 19734.0,\n",
       "  813: 21524.0,\n",
       "  814: 20389.0,\n",
       "  815: 21734.0,\n",
       "  816: 20639.0,\n",
       "  817: 74222.0,\n",
       "  818: 49364.0,\n",
       "  819: 49967.0,\n",
       "  820: 46682.0,\n",
       "  821: 43898.0,\n",
       "  822: 49124.0,\n",
       "  823: 50467.0,\n",
       "  824: 47243.0,\n",
       "  825: 50005.0,\n",
       "  826: 49515.0,\n",
       "  827: 52034.0,\n",
       "  828: 48510.0,\n",
       "  829: 51684.0,\n",
       "  830: 42838.0,\n",
       "  831: 45273.0,\n",
       "  832: 43202.0,\n",
       "  833: 37962.0,\n",
       "  834: 39122.0,\n",
       "  835: 38033.0,\n",
       "  836: 46585.0,\n",
       "  837: 41321.0,\n",
       "  838: 39157.0,\n",
       "  839: 45682.0,\n",
       "  840: 44896.0,\n",
       "  841: 47459.0,\n",
       "  842: 46255.0,\n",
       "  843: 43809.0,\n",
       "  844: 42352.0,\n",
       "  845: 41714.0,\n",
       "  846: 46758.0,\n",
       "  847: 45728.0,\n",
       "  848: 56623.0,\n",
       "  849: 56190.0,\n",
       "  850: 54380.0,\n",
       "  851: 53608.0,\n",
       "  852: 51901.0,\n",
       "  853: 53985.0,\n",
       "  854: 51390.0,\n",
       "  855: 52292.0,\n",
       "  856: 49407.0,\n",
       "  857: 48740.0,\n",
       "  858: 47429.0,\n",
       "  859: 56216.0,\n",
       "  860: 52971.0,\n",
       "  861: 45539.0,\n",
       "  862: 49387.0,\n",
       "  863: 49937.0,\n",
       "  864: 51723.0,\n",
       "  865: 47778.0,\n",
       "  866: 49256.0,\n",
       "  867: 51463.0,\n",
       "  868: 50052.0,\n",
       "  869: 47530.0,\n",
       "  870: 50013.0,\n",
       "  871: 48901.0,\n",
       "  872: 51840.0,\n",
       "  873: 49915.0,\n",
       "  874: 43599.0,\n",
       "  875: 47028.0,\n",
       "  876: 45206.0,\n",
       "  877: 47441.0,\n",
       "  878: 46932.0,\n",
       "  879: 48850.0,\n",
       "  880: 45524.0,\n",
       "  881: 41270.0,\n",
       "  882: 41758.0,\n",
       "  883: 44716.0,\n",
       "  884: 45327.0,\n",
       "  885: 43871.0,\n",
       "  886: 44341.0,\n",
       "  887: 42715.0,\n",
       "  888: 43109.0,\n",
       "  889: 45354.0,\n",
       "  890: 42773.0,\n",
       "  891: 36200.0,\n",
       "  892: 34396.0,\n",
       "  893: 35564.0,\n",
       "  894: 34297.0,\n",
       "  895: 35672.0,\n",
       "  896: 29869.0,\n",
       "  897: 30343.0,\n",
       "  898: 31685.0,\n",
       "  899: 32398.0,\n",
       "  900: 30923.0,\n",
       "  901: 28142.0,\n",
       "  902: 29364.0,\n",
       "  903: 29383.0,\n",
       "  904: 33021.0,\n",
       "  905: 34749.0,\n",
       "  906: 27531.0,\n",
       "  907: 40162.0,\n",
       "  908: 42296.0,\n",
       "  909: 44376.0,\n",
       "  910: 40280.0,\n",
       "  911: 43494.0,\n",
       "  912: 37810.0,\n",
       "  913: 38477.0,\n",
       "  914: 39480.0,\n",
       "  915: 37053.0,\n",
       "  916: 40206.0,\n",
       "  917: 42546.0,\n",
       "  918: 32368.0,\n",
       "  919: 25077.0,\n",
       "  920: 25585.0,\n",
       "  921: 23773.0,\n",
       "  922: 24046.0,\n",
       "  923: 22710.0,\n",
       "  924: 27198.0,\n",
       "  925: 26511.0,\n",
       "  926: 27573.0,\n",
       "  927: 25528.0,\n",
       "  928: 26175.0,\n",
       "  929: 25910.0,\n",
       "  930: 23083.0,\n",
       "  931: 24804.0,\n",
       "  932: 21014.0,\n",
       "  933: 22189.0,\n",
       "  934: 22745.0,\n",
       "  935: 21782.0,\n",
       "  936: 20753.0,\n",
       "  937: 20454.0,\n",
       "  938: 20655.0,\n",
       "  939: 19579.0,\n",
       "  940: 23012.0,\n",
       "  941: 19181.0,\n",
       "  942: 20228.0,\n",
       "  943: 18220.0,\n",
       "  944: 24275.0,\n",
       "  945: 25170.0,\n",
       "  946: 25503.0,\n",
       "  947: 23264.0,\n",
       "  948: 25205.0,\n",
       "  949: 25789.0,\n",
       "  950: 74326.0,\n",
       "  951: 76302.0,\n",
       "  952: 27333.0,\n",
       "  953: 18210.0,\n",
       "  954: 19305.0,\n",
       "  955: 21143.0,\n",
       "  956: 16531.0,\n",
       "  957: 22254.0,\n",
       "  958: 22810.0,\n",
       "  959: 23154.0,\n",
       "  960: 23498.0,\n",
       "  961: 22980.0,\n",
       "  962: 25086.0,\n",
       "  963: 22301.0,\n",
       "  964: 22968.0,\n",
       "  965: 49836.0,\n",
       "  966: 49166.0,\n",
       "  967: 47447.0,\n",
       "  968: 49752.0,\n",
       "  969: 37591.0,\n",
       "  970: 31905.0,\n",
       "  971: 33250.0,\n",
       "  972: 33247.0,\n",
       "  973: 33081.0,\n",
       "  974: 33584.0,\n",
       "  975: 33979.0,\n",
       "  976: 31741.0,\n",
       "  977: 38515.0,\n",
       "  978: 44501.0,\n",
       "  979: 36614.0,\n",
       "  980: 37088.0,\n",
       "  981: 34796.0,\n",
       "  982: 34964.0,\n",
       "  983: 32806.0,\n",
       "  984: 34010.0,\n",
       "  985: 34428.0,\n",
       "  986: 36141.0,\n",
       "  987: 34662.0,\n",
       "  988: 35135.0,\n",
       "  989: 39408.0,\n",
       "  990: 39853.0,\n",
       "  991: 45804.0,\n",
       "  992: 31390.0,\n",
       "  993: 30747.0,\n",
       "  994: 30468.0,\n",
       "  995: 30718.0,\n",
       "  996: 31879.0,\n",
       "  997: 32767.0,\n",
       "  998: 30244.0,\n",
       "  999: 30987.0,\n",
       "  1000: 28939.0,\n",
       "  ...},\n",
       " {1: nan,\n",
       "  2: 1.0,\n",
       "  3: 4.0,\n",
       "  4: 3926.0,\n",
       "  5: 1219.0,\n",
       "  6: 5.0,\n",
       "  7: 1148.0,\n",
       "  8: 7.0,\n",
       "  9: 603.0,\n",
       "  10: 9.0,\n",
       "  11: 9.0,\n",
       "  12: 1.0,\n",
       "  13: 2.0,\n",
       "  14: 251.0,\n",
       "  15: 14.0,\n",
       "  16: 4151.0,\n",
       "  17: 16.0,\n",
       "  18: 4266.0,\n",
       "  19: 18.0,\n",
       "  20: 21.0,\n",
       "  21: 4315.0,\n",
       "  22: 20.0,\n",
       "  23: 6095.0,\n",
       "  24: 23.0,\n",
       "  25: 26.0,\n",
       "  26: 4999.0,\n",
       "  27: 2494.0,\n",
       "  28: 2494.0,\n",
       "  29: 1150.0,\n",
       "  30: 29.0,\n",
       "  31: 39.0,\n",
       "  32: 31.0,\n",
       "  33: 1730.0,\n",
       "  34: 33.0,\n",
       "  35: 33.0,\n",
       "  36: 4917.0,\n",
       "  37: 36.0,\n",
       "  38: 4691.0,\n",
       "  39: 38.0,\n",
       "  40: 4857.0,\n",
       "  41: 40.0,\n",
       "  42: 29.0,\n",
       "  43: 44.0,\n",
       "  44: 45.0,\n",
       "  45: 260442.0,\n",
       "  46: 4497.0,\n",
       "  47: 4928.0,\n",
       "  48: 2.0,\n",
       "  49: 50.0,\n",
       "  50: 5280.0,\n",
       "  51: 49.0,\n",
       "  52: 4991.0,\n",
       "  53: 52.0,\n",
       "  54: 5387.0,\n",
       "  55: 54.0,\n",
       "  56: 55.0,\n",
       "  57: 56.0,\n",
       "  58: 5411.0,\n",
       "  59: 58.0,\n",
       "  60: 61.0,\n",
       "  61: 71.0,\n",
       "  62: 1848.0,\n",
       "  63: 62.0,\n",
       "  64: 1836.0,\n",
       "  65: 64.0,\n",
       "  66: 5411.0,\n",
       "  67: 68.0,\n",
       "  68: 60.0,\n",
       "  69: 70.0,\n",
       "  70: 71.0,\n",
       "  71: 2160.0,\n",
       "  72: 6148.0,\n",
       "  73: 72.0,\n",
       "  74: 75.0,\n",
       "  75: 2463.0,\n",
       "  76: 74.0,\n",
       "  77: 78.0,\n",
       "  78: 80.0,\n",
       "  79: 77.0,\n",
       "  80: 2457.0,\n",
       "  81: 78.0,\n",
       "  82: 2755.0,\n",
       "  83: 82.0,\n",
       "  84: 82.0,\n",
       "  85: 86.0,\n",
       "  86: 87.0,\n",
       "  87: 4574.0,\n",
       "  88: 5128.0,\n",
       "  89: 88.0,\n",
       "  90: 91.0,\n",
       "  91: 88.0,\n",
       "  92: 5122.0,\n",
       "  93: 92.0,\n",
       "  94: 4972.0,\n",
       "  95: 94.0,\n",
       "  96: 217.0,\n",
       "  97: 96.0,\n",
       "  98: 96.0,\n",
       "  99: 98.0,\n",
       "  100: 233.0,\n",
       "  101: 100.0,\n",
       "  102: 1540.0,\n",
       "  103: 102.0,\n",
       "  104: 1677.0,\n",
       "  105: 104.0,\n",
       "  106: 109.0,\n",
       "  107: 106.0,\n",
       "  108: 109.0,\n",
       "  109: 110.0,\n",
       "  110: 114.0,\n",
       "  111: 106.0,\n",
       "  112: 110.0,\n",
       "  113: 115.0,\n",
       "  114: 113.0,\n",
       "  115: 189.0,\n",
       "  116: 118.0,\n",
       "  117: 116.0,\n",
       "  118: 120.0,\n",
       "  119: 118.0,\n",
       "  120: 123.0,\n",
       "  121: 5916.0,\n",
       "  122: 121.0,\n",
       "  123: 125.0,\n",
       "  124: 123.0,\n",
       "  125: 129.0,\n",
       "  126: 125.0,\n",
       "  127: 126.0,\n",
       "  128: 126.0,\n",
       "  129: 130.0,\n",
       "  130: 290.0,\n",
       "  131: 130.0,\n",
       "  132: 131.0,\n",
       "  133: 134.0,\n",
       "  134: 131.0,\n",
       "  135: 134.0,\n",
       "  136: 135.0,\n",
       "  137: 135.0,\n",
       "  138: 5941.0,\n",
       "  139: 138.0,\n",
       "  140: 138.0,\n",
       "  141: 139.0,\n",
       "  142: 139.0,\n",
       "  143: 140.0,\n",
       "  144: 143.0,\n",
       "  145: 143.0,\n",
       "  146: 140.0,\n",
       "  147: 154.0,\n",
       "  148: 147.0,\n",
       "  149: 147.0,\n",
       "  150: 146.0,\n",
       "  151: 146.0,\n",
       "  152: 304.0,\n",
       "  153: 152.0,\n",
       "  154: 5954.0,\n",
       "  155: 154.0,\n",
       "  156: 159.0,\n",
       "  157: 156.0,\n",
       "  158: 156.0,\n",
       "  159: 496.0,\n",
       "  160: 159.0,\n",
       "  161: 162.0,\n",
       "  162: 503.0,\n",
       "  163: 161.0,\n",
       "  164: 230.0,\n",
       "  165: 164.0,\n",
       "  166: 167.0,\n",
       "  167: 175.0,\n",
       "  168: 4733.0,\n",
       "  169: 168.0,\n",
       "  170: 166.0,\n",
       "  171: 166.0,\n",
       "  172: 171.0,\n",
       "  173: 181.0,\n",
       "  174: 173.0,\n",
       "  175: 176.0,\n",
       "  176: 191.0,\n",
       "  177: 172.0,\n",
       "  178: 174.0,\n",
       "  179: 186.0,\n",
       "  180: 179.0,\n",
       "  181: 202.0,\n",
       "  182: 181.0,\n",
       "  183: 182.0,\n",
       "  184: 182.0,\n",
       "  185: 183.0,\n",
       "  186: 198.0,\n",
       "  187: 176.0,\n",
       "  188: 289.0,\n",
       "  189: 188.0,\n",
       "  190: 188.0,\n",
       "  191: 192.0,\n",
       "  192: 190.0,\n",
       "  193: 194.0,\n",
       "  194: 197.0,\n",
       "  195: 194.0,\n",
       "  196: 295.0,\n",
       "  197: 196.0,\n",
       "  198: 195.0,\n",
       "  199: 195.0,\n",
       "  200: 193.0,\n",
       "  201: 200.0,\n",
       "  202: 196.0,\n",
       "  203: 208.0,\n",
       "  204: 203.0,\n",
       "  205: 196.0,\n",
       "  206: 205.0,\n",
       "  207: 264.0,\n",
       "  208: 209.0,\n",
       "  209: 210.0,\n",
       "  210: 298.0,\n",
       "  211: 210.0,\n",
       "  212: 211.0,\n",
       "  213: 212.0,\n",
       "  214: 213.0,\n",
       "  215: 184.0,\n",
       "  216: 215.0,\n",
       "  217: 216.0,\n",
       "  218: 215.0,\n",
       "  219: 218.0,\n",
       "  220: 217.0,\n",
       "  221: 232.0,\n",
       "  222: 223.0,\n",
       "  223: 225.0,\n",
       "  224: 218.0,\n",
       "  225: 227.0,\n",
       "  226: 225.0,\n",
       "  227: 228.0,\n",
       "  228: 229.0,\n",
       "  229: 256.0,\n",
       "  230: 34.0,\n",
       "  231: 221.0,\n",
       "  232: 222.0,\n",
       "  233: 232.0,\n",
       "  234: 233.0,\n",
       "  235: 234.0,\n",
       "  236: 235.0,\n",
       "  237: 222.0,\n",
       "  238: 235.0,\n",
       "  239: 236.0,\n",
       "  240: 239.0,\n",
       "  241: 239.0,\n",
       "  242: 245.0,\n",
       "  243: 242.0,\n",
       "  244: 242.0,\n",
       "  245: 240.0,\n",
       "  246: 245.0,\n",
       "  247: 240.0,\n",
       "  248: 246.0,\n",
       "  249: 35.0,\n",
       "  250: 101.0,\n",
       "  251: 273.0,\n",
       "  252: 251.0,\n",
       "  253: 204.0,\n",
       "  254: 253.0,\n",
       "  255: 276.0,\n",
       "  256: 260.0,\n",
       "  257: 256.0,\n",
       "  258: 257.0,\n",
       "  259: 257.0,\n",
       "  260: 270.0,\n",
       "  261: 231.0,\n",
       "  262: 260.0,\n",
       "  263: 207.0,\n",
       "  264: 214.0,\n",
       "  265: 263.0,\n",
       "  266: 214.0,\n",
       "  267: 266.0,\n",
       "  268: 267.0,\n",
       "  269: 282.0,\n",
       "  270: 281.0,\n",
       "  271: 279.0,\n",
       "  272: 271.0,\n",
       "  273: 274.0,\n",
       "  274: 255.0,\n",
       "  275: 274.0,\n",
       "  276: 278.0,\n",
       "  277: 276.0,\n",
       "  278: 271.0,\n",
       "  279: 280.0,\n",
       "  280: 282.0,\n",
       "  281: 269.0,\n",
       "  282: 283.0,\n",
       "  283: 284.0,\n",
       "  284: 391.0,\n",
       "  285: 280.0,\n",
       "  286: 280.0,\n",
       "  287: 286.0,\n",
       "  288: 287.0,\n",
       "  289: 293.0,\n",
       "  290: 291.0,\n",
       "  291: 307.0,\n",
       "  292: 293.0,\n",
       "  293: 306.0,\n",
       "  294: 297.0,\n",
       "  295: 294.0,\n",
       "  296: 294.0,\n",
       "  297: 343.0,\n",
       "  298: 299.0,\n",
       "  299: 296.0,\n",
       "  300: 298.0,\n",
       "  301: 296.0,\n",
       "  302: 211.0,\n",
       "  303: 213.0,\n",
       "  304: 305.0,\n",
       "  305: 316.0,\n",
       "  306: 291.0,\n",
       "  307: 308.0,\n",
       "  308: 310.0,\n",
       "  309: 307.0,\n",
       "  310: 313.0,\n",
       "  311: 310.0,\n",
       "  312: 311.0,\n",
       "  313: 318.0,\n",
       "  314: 321.0,\n",
       "  315: 314.0,\n",
       "  316: 314.0,\n",
       "  317: 321.0,\n",
       "  318: 320.0,\n",
       "  319: 318.0,\n",
       "  320: 342.0,\n",
       "  321: 319.0,\n",
       "  322: 330.0,\n",
       "  323: 322.0,\n",
       "  324: 304.0,\n",
       "  325: 324.0,\n",
       "  326: 163.0,\n",
       "  327: 324.0,\n",
       "  328: 327.0,\n",
       "  329: 327.0,\n",
       "  330: 305.0,\n",
       "  331: 317.0,\n",
       "  332: 331.0,\n",
       "  333: 330.0,\n",
       "  334: 333.0,\n",
       "  335: 331.0,\n",
       "  336: 335.0,\n",
       "  337: 338.0,\n",
       "  338: 339.0,\n",
       "  339: 625.0,\n",
       "  340: 335.0,\n",
       "  341: 342.0,\n",
       "  342: 345.0,\n",
       "  343: 320.0,\n",
       "  344: 346.0,\n",
       "  345: 347.0,\n",
       "  346: 345.0,\n",
       "  347: 349.0,\n",
       "  348: 346.0,\n",
       "  349: 364.0,\n",
       "  350: 348.0,\n",
       "  351: 350.0,\n",
       "  352: 354.0,\n",
       "  353: 352.0,\n",
       "  354: 350.0,\n",
       "  355: 354.0,\n",
       "  356: 355.0,\n",
       "  357: 355.0,\n",
       "  358: 361.0,\n",
       "  359: 358.0,\n",
       "  360: 358.0,\n",
       "  361: 362.0,\n",
       "  362: 364.0,\n",
       "  363: 361.0,\n",
       "  364: 365.0,\n",
       "  365: 366.0,\n",
       "  366: 659.0,\n",
       "  367: 348.0,\n",
       "  368: 367.0,\n",
       "  369: 367.0,\n",
       "  370: 369.0,\n",
       "  371: 369.0,\n",
       "  372: 659.0,\n",
       "  373: 372.0,\n",
       "  374: 266.0,\n",
       "  375: 374.0,\n",
       "  376: 378.0,\n",
       "  377: 376.0,\n",
       "  378: 382.0,\n",
       "  379: 283.0,\n",
       "  380: 381.0,\n",
       "  381: 382.0,\n",
       "  382: 384.0,\n",
       "  383: 378.0,\n",
       "  384: 385.0,\n",
       "  385: 388.0,\n",
       "  386: 385.0,\n",
       "  387: 386.0,\n",
       "  388: 402.0,\n",
       "  389: 388.0,\n",
       "  390: 389.0,\n",
       "  391: 393.0,\n",
       "  392: 391.0,\n",
       "  393: 394.0,\n",
       "  394: 402.0,\n",
       "  395: 394.0,\n",
       "  396: 397.0,\n",
       "  397: 398.0,\n",
       "  398: 408.0,\n",
       "  399: 397.0,\n",
       "  400: 405.0,\n",
       "  401: 400.0,\n",
       "  402: 403.0,\n",
       "  403: 404.0,\n",
       "  404: 435.0,\n",
       "  405: 403.0,\n",
       "  406: 404.0,\n",
       "  407: 400.0,\n",
       "  408: 1886.0,\n",
       "  409: 415.0,\n",
       "  410: 409.0,\n",
       "  411: 409.0,\n",
       "  412: 389.0,\n",
       "  413: 428.0,\n",
       "  414: 413.0,\n",
       "  415: 368.0,\n",
       "  416: 415.0,\n",
       "  417: 368.0,\n",
       "  418: 420.0,\n",
       "  419: 422.0,\n",
       "  420: 432.0,\n",
       "  421: 419.0,\n",
       "  422: 423.0,\n",
       "  423: 430.0,\n",
       "  424: 2665.0,\n",
       "  425: 424.0,\n",
       "  426: 472.0,\n",
       "  427: 426.0,\n",
       "  428: 430.0,\n",
       "  429: 428.0,\n",
       "  430: 432.0,\n",
       "  431: 473.0,\n",
       "  432: 431.0,\n",
       "  433: 437.0,\n",
       "  434: 433.0,\n",
       "  435: 436.0,\n",
       "  436: 469.0,\n",
       "  437: 438.0,\n",
       "  438: 465.0,\n",
       "  439: 437.0,\n",
       "  440: 438.0,\n",
       "  441: 444.0,\n",
       "  442: 406.0,\n",
       "  443: 441.0,\n",
       "  444: 445.0,\n",
       "  445: 1982.0,\n",
       "  446: 469.0,\n",
       "  447: 446.0,\n",
       "  448: 477.0,\n",
       "  449: 448.0,\n",
       "  450: 449.0,\n",
       "  451: 457.0,\n",
       "  452: 453.0,\n",
       "  453: 446.0,\n",
       "  454: 451.0,\n",
       "  455: 454.0,\n",
       "  456: 451.0,\n",
       "  457: 452.0,\n",
       "  458: 454.0,\n",
       "  459: 481.0,\n",
       "  460: 459.0,\n",
       "  461: 462.0,\n",
       "  462: 483.0,\n",
       "  463: 461.0,\n",
       "  464: 459.0,\n",
       "  465: 466.0,\n",
       "  466: 426.0,\n",
       "  467: 466.0,\n",
       "  468: 436.0,\n",
       "  469: 470.0,\n",
       "  470: 471.0,\n",
       "  471: 475.0,\n",
       "  472: 431.0,\n",
       "  473: 474.0,\n",
       "  474: 476.0,\n",
       "  475: 474.0,\n",
       "  476: 849.0,\n",
       "  477: 453.0,\n",
       "  478: 2017.0,\n",
       "  479: 480.0,\n",
       "  480: 848.0,\n",
       "  481: 457.0,\n",
       "  482: 481.0,\n",
       "  483: 482.0,\n",
       "  484: 483.0,\n",
       "  485: 1992.0,\n",
       "  486: 489.0,\n",
       "  487: 486.0,\n",
       "  488: 486.0,\n",
       "  489: 490.0,\n",
       "  490: 860.0,\n",
       "  491: 489.0,\n",
       "  492: 496.0,\n",
       "  493: 492.0,\n",
       "  494: 501.0,\n",
       "  495: 494.0,\n",
       "  496: 497.0,\n",
       "  497: 499.0,\n",
       "  498: 492.0,\n",
       "  499: 162.0,\n",
       "  500: 494.0,\n",
       "  501: 506.0,\n",
       "  502: 499.0,\n",
       "  503: 619.0,\n",
       "  504: 501.0,\n",
       "  505: 504.0,\n",
       "  506: 618.0,\n",
       "  507: 504.0,\n",
       "  508: 509.0,\n",
       "  509: 503.0,\n",
       "  510: 627.0,\n",
       "  511: 510.0,\n",
       "  512: 511.0,\n",
       "  513: 511.0,\n",
       "  514: 507.0,\n",
       "  515: 514.0,\n",
       "  516: 630.0,\n",
       "  517: 516.0,\n",
       "  518: 507.0,\n",
       "  519: 528.0,\n",
       "  520: 519.0,\n",
       "  521: 523.0,\n",
       "  522: 525.0,\n",
       "  523: 539.0,\n",
       "  524: 527.0,\n",
       "  525: 524.0,\n",
       "  526: 522.0,\n",
       "  527: 540.0,\n",
       "  528: 530.0,\n",
       "  529: 528.0,\n",
       "  530: 516.0,\n",
       "  531: 534.0,\n",
       "  532: 531.0,\n",
       "  533: 531.0,\n",
       "  534: 547.0,\n",
       "  535: 536.0,\n",
       "  536: 549.0,\n",
       "  537: 533.0,\n",
       "  538: 542.0,\n",
       "  539: 538.0,\n",
       "  540: 542.0,\n",
       "  541: 540.0,\n",
       "  542: 543.0,\n",
       "  543: 553.0,\n",
       "  544: 546.0,\n",
       "  545: 544.0,\n",
       "  546: 551.0,\n",
       "  547: 550.0,\n",
       "  548: 544.0,\n",
       "  549: 547.0,\n",
       "  550: 551.0,\n",
       "  551: 552.0,\n",
       "  552: 1035.0,\n",
       "  553: 557.0,\n",
       "  554: 556.0,\n",
       "  555: 577.0,\n",
       "  556: 557.0,\n",
       "  557: 558.0,\n",
       "  558: 559.0,\n",
       "  559: 561.0,\n",
       "  560: 564.0,\n",
       "  561: 573.0,\n",
       "  562: 558.0,\n",
       "  563: 567.0,\n",
       "  564: 563.0,\n",
       "  565: 574.0,\n",
       "  566: 565.0,\n",
       "  567: 568.0,\n",
       "  568: 571.0,\n",
       "  569: 567.0,\n",
       "  570: 568.0,\n",
       "  571: 552.0,\n",
       "  572: 561.0,\n",
       "  573: 565.0,\n",
       "  574: 569.0,\n",
       "  575: 573.0,\n",
       "  576: 570.0,\n",
       "  577: 578.0,\n",
       "  578: 579.0,\n",
       "  579: 591.0,\n",
       "  580: 575.0,\n",
       "  581: 575.0,\n",
       "  582: 581.0,\n",
       "  583: 581.0,\n",
       "  584: 583.0,\n",
       "  585: 583.0,\n",
       "  586: 596.0,\n",
       "  587: 586.0,\n",
       "  588: 592.0,\n",
       "  589: 588.0,\n",
       "  590: 591.0,\n",
       "  591: 587.0,\n",
       "  592: 590.0,\n",
       "  593: 592.0,\n",
       "  594: 588.0,\n",
       "  595: 594.0,\n",
       "  596: 598.0,\n",
       "  597: 1040.0,\n",
       "  598: 1147.0,\n",
       "  599: 587.0,\n",
       "  600: 596.0,\n",
       "  601: 600.0,\n",
       "  602: 600.0,\n",
       "  603: 594.0,\n",
       "  604: 603.0,\n",
       "  605: 604.0,\n",
       "  606: 604.0,\n",
       "  607: 605.0,\n",
       "  608: 606.0,\n",
       "  609: 605.0,\n",
       "  610: 607.0,\n",
       "  611: 609.0,\n",
       "  612: 586.0,\n",
       "  613: 602.0,\n",
       "  614: 602.0,\n",
       "  615: 614.0,\n",
       "  616: 615.0,\n",
       "  617: 509.0,\n",
       "  618: 620.0,\n",
       "  619: 622.0,\n",
       "  620: 622.0,\n",
       "  621: 619.0,\n",
       "  622: 631.0,\n",
       "  623: 621.0,\n",
       "  624: 621.0,\n",
       "  625: 636.0,\n",
       "  626: 506.0,\n",
       "  627: 618.0,\n",
       "  628: 627.0,\n",
       "  629: 681.0,\n",
       "  630: 629.0,\n",
       "  631: 634.0,\n",
       "  632: 334.0,\n",
       "  633: 620.0,\n",
       "  634: 635.0,\n",
       "  635: 638.0,\n",
       "  636: 635.0,\n",
       "  637: 635.0,\n",
       "  638: 641.0,\n",
       "  639: 637.0,\n",
       "  640: 639.0,\n",
       "  641: 642.0,\n",
       "  642: 643.0,\n",
       "  643: 644.0,\n",
       "  644: 666.0,\n",
       "  645: 681.0,\n",
       "  646: 642.0,\n",
       "  647: 646.0,\n",
       "  648: 685.0,\n",
       "  649: 648.0,\n",
       "  650: 649.0,\n",
       "  651: 363.0,\n",
       "  652: 363.0,\n",
       "  653: 655.0,\n",
       "  654: 365.0,\n",
       "  655: 660.0,\n",
       "  656: 652.0,\n",
       "  657: 652.0,\n",
       "  658: 655.0,\n",
       "  659: 660.0,\n",
       "  660: 663.0,\n",
       "  661: 372.0,\n",
       "  662: 373.0,\n",
       "  663: 677.0,\n",
       "  664: 6025.0,\n",
       "  665: 664.0,\n",
       "  666: 669.0,\n",
       "  667: 5965.0,\n",
       "  668: 667.0,\n",
       "  669: 672.0,\n",
       "  670: 666.0,\n",
       "  671: 670.0,\n",
       "  672: 749.0,\n",
       "  673: 669.0,\n",
       "  674: 663.0,\n",
       "  675: 674.0,\n",
       "  676: 674.0,\n",
       "  677: 755.0,\n",
       "  678: 630.0,\n",
       "  679: 629.0,\n",
       "  680: 679.0,\n",
       "  681: 685.0,\n",
       "  682: 549.0,\n",
       "  683: 682.0,\n",
       "  684: 681.0,\n",
       "  685: 686.0,\n",
       "  686: 687.0,\n",
       "  687: 688.0,\n",
       "  688: 699.0,\n",
       "  689: 694.0,\n",
       "  690: 689.0,\n",
       "  691: 687.0,\n",
       "  692: 695.0,\n",
       "  693: 692.0,\n",
       "  694: 718.0,\n",
       "  695: 717.0,\n",
       "  696: 698.0,\n",
       "  697: 696.0,\n",
       "  698: 702.0,\n",
       "  699: 694.0,\n",
       "  700: 699.0,\n",
       "  701: 698.0,\n",
       "  702: 741.0,\n",
       "  703: 683.0,\n",
       "  704: 683.0,\n",
       "  705: 707.0,\n",
       "  706: 711.0,\n",
       "  707: 717.0,\n",
       "  708: 709.0,\n",
       "  709: 1037.0,\n",
       "  710: 708.0,\n",
       "  711: 713.0,\n",
       "  712: 711.0,\n",
       "  713: 725.0,\n",
       "  714: 715.0,\n",
       "  715: 731.0,\n",
       "  716: 731.0,\n",
       "  717: 718.0,\n",
       "  718: 719.0,\n",
       "  719: 721.0,\n",
       "  720: 719.0,\n",
       "  721: 728.0,\n",
       "  722: 721.0,\n",
       "  723: 722.0,\n",
       "  724: 713.0,\n",
       "  725: 726.0,\n",
       "  726: 729.0,\n",
       "  727: 726.0,\n",
       "  728: 733.0,\n",
       "  729: 728.0,\n",
       "  730: 716.0,\n",
       "  731: 733.0,\n",
       "  732: 725.0,\n",
       "  733: 1049.0,\n",
       "  734: 772.0,\n",
       "  735: 779.0,\n",
       "  736: 735.0,\n",
       "  737: 736.0,\n",
       "  738: 736.0,\n",
       "  739: 701.0,\n",
       "  740: 673.0,\n",
       "  741: 743.0,\n",
       "  742: 702.0,\n",
       "  743: 744.0,\n",
       "  744: 746.0,\n",
       "  745: 743.0,\n",
       "  746: 774.0,\n",
       "  747: 746.0,\n",
       "  748: 746.0,\n",
       "  749: 677.0,\n",
       "  750: 667.0,\n",
       "  751: 749.0,\n",
       "  752: 751.0,\n",
       "  753: 752.0,\n",
       "  754: 677.0,\n",
       "  755: 901.0,\n",
       "  756: 760.0,\n",
       "  757: 756.0,\n",
       "  758: 760.0,\n",
       "  759: 758.0,\n",
       "  760: 764.0,\n",
       "  761: 762.0,\n",
       "  762: 764.0,\n",
       "  763: 765.0,\n",
       "  764: 768.0,\n",
       "  765: 898.0,\n",
       "  766: 758.0,\n",
       "  767: 763.0,\n",
       "  768: 769.0,\n",
       "  769: 801.0,\n",
       "  770: 744.0,\n",
       "  771: 773.0,\n",
       "  772: 735.0,\n",
       "  773: 772.0,\n",
       "  774: 784.0,\n",
       "  775: 778.0,\n",
       "  776: 775.0,\n",
       "  777: 794.0,\n",
       "  778: 794.0,\n",
       "  779: 1080.0,\n",
       "  780: 773.0,\n",
       "  781: 784.0,\n",
       "  782: 788.0,\n",
       "  783: 782.0,\n",
       "  784: 789.0,\n",
       "  785: 788.0,\n",
       "  786: 785.0,\n",
       "  787: 782.0,\n",
       "  788: 1087.0,\n",
       "  789: 791.0,\n",
       "  790: 792.0,\n",
       "  791: 1087.0,\n",
       "  792: 793.0,\n",
       "  793: 795.0,\n",
       "  794: 797.0,\n",
       "  795: 1090.0,\n",
       "  796: 778.0,\n",
       "  797: 799.0,\n",
       "  798: 800.0,\n",
       "  799: 1102.0,\n",
       "  800: 802.0,\n",
       "  801: 800.0,\n",
       "  802: 803.0,\n",
       "  803: 807.0,\n",
       "  804: 903.0,\n",
       "  805: 799.0,\n",
       "  806: 805.0,\n",
       "  807: 1102.0,\n",
       "  808: 810.0,\n",
       "  809: 921.0,\n",
       "  810: 816.0,\n",
       "  811: 932.0,\n",
       "  812: 1107.0,\n",
       "  813: 812.0,\n",
       "  814: 1107.0,\n",
       "  815: 814.0,\n",
       "  816: 812.0,\n",
       "  817: 417.0,\n",
       "  818: 820.0,\n",
       "  819: 818.0,\n",
       "  820: 821.0,\n",
       "  821: 676.0,\n",
       "  822: 839.0,\n",
       "  823: 822.0,\n",
       "  824: 840.0,\n",
       "  825: 824.0,\n",
       "  826: 828.0,\n",
       "  827: 826.0,\n",
       "  828: 824.0,\n",
       "  829: 826.0,\n",
       "  830: 676.0,\n",
       "  831: 821.0,\n",
       "  832: 837.0,\n",
       "  833: 891.0,\n",
       "  834: 833.0,\n",
       "  835: 893.0,\n",
       "  836: 831.0,\n",
       "  837: 835.0,\n",
       "  838: 835.0,\n",
       "  839: 840.0,\n",
       "  840: 832.0,\n",
       "  841: 842.0,\n",
       "  842: 843.0,\n",
       "  843: 844.0,\n",
       "  844: 837.0,\n",
       "  845: 838.0,\n",
       "  846: 842.0,\n",
       "  847: 911.0,\n",
       "  848: 849.0,\n",
       "  849: 850.0,\n",
       "  850: 852.0,\n",
       "  851: 829.0,\n",
       "  852: 854.0,\n",
       "  853: 852.0,\n",
       "  854: 857.0,\n",
       "  855: 829.0,\n",
       "  856: 858.0,\n",
       "  857: 861.0,\n",
       "  858: 876.0,\n",
       "  859: 490.0,\n",
       "  860: 863.0,\n",
       "  861: 876.0,\n",
       "  862: 865.0,\n",
       "  863: 862.0,\n",
       "  864: 863.0,\n",
       "  865: 861.0,\n",
       "  866: 841.0,\n",
       "  867: 866.0,\n",
       "  868: 866.0,\n",
       "  869: 874.0,\n",
       "  870: 871.0,\n",
       "  871: 875.0,\n",
       "  872: 870.0,\n",
       "  873: 871.0,\n",
       "  874: 882.0,\n",
       "  875: 911.0,\n",
       "  876: 874.0,\n",
       "  877: 886.0,\n",
       "  878: 880.0,\n",
       "  879: 2364.0,\n",
       "  880: 883.0,\n",
       "  881: 977.0,\n",
       "  882: 881.0,\n",
       "  883: 885.0,\n",
       "  884: 883.0,\n",
       "  885: 888.0,\n",
       "  886: 887.0,\n",
       "  887: 881.0,\n",
       "  888: 890.0,\n",
       "  889: 885.0,\n",
       "  890: 990.0,\n",
       "  891: 754.0,\n",
       "  892: 904.0,\n",
       "  893: 894.0,\n",
       "  894: 904.0,\n",
       "  895: 894.0,\n",
       "  896: 755.0,\n",
       "  897: 896.0,\n",
       "  898: 900.0,\n",
       "  899: 898.0,\n",
       "  900: 902.0,\n",
       "  901: 906.0,\n",
       "  902: 901.0,\n",
       "  903: 906.0,\n",
       "  904: 896.0,\n",
       "  905: 892.0,\n",
       "  906: 924.0,\n",
       "  907: 838.0,\n",
       "  908: 910.0,\n",
       "  909: 908.0,\n",
       "  910: 913.0,\n",
       "  911: 917.0,\n",
       "  912: 895.0,\n",
       "  913: 912.0,\n",
       "  914: 912.0,\n",
       "  915: 895.0,\n",
       "  916: 913.0,\n",
       "  917: 916.0,\n",
       "  918: 900.0,\n",
       "  919: 930.0,\n",
       "  920: 919.0,\n",
       "  921: 811.0,\n",
       "  922: 923.0,\n",
       "  923: 935.0,\n",
       "  924: 925.0,\n",
       "  925: 927.0,\n",
       "  926: 925.0,\n",
       "  927: 919.0,\n",
       "  928: 945.0,\n",
       "  929: 927.0,\n",
       "  930: 923.0,\n",
       "  931: 921.0,\n",
       "  932: 1227.0,\n",
       "  933: 936.0,\n",
       "  934: 933.0,\n",
       "  935: 936.0,\n",
       "  936: 941.0,\n",
       "  937: 939.0,\n",
       "  938: 937.0,\n",
       "  939: 943.0,\n",
       "  940: 937.0,\n",
       "  941: 1230.0,\n",
       "  942: 939.0,\n",
       "  943: 1230.0,\n",
       "  944: 947.0,\n",
       "  945: 947.0,\n",
       "  946: 945.0,\n",
       "  947: 955.0,\n",
       "  948: 957.0,\n",
       "  949: 959.0,\n",
       "  950: 3354.0,\n",
       "  951: 950.0,\n",
       "  952: 1002.0,\n",
       "  953: 956.0,\n",
       "  954: 953.0,\n",
       "  955: 953.0,\n",
       "  956: 1235.0,\n",
       "  957: 955.0,\n",
       "  958: 957.0,\n",
       "  959: 958.0,\n",
       "  960: 959.0,\n",
       "  961: 963.0,\n",
       "  962: 964.0,\n",
       "  963: 1246.0,\n",
       "  964: 963.0,\n",
       "  965: 966.0,\n",
       "  966: 875.0,\n",
       "  967: 875.0,\n",
       "  968: 966.0,\n",
       "  969: 980.0,\n",
       "  970: 992.0,\n",
       "  971: 970.0,\n",
       "  972: 970.0,\n",
       "  973: 976.0,\n",
       "  974: 973.0,\n",
       "  975: 983.0,\n",
       "  976: 995.0,\n",
       "  977: 969.0,\n",
       "  978: 888.0,\n",
       "  979: 988.0,\n",
       "  980: 979.0,\n",
       "  981: 975.0,\n",
       "  982: 981.0,\n",
       "  983: 976.0,\n",
       "  984: 983.0,\n",
       "  985: 984.0,\n",
       "  986: 987.0,\n",
       "  987: 996.0,\n",
       "  988: 987.0,\n",
       "  989: 977.0,\n",
       "  990: 989.0,\n",
       "  991: 990.0,\n",
       "  992: 993.0,\n",
       "  993: 994.0,\n",
       "  994: 998.0,\n",
       "  995: 994.0,\n",
       "  996: 995.0,\n",
       "  997: 996.0,\n",
       "  998: 1000.0,\n",
       "  999: 1003.0,\n",
       "  1000: 952.0,\n",
       "  ...}]"
      ]
     },
     "execution_count": 49,
     "metadata": {},
     "output_type": "execute_result"
    }
   ],
   "source": [
    "results_list"
   ]
  },
  {
   "cell_type": "code",
   "execution_count": 34,
   "metadata": {},
   "outputs": [],
   "source": [
    "results.loc[len(results)] = results_list"
   ]
  },
  {
   "cell_type": "code",
   "execution_count": 38,
   "metadata": {
    "application/vnd.databricks.v1+cell": {
     "cellMetadata": {
      "byteLimit": 2048000,
      "rowLimit": 10000
     },
     "inputWidgets": {},
     "nuid": "085ce8a1-c0b4-44ea-a1fe-f98c6ffbea8b",
     "showTitle": false,
     "title": ""
    }
   },
   "outputs": [
    {
     "data": {
      "text/html": [
       "<div>\n",
       "<style scoped>\n",
       "    .dataframe tbody tr th:only-of-type {\n",
       "        vertical-align: middle;\n",
       "    }\n",
       "\n",
       "    .dataframe tbody tr th {\n",
       "        vertical-align: top;\n",
       "    }\n",
       "\n",
       "    .dataframe thead th {\n",
       "        text-align: right;\n",
       "    }\n",
       "</style>\n",
       "<table border=\"1\" class=\"dataframe\">\n",
       "  <thead>\n",
       "    <tr style=\"text-align: right;\">\n",
       "      <th></th>\n",
       "      <th>1</th>\n",
       "    </tr>\n",
       "  </thead>\n",
       "  <tbody>\n",
       "    <tr>\n",
       "      <th>instancia</th>\n",
       "      <td>new_york</td>\n",
       "    </tr>\n",
       "    <tr>\n",
       "      <th>n</th>\n",
       "      <td>264346</td>\n",
       "    </tr>\n",
       "    <tr>\n",
       "      <th>m</th>\n",
       "      <td>365050</td>\n",
       "    </tr>\n",
       "    <tr>\n",
       "      <th>algoritmo</th>\n",
       "      <td>Dijkstra</td>\n",
       "    </tr>\n",
       "    <tr>\n",
       "      <th>custo</th>\n",
       "      <td>186686642878.0</td>\n",
       "    </tr>\n",
       "    <tr>\n",
       "      <th>tempo</th>\n",
       "      <td>6347.335877</td>\n",
       "    </tr>\n",
       "    <tr>\n",
       "      <th>resultado</th>\n",
       "      <td>{1: 0.0, 2: 803.0, 3: 50999.0, 4: 50841.0, 5: ...</td>\n",
       "    </tr>\n",
       "    <tr>\n",
       "      <th>anteriores</th>\n",
       "      <td>{1: nan, 2: 1.0, 3: 4.0, 4: 3926.0, 5: 1219.0,...</td>\n",
       "    </tr>\n",
       "  </tbody>\n",
       "</table>\n",
       "</div>"
      ],
      "text/plain": [
       "                                                            1\n",
       "instancia                                            new_york\n",
       "n                                                      264346\n",
       "m                                                      365050\n",
       "algoritmo                                            Dijkstra\n",
       "custo                                          186686642878.0\n",
       "tempo                                             6347.335877\n",
       "resultado   {1: 0.0, 2: 803.0, 3: 50999.0, 4: 50841.0, 5: ...\n",
       "anteriores  {1: nan, 2: 1.0, 3: 4.0, 4: 3926.0, 5: 1219.0,..."
      ]
     },
     "execution_count": 38,
     "metadata": {},
     "output_type": "execute_result"
    }
   ],
   "source": [
    "results.query(\"instancia == 'new_york' and algoritmo == 'Dijkstra'\").transpose()"
   ]
  },
  {
   "attachments": {},
   "cell_type": "markdown",
   "metadata": {
    "application/vnd.databricks.v1+cell": {
     "cellMetadata": {},
     "inputWidgets": {},
     "nuid": "97f6f3c7-6f3e-46f4-9608-33a5cb825fc5",
     "showTitle": false,
     "title": ""
    }
   },
   "source": [
    "## San Francisco"
   ]
  },
  {
   "cell_type": "code",
   "execution_count": 50,
   "metadata": {
    "application/vnd.databricks.v1+cell": {
     "cellMetadata": {
      "byteLimit": 2048000,
      "rowLimit": 10000
     },
     "inputWidgets": {},
     "nuid": "63c3bb01-1cc6-4abc-94fd-42c8f0ed7f27",
     "showTitle": false,
     "title": ""
    }
   },
   "outputs": [],
   "source": [
    "graph = read_gr_graph(\"data/\" + san_path.replace(\".gz\", \"\"))"
   ]
  },
  {
   "cell_type": "code",
   "execution_count": 51,
   "metadata": {
    "application/vnd.databricks.v1+cell": {
     "cellMetadata": {
      "byteLimit": 2048000,
      "rowLimit": 10000
     },
     "inputWidgets": {},
     "nuid": "e7fa8fdb-2c6b-4076-88b5-e25e51da7f74",
     "showTitle": false,
     "title": ""
    }
   },
   "outputs": [],
   "source": [
    "graph_sa = nx.to_dict_of_dicts(graph)"
   ]
  },
  {
   "cell_type": "code",
   "execution_count": 52,
   "metadata": {
    "application/vnd.databricks.v1+cell": {
     "cellMetadata": {
      "byteLimit": 2048000,
      "rowLimit": 10000
     },
     "inputWidgets": {},
     "nuid": "dd91252c-114a-4760-9242-231660e1a269",
     "showTitle": false,
     "title": ""
    }
   },
   "outputs": [
    {
     "data": {
      "text/plain": [
       "(397415, 321270)"
      ]
     },
     "execution_count": 52,
     "metadata": {},
     "output_type": "execute_result"
    }
   ],
   "source": [
    "graph.number_of_edges(), graph.number_of_nodes()"
   ]
  },
  {
   "cell_type": "code",
   "execution_count": 53,
   "metadata": {
    "application/vnd.databricks.v1+cell": {
     "cellMetadata": {
      "byteLimit": 2048000,
      "rowLimit": 10000
     },
     "inputWidgets": {},
     "nuid": "6dd3b4f1-e325-4f5f-ba12-2ac58f2efe40",
     "showTitle": false,
     "title": ""
    }
   },
   "outputs": [],
   "source": [
    "graph_sa = {\n",
    "    node1: {node2: subdict[\"weight\"] for node2, subdict in nested_dict.items()}\n",
    "    for node1, nested_dict in graph_sa.items()\n",
    "}"
   ]
  },
  {
   "cell_type": "code",
   "execution_count": 60,
   "metadata": {
    "application/vnd.databricks.v1+cell": {
     "cellMetadata": {
      "byteLimit": 2048000,
      "rowLimit": 10000
     },
     "inputWidgets": {},
     "nuid": "7ade815b-a4af-4b23-9401-3fbc061d34de",
     "showTitle": false,
     "title": ""
    }
   },
   "outputs": [
    {
     "name": "stdout",
     "output_type": "stream",
     "text": [
      "Time between function executions: 10948.876281 seconds\n"
     ]
    }
   ],
   "source": [
    "start_node = \"1\"\n",
    "start_time = time.time()\n",
    "distances, previous = dijkstra(graph_sa, start_node)\n",
    "end_time = time.time()\n",
    "print(\"Time between function executions:\", end_time - start_time, \"seconds\")"
   ]
  },
  {
   "cell_type": "code",
   "execution_count": 65,
   "metadata": {
    "application/vnd.databricks.v1+cell": {
     "cellMetadata": {
      "byteLimit": 2048000,
      "rowLimit": 10000
     },
     "inputWidgets": {},
     "nuid": "610533d1-1ed4-4046-a39f-bb5d637b59b4",
     "showTitle": false,
     "title": ""
    }
   },
   "outputs": [],
   "source": [
    "results_list = [\n",
    "    \"san_francisco\",\n",
    "    graph.number_of_nodes(),\n",
    "    graph.number_of_edges(),\n",
    "    \"Dijkstra\",\n",
    "    sum(distances.values()),\n",
    "    end_time - start_time,\n",
    "    distances,\n",
    "    previous,\n",
    "]\n",
    "\n",
    "results.loc[len(results)] = results_list"
   ]
  },
  {
   "cell_type": "code",
   "execution_count": 58,
   "metadata": {},
   "outputs": [
    {
     "data": {
      "text/html": [
       "<div>\n",
       "<style scoped>\n",
       "    .dataframe tbody tr th:only-of-type {\n",
       "        vertical-align: middle;\n",
       "    }\n",
       "\n",
       "    .dataframe tbody tr th {\n",
       "        vertical-align: top;\n",
       "    }\n",
       "\n",
       "    .dataframe thead th {\n",
       "        text-align: right;\n",
       "    }\n",
       "</style>\n",
       "<table border=\"1\" class=\"dataframe\">\n",
       "  <thead>\n",
       "    <tr style=\"text-align: right;\">\n",
       "      <th></th>\n",
       "      <th>2</th>\n",
       "    </tr>\n",
       "  </thead>\n",
       "  <tbody>\n",
       "    <tr>\n",
       "      <th>instancia</th>\n",
       "      <td>san_francisco</td>\n",
       "    </tr>\n",
       "    <tr>\n",
       "      <th>n</th>\n",
       "      <td>321270</td>\n",
       "    </tr>\n",
       "    <tr>\n",
       "      <th>m</th>\n",
       "      <td>397415</td>\n",
       "    </tr>\n",
       "    <tr>\n",
       "      <th>algoritmo</th>\n",
       "      <td>Dijkstra</td>\n",
       "    </tr>\n",
       "    <tr>\n",
       "      <th>custo</th>\n",
       "      <td>295629435062.0</td>\n",
       "    </tr>\n",
       "    <tr>\n",
       "      <th>tempo</th>\n",
       "      <td>10948.876281</td>\n",
       "    </tr>\n",
       "    <tr>\n",
       "      <th>resultado</th>\n",
       "      <td>{1: 0.0, 2: 1988.0, 3: 11311.0, 4: 12376.0, 5:...</td>\n",
       "    </tr>\n",
       "    <tr>\n",
       "      <th>anteriores</th>\n",
       "      <td>{1: nan, 2: 1.0, 3: 309.0, 4: 3.0, 5: 4.0, 6: ...</td>\n",
       "    </tr>\n",
       "  </tbody>\n",
       "</table>\n",
       "</div>"
      ],
      "text/plain": [
       "                                                            2\n",
       "instancia                                       san_francisco\n",
       "n                                                      321270\n",
       "m                                                      397415\n",
       "algoritmo                                            Dijkstra\n",
       "custo                                          295629435062.0\n",
       "tempo                                            10948.876281\n",
       "resultado   {1: 0.0, 2: 1988.0, 3: 11311.0, 4: 12376.0, 5:...\n",
       "anteriores  {1: nan, 2: 1.0, 3: 309.0, 4: 3.0, 5: 4.0, 6: ..."
      ]
     },
     "execution_count": 58,
     "metadata": {},
     "output_type": "execute_result"
    }
   ],
   "source": [
    "results.query(\"instancia == 'san_francisco' and algoritmo == 'Dijkstra'\").transpose()"
   ]
  },
  {
   "attachments": {},
   "cell_type": "markdown",
   "metadata": {
    "application/vnd.databricks.v1+cell": {
     "cellMetadata": {},
     "inputWidgets": {},
     "nuid": "e21b6cac-1047-479e-98ef-cbc42733c599",
     "showTitle": false,
     "title": ""
    }
   },
   "source": [
    "## Colorado"
   ]
  },
  {
   "cell_type": "code",
   "execution_count": 66,
   "metadata": {
    "application/vnd.databricks.v1+cell": {
     "cellMetadata": {
      "byteLimit": 2048000,
      "rowLimit": 10000
     },
     "inputWidgets": {},
     "nuid": "458bbe12-1db0-40ba-9e48-dca2eabd724b",
     "showTitle": false,
     "title": ""
    }
   },
   "outputs": [],
   "source": [
    "graph = read_gr_graph(\"data/\" + col_path.replace(\".gz\", \"\"))"
   ]
  },
  {
   "cell_type": "code",
   "execution_count": 67,
   "metadata": {
    "application/vnd.databricks.v1+cell": {
     "cellMetadata": {
      "byteLimit": 2048000,
      "rowLimit": 10000
     },
     "inputWidgets": {},
     "nuid": "95830962-ba10-4dca-86d5-8ad1746080b7",
     "showTitle": false,
     "title": ""
    }
   },
   "outputs": [],
   "source": [
    "graph_col = nx.to_dict_of_dicts(graph)"
   ]
  },
  {
   "cell_type": "code",
   "execution_count": 68,
   "metadata": {
    "application/vnd.databricks.v1+cell": {
     "cellMetadata": {
      "byteLimit": 2048000,
      "rowLimit": 10000
     },
     "inputWidgets": {},
     "nuid": "939155ef-2346-4f67-850d-3d3ef766dcd9",
     "showTitle": false,
     "title": ""
    }
   },
   "outputs": [],
   "source": [
    "graph_col = {\n",
    "    node1: {node2: subdict[\"weight\"] for node2, subdict in nested_dict.items()}\n",
    "    for node1, nested_dict in graph_col.items()\n",
    "}"
   ]
  },
  {
   "cell_type": "code",
   "execution_count": 85,
   "metadata": {
    "application/vnd.databricks.v1+cell": {
     "cellMetadata": {
      "byteLimit": 2048000,
      "rowLimit": 10000
     },
     "inputWidgets": {},
     "nuid": "8d583881-94d9-424c-9b64-bc5431f4d9e3",
     "showTitle": false,
     "title": ""
    }
   },
   "outputs": [
    {
     "name": "stdout",
     "output_type": "stream",
     "text": [
      "Time between function executions: 25955.031884 seconds\n"
     ]
    }
   ],
   "source": [
    "start_node = \"1\"\n",
    "start_time = time.time()\n",
    "distances, previous = dijkstra(graph_col, start_node)\n",
    "end_time = time.time()\n",
    "print(\"Time between function executions:\", end_time - start_time, \"seconds\")"
   ]
  },
  {
   "cell_type": "code",
   "execution_count": 86,
   "metadata": {
    "application/vnd.databricks.v1+cell": {
     "cellMetadata": {
      "byteLimit": 2048000,
      "rowLimit": 10000
     },
     "inputWidgets": {},
     "nuid": "f72ab206-a061-48af-b0e2-891e42030588",
     "showTitle": false,
     "title": ""
    }
   },
   "outputs": [],
   "source": [
    "results_list = [\n",
    "    \"colorado\",\n",
    "    graph.number_of_nodes(),\n",
    "    graph.number_of_edges(),\n",
    "    \"Dijkstra\",\n",
    "    sum(distances.values()),\n",
    "    end_time - start_time,\n",
    "    distances,\n",
    "    previous,\n",
    "]\n",
    "\n",
    "results.loc[len(results)] = results_list"
   ]
  },
  {
   "cell_type": "code",
   "execution_count": 84,
   "metadata": {},
   "outputs": [
    {
     "data": {
      "text/html": [
       "<div>\n",
       "<style scoped>\n",
       "    .dataframe tbody tr th:only-of-type {\n",
       "        vertical-align: middle;\n",
       "    }\n",
       "\n",
       "    .dataframe tbody tr th {\n",
       "        vertical-align: top;\n",
       "    }\n",
       "\n",
       "    .dataframe thead th {\n",
       "        text-align: right;\n",
       "    }\n",
       "</style>\n",
       "<table border=\"1\" class=\"dataframe\">\n",
       "  <thead>\n",
       "    <tr style=\"text-align: right;\">\n",
       "      <th></th>\n",
       "      <th>3</th>\n",
       "    </tr>\n",
       "  </thead>\n",
       "  <tbody>\n",
       "    <tr>\n",
       "      <th>instancia</th>\n",
       "      <td>colorado</td>\n",
       "    </tr>\n",
       "    <tr>\n",
       "      <th>n</th>\n",
       "      <td>435666</td>\n",
       "    </tr>\n",
       "    <tr>\n",
       "      <th>m</th>\n",
       "      <td>521200</td>\n",
       "    </tr>\n",
       "    <tr>\n",
       "      <th>algoritmo</th>\n",
       "      <td>Dijkstra</td>\n",
       "    </tr>\n",
       "    <tr>\n",
       "      <th>custo</th>\n",
       "      <td>1104876702568.0</td>\n",
       "    </tr>\n",
       "    <tr>\n",
       "      <th>tempo</th>\n",
       "      <td>25955.031884</td>\n",
       "    </tr>\n",
       "    <tr>\n",
       "      <th>resultado</th>\n",
       "      <td>{1: 0.0, 2: 12406.0, 3: 118963.0, 4: 120045.0,...</td>\n",
       "    </tr>\n",
       "    <tr>\n",
       "      <th>anteriores</th>\n",
       "      <td>{1: nan, 2: 1.0, 3: 5.0, 4: 3.0, 5: 57.0, 6: 7...</td>\n",
       "    </tr>\n",
       "  </tbody>\n",
       "</table>\n",
       "</div>"
      ],
      "text/plain": [
       "                                                            3\n",
       "instancia                                            colorado\n",
       "n                                                      435666\n",
       "m                                                      521200\n",
       "algoritmo                                            Dijkstra\n",
       "custo                                         1104876702568.0\n",
       "tempo                                            25955.031884\n",
       "resultado   {1: 0.0, 2: 12406.0, 3: 118963.0, 4: 120045.0,...\n",
       "anteriores  {1: nan, 2: 1.0, 3: 5.0, 4: 3.0, 5: 57.0, 6: 7..."
      ]
     },
     "execution_count": 84,
     "metadata": {},
     "output_type": "execute_result"
    }
   ],
   "source": [
    "results.query(\"instancia == 'colorado' and algoritmo == 'Dijkstra'\").transpose()"
   ]
  },
  {
   "attachments": {},
   "cell_type": "markdown",
   "metadata": {
    "application/vnd.databricks.v1+cell": {
     "cellMetadata": {},
     "inputWidgets": {},
     "nuid": "ede762e3-0970-476a-aacd-59a95122fa67",
     "showTitle": false,
     "title": ""
    }
   },
   "source": [
    "# Kruskal\n",
    "\n",
    "````python\n",
    "\n",
    "Algoritmo de Kruskal\n",
    "\n",
    "Entrada: G = (V,E), Lista de Adjacência de G: A(v), v ∈ V, matriz de pesos\n",
    "\n",
    "Ordenar as arestas de G pelo valor de seus pesos\n",
    "T ← ∅\n",
    "\n",
    "Para cada i = 1 até |E|, faça:\n",
    "    Se T U {e} é acíclico então\n",
    "        T ← T U {e}\n",
    "    Fim-se\n",
    "\n",
    "Saída: T\n",
    "\n",
    "````\n"
   ]
  },
  {
   "attachments": {},
   "cell_type": "markdown",
   "metadata": {
    "application/vnd.databricks.v1+cell": {
     "cellMetadata": {},
     "inputWidgets": {},
     "nuid": "17046a38-f927-408f-b1f1-71e7be36c6a8",
     "showTitle": false,
     "title": ""
    }
   },
   "source": [
    "## Toy 1"
   ]
  },
  {
   "cell_type": "code",
   "execution_count": 115,
   "metadata": {
    "application/vnd.databricks.v1+cell": {
     "cellMetadata": {
      "byteLimit": 2048000,
      "rowLimit": 10000
     },
     "inputWidgets": {},
     "nuid": "de3017f8-c250-4b37-9968-181e134eae81",
     "showTitle": false,
     "title": ""
    }
   },
   "outputs": [
    {
     "name": "stdout",
     "output_type": "stream",
     "text": [
      "Time between function executions: 0.0 seconds\n"
     ]
    }
   ],
   "source": [
    "start_time = time.time()\n",
    "minimum_spanning_tree, total_cost = kruskal(toy1_instance)\n",
    "end_time = time.time()\n",
    "print(\"Time between function executions:\", end_time - start_time, \"seconds\")"
   ]
  },
  {
   "cell_type": "code",
   "execution_count": 116,
   "metadata": {
    "application/vnd.databricks.v1+cell": {
     "cellMetadata": {
      "byteLimit": 2048000,
      "rowLimit": 10000
     },
     "inputWidgets": {},
     "nuid": "d6271892-8c00-4d1d-b87f-2a79acff0ab7",
     "showTitle": false,
     "title": ""
    }
   },
   "outputs": [],
   "source": [
    "minimum_spanning_tree_toy1_instance = nx.Graph()"
   ]
  },
  {
   "cell_type": "code",
   "execution_count": 117,
   "metadata": {
    "application/vnd.databricks.v1+cell": {
     "cellMetadata": {
      "byteLimit": 2048000,
      "rowLimit": 10000
     },
     "inputWidgets": {},
     "nuid": "18b3d6ca-195a-46aa-bab0-33ec2ba0f6a5",
     "showTitle": false,
     "title": ""
    }
   },
   "outputs": [],
   "source": [
    "for u, v, weight in minimum_spanning_tree:\n",
    "    minimum_spanning_tree_toy1_instance.add_edge(u, v, weight=weight)"
   ]
  },
  {
   "cell_type": "code",
   "execution_count": 97,
   "metadata": {
    "application/vnd.databricks.v1+cell": {
     "cellMetadata": {
      "byteLimit": 2048000,
      "rowLimit": 10000
     },
     "inputWidgets": {},
     "nuid": "baf7a4bf-95ae-48aa-9e32-030e7c0720db",
     "showTitle": false,
     "title": ""
    }
   },
   "outputs": [
    {
     "data": {
      "image/png": "[encoded data removed]",
      "text/plain": [
       "<Figure size 800x600 with 1 Axes>"
      ]
     },
     "metadata": {},
     "output_type": "display_data"
    }
   ],
   "source": [
    "plot_graph(minimum_spanning_tree_toy1_instance, figsize=(8, 6))"
   ]
  },
  {
   "cell_type": "code",
   "execution_count": 118,
   "metadata": {
    "application/vnd.databricks.v1+cell": {
     "cellMetadata": {
      "byteLimit": 2048000,
      "rowLimit": 10000
     },
     "inputWidgets": {},
     "nuid": "74d4652d-10ee-4b9f-9050-23c1ac2814a9",
     "showTitle": false,
     "title": ""
    }
   },
   "outputs": [],
   "source": [
    "minimum_spanning_tree_toy1_instance_dict = nx.to_dict_of_dicts(\n",
    "    minimum_spanning_tree_toy1_instance\n",
    ")\n",
    "\n",
    "\n",
    "minimum_spanning_tree_toy1_instance_dict = {\n",
    "    node1: {node2: subdict[\"weight\"] for node2, subdict in nested_dict.items()}\n",
    "    for node1, nested_dict in minimum_spanning_tree_toy1_instance_dict.items()\n",
    "}"
   ]
  },
  {
   "cell_type": "code",
   "execution_count": 119,
   "metadata": {
    "application/vnd.databricks.v1+cell": {
     "cellMetadata": {
      "byteLimit": 2048000,
      "rowLimit": 10000
     },
     "inputWidgets": {},
     "nuid": "898decd4-1bb1-405b-924f-b010dec4bbfb",
     "showTitle": false,
     "title": ""
    }
   },
   "outputs": [],
   "source": [
    "results_list = [\n",
    "    \"toy_1\",\n",
    "    minimum_spanning_tree_toy1_instance.number_of_nodes(),\n",
    "    minimum_spanning_tree_toy1_instance.number_of_edges(),\n",
    "    \"Kruskal\",\n",
    "    total_cost,\n",
    "    end_time - start_time,\n",
    "    minimum_spanning_tree_toy1_instance_dict,\n",
    "    \"\",\n",
    "]\n",
    "\n"
   ]
  },
  {
   "cell_type": "code",
   "execution_count": 120,
   "metadata": {},
   "outputs": [],
   "source": [
    "results.loc[len(results)] = results_list"
   ]
  },
  {
   "cell_type": "code",
   "execution_count": 121,
   "metadata": {
    "application/vnd.databricks.v1+cell": {
     "cellMetadata": {
      "byteLimit": 2048000,
      "rowLimit": 10000
     },
     "inputWidgets": {},
     "nuid": "14b88a15-6245-41f4-8659-95fcc9d8f395",
     "showTitle": false,
     "title": ""
    }
   },
   "outputs": [
    {
     "data": {
      "text/html": [
       "<div>\n",
       "<style scoped>\n",
       "    .dataframe tbody tr th:only-of-type {\n",
       "        vertical-align: middle;\n",
       "    }\n",
       "\n",
       "    .dataframe tbody tr th {\n",
       "        vertical-align: top;\n",
       "    }\n",
       "\n",
       "    .dataframe thead th {\n",
       "        text-align: right;\n",
       "    }\n",
       "</style>\n",
       "<table border=\"1\" class=\"dataframe\">\n",
       "  <thead>\n",
       "    <tr style=\"text-align: right;\">\n",
       "      <th></th>\n",
       "      <th>7</th>\n",
       "    </tr>\n",
       "  </thead>\n",
       "  <tbody>\n",
       "    <tr>\n",
       "      <th>instancia</th>\n",
       "      <td>toy_1</td>\n",
       "    </tr>\n",
       "    <tr>\n",
       "      <th>n</th>\n",
       "      <td>10</td>\n",
       "    </tr>\n",
       "    <tr>\n",
       "      <th>m</th>\n",
       "      <td>9</td>\n",
       "    </tr>\n",
       "    <tr>\n",
       "      <th>algoritmo</th>\n",
       "      <td>Kruskal</td>\n",
       "    </tr>\n",
       "    <tr>\n",
       "      <th>custo</th>\n",
       "      <td>299.0</td>\n",
       "    </tr>\n",
       "    <tr>\n",
       "      <th>tempo</th>\n",
       "      <td>0.0</td>\n",
       "    </tr>\n",
       "    <tr>\n",
       "      <th>resultado</th>\n",
       "      <td>{'f': {'g': 20, 'h': 25, 'b': 29, 'd': 52}, 'g...</td>\n",
       "    </tr>\n",
       "    <tr>\n",
       "      <th>anteriores</th>\n",
       "      <td></td>\n",
       "    </tr>\n",
       "  </tbody>\n",
       "</table>\n",
       "</div>"
      ],
      "text/plain": [
       "                                                            7\n",
       "instancia                                               toy_1\n",
       "n                                                          10\n",
       "m                                                           9\n",
       "algoritmo                                             Kruskal\n",
       "custo                                                   299.0\n",
       "tempo                                                     0.0\n",
       "resultado   {'f': {'g': 20, 'h': 25, 'b': 29, 'd': 52}, 'g...\n",
       "anteriores                                                   "
      ]
     },
     "execution_count": 121,
     "metadata": {},
     "output_type": "execute_result"
    }
   ],
   "source": [
    "results.query(\"instancia == 'toy_1' and algoritmo == 'Kruskal'\").transpose()"
   ]
  },
  {
   "attachments": {},
   "cell_type": "markdown",
   "metadata": {
    "application/vnd.databricks.v1+cell": {
     "cellMetadata": {},
     "inputWidgets": {},
     "nuid": "21b96e0b-eb0c-4603-a602-3beb2de5003a",
     "showTitle": false,
     "title": ""
    }
   },
   "source": [
    "## New york"
   ]
  },
  {
   "cell_type": "code",
   "execution_count": 126,
   "metadata": {
    "application/vnd.databricks.v1+cell": {
     "cellMetadata": {
      "byteLimit": 2048000,
      "rowLimit": 10000
     },
     "inputWidgets": {},
     "nuid": "ff83f13b-5119-4919-a6f1-adc3242e3c11",
     "showTitle": false,
     "title": ""
    }
   },
   "outputs": [
    {
     "name": "stdout",
     "output_type": "stream",
     "text": [
      "Time between function executions: 10.429530143737793 seconds\n"
     ]
    }
   ],
   "source": [
    "start_time = time.time()\n",
    "minimum_spanning_tree, total_cost = kruskal(graph_ny)\n",
    "end_time = time.time()\n",
    "print(\"Time between function executions:\", end_time - start_time, \"seconds\")"
   ]
  },
  {
   "cell_type": "code",
   "execution_count": 149,
   "metadata": {
    "application/vnd.databricks.v1+cell": {
     "cellMetadata": {
      "byteLimit": 2048000,
      "rowLimit": 10000
     },
     "inputWidgets": {},
     "nuid": "77acb8a8-d201-4612-bfe7-e8d971b228be",
     "showTitle": false,
     "title": ""
    }
   },
   "outputs": [],
   "source": [
    "minimum_spanning_tree_new_york = nx.Graph()"
   ]
  },
  {
   "cell_type": "code",
   "execution_count": 150,
   "metadata": {
    "application/vnd.databricks.v1+cell": {
     "cellMetadata": {
      "byteLimit": 2048000,
      "rowLimit": 10000
     },
     "inputWidgets": {},
     "nuid": "d3b7b591-c6c9-4f5f-82d1-3ed5c2cc57b0",
     "showTitle": false,
     "title": ""
    }
   },
   "outputs": [],
   "source": [
    "for u, v, weight in minimum_spanning_tree:\n",
    "    minimum_spanning_tree_new_york.add_edge(u, v, weight=weight)"
   ]
  },
  {
   "cell_type": "code",
   "execution_count": 151,
   "metadata": {
    "application/vnd.databricks.v1+cell": {
     "cellMetadata": {
      "byteLimit": 2048000,
      "rowLimit": 10000
     },
     "inputWidgets": {},
     "nuid": "f3c5bd9a-799b-41c1-b13f-d53ed42cec1b",
     "showTitle": false,
     "title": ""
    }
   },
   "outputs": [],
   "source": [
    "minimum_spanning_tree_new_york_dict = nx.to_dict_of_dicts(\n",
    "    minimum_spanning_tree_new_york\n",
    ")\n",
    "\n",
    "minimum_spanning_tree_new_york_dict = {\n",
    "    node1: {node2: subdict[\"weight\"] for node2, subdict in nested_dict.items()}\n",
    "    for node1, nested_dict in minimum_spanning_tree_new_york_dict.items()\n",
    "}"
   ]
  },
  {
   "cell_type": "code",
   "execution_count": 155,
   "metadata": {
    "application/vnd.databricks.v1+cell": {
     "cellMetadata": {
      "byteLimit": 2048000,
      "rowLimit": 10000
     },
     "inputWidgets": {},
     "nuid": "b5cf1d40-d5c6-4d89-acbf-f4cdff04680d",
     "showTitle": false,
     "title": ""
    }
   },
   "outputs": [],
   "source": [
    "results_list = [\n",
    "    \"new_york\",\n",
    "    minimum_spanning_tree_new_york.number_of_nodes(),\n",
    "    minimum_spanning_tree_new_york.number_of_edges(),\n",
    "    \"Kruskal\",\n",
    "    total_cost,\n",
    "    end_time - start_time,\n",
    "    minimum_spanning_tree_new_york_dict,\n",
    "    \"\",\n",
    "]\n",
    "\n",
    "results.loc[len(results)] = results_list"
   ]
  },
  {
   "cell_type": "code",
   "execution_count": 132,
   "metadata": {},
   "outputs": [
    {
     "data": {
      "text/html": [
       "<div>\n",
       "<style scoped>\n",
       "    .dataframe tbody tr th:only-of-type {\n",
       "        vertical-align: middle;\n",
       "    }\n",
       "\n",
       "    .dataframe tbody tr th {\n",
       "        vertical-align: top;\n",
       "    }\n",
       "\n",
       "    .dataframe thead th {\n",
       "        text-align: right;\n",
       "    }\n",
       "</style>\n",
       "<table border=\"1\" class=\"dataframe\">\n",
       "  <thead>\n",
       "    <tr style=\"text-align: right;\">\n",
       "      <th></th>\n",
       "      <th>7</th>\n",
       "    </tr>\n",
       "  </thead>\n",
       "  <tbody>\n",
       "    <tr>\n",
       "      <th>instancia</th>\n",
       "      <td>new_york</td>\n",
       "    </tr>\n",
       "    <tr>\n",
       "      <th>n</th>\n",
       "      <td>248089</td>\n",
       "    </tr>\n",
       "    <tr>\n",
       "      <th>m</th>\n",
       "      <td>264345</td>\n",
       "    </tr>\n",
       "    <tr>\n",
       "      <th>algoritmo</th>\n",
       "      <td>Kruskal</td>\n",
       "    </tr>\n",
       "    <tr>\n",
       "      <th>custo</th>\n",
       "      <td>219309549.0</td>\n",
       "    </tr>\n",
       "    <tr>\n",
       "      <th>tempo</th>\n",
       "      <td>10.42953</td>\n",
       "    </tr>\n",
       "    <tr>\n",
       "      <th>resultado</th>\n",
       "      <td>{'64654': {'64665': 1.0, '64653': 538.0}, '646...</td>\n",
       "    </tr>\n",
       "    <tr>\n",
       "      <th>anteriores</th>\n",
       "      <td></td>\n",
       "    </tr>\n",
       "  </tbody>\n",
       "</table>\n",
       "</div>"
      ],
      "text/plain": [
       "                                                            7\n",
       "instancia                                            new_york\n",
       "n                                                      248089\n",
       "m                                                      264345\n",
       "algoritmo                                             Kruskal\n",
       "custo                                             219309549.0\n",
       "tempo                                                10.42953\n",
       "resultado   {'64654': {'64665': 1.0, '64653': 538.0}, '646...\n",
       "anteriores                                                   "
      ]
     },
     "execution_count": 132,
     "metadata": {},
     "output_type": "execute_result"
    }
   ],
   "source": [
    "results.query(\"instancia == 'new_york' and algoritmo == 'Kruskal'\").transpose()"
   ]
  },
  {
   "attachments": {},
   "cell_type": "markdown",
   "metadata": {
    "application/vnd.databricks.v1+cell": {
     "cellMetadata": {},
     "inputWidgets": {},
     "nuid": "033da753-e5b5-4e5e-a2b8-2826d6dd3abf",
     "showTitle": false,
     "title": ""
    }
   },
   "source": [
    "## San Francisco"
   ]
  },
  {
   "cell_type": "code",
   "execution_count": 133,
   "metadata": {
    "application/vnd.databricks.v1+cell": {
     "cellMetadata": {
      "byteLimit": 2048000,
      "rowLimit": 10000
     },
     "inputWidgets": {},
     "nuid": "75222894-d17f-4ae9-bc27-a31779a30a03",
     "showTitle": false,
     "title": ""
    }
   },
   "outputs": [],
   "source": [
    "start_time = time.time()\n",
    "minimum_spanning_tree, total_cost = kruskal(graph_sa)\n",
    "end_time = time.time()\n",
    "print(\"Time between function executions:\", end_time - start_time, \"seconds\")"
   ]
  },
  {
   "cell_type": "code",
   "execution_count": 134,
   "metadata": {
    "application/vnd.databricks.v1+cell": {
     "cellMetadata": {
      "byteLimit": 2048000,
      "rowLimit": 10000
     },
     "inputWidgets": {},
     "nuid": "38b18135-0a58-4a88-b2a6-249070663860",
     "showTitle": false,
     "title": ""
    }
   },
   "outputs": [],
   "source": [
    "minimum_spanning_tree_san = nx.Graph()"
   ]
  },
  {
   "cell_type": "code",
   "execution_count": 135,
   "metadata": {
    "application/vnd.databricks.v1+cell": {
     "cellMetadata": {
      "byteLimit": 2048000,
      "rowLimit": 10000
     },
     "inputWidgets": {},
     "nuid": "7253c15a-280f-489b-a8fd-cbc277bdc68d",
     "showTitle": false,
     "title": ""
    }
   },
   "outputs": [],
   "source": [
    "for u, v, weight in minimum_spanning_tree:\n",
    "    minimum_spanning_tree_san.add_edge(u, v, weight=weight)"
   ]
  },
  {
   "cell_type": "code",
   "execution_count": 136,
   "metadata": {
    "application/vnd.databricks.v1+cell": {
     "cellMetadata": {
      "byteLimit": 2048000,
      "rowLimit": 10000
     },
     "inputWidgets": {},
     "nuid": "b58b66dd-6266-49c6-b759-891280b7f412",
     "showTitle": false,
     "title": ""
    }
   },
   "outputs": [],
   "source": [
    "minimum_spanning_tree_san_dict = nx.to_dict_of_dicts(minimum_spanning_tree_san)\n",
    "\n",
    "\n",
    "minimum_spanning_tree_san_dict = {\n",
    "    node1: {node2: subdict[\"weight\"] for node2, subdict in nested_dict.items()}\n",
    "    for node1, nested_dict in minimum_spanning_tree_san_dict.items()\n",
    "}"
   ]
  },
  {
   "cell_type": "code",
   "execution_count": 137,
   "metadata": {
    "application/vnd.databricks.v1+cell": {
     "cellMetadata": {
      "byteLimit": 2048000,
      "rowLimit": 10000
     },
     "inputWidgets": {},
     "nuid": "0de4fc12-cd38-4a31-b2ff-7f7e5bf3dc2a",
     "showTitle": false,
     "title": ""
    }
   },
   "outputs": [],
   "source": [
    "results_list = [\n",
    "    \"san_francisco\",\n",
    "    minimum_spanning_tree_san.number_of_nodes(),\n",
    "    minimum_spanning_tree_san.number_of_edges(),\n",
    "    \"Kruskal\",\n",
    "    total_cost,\n",
    "    end_time - start_time,\n",
    "    minimum_spanning_tree_san_dict,\n",
    "    \"\",\n",
    "]"
   ]
  },
  {
   "cell_type": "code",
   "execution_count": null,
   "metadata": {
    "application/vnd.databricks.v1+cell": {
     "cellMetadata": {
      "byteLimit": 2048000,
      "rowLimit": 10000
     },
     "inputWidgets": {},
     "nuid": "63f96afb-e116-45a8-8514-7f4ccba34d4a",
     "showTitle": false,
     "title": ""
    }
   },
   "outputs": [],
   "source": [
    "results.loc[len(results)] = results_list"
   ]
  },
  {
   "cell_type": "code",
   "execution_count": 139,
   "metadata": {},
   "outputs": [
    {
     "data": {
      "text/html": [
       "<div>\n",
       "<style scoped>\n",
       "    .dataframe tbody tr th:only-of-type {\n",
       "        vertical-align: middle;\n",
       "    }\n",
       "\n",
       "    .dataframe tbody tr th {\n",
       "        vertical-align: top;\n",
       "    }\n",
       "\n",
       "    .dataframe thead th {\n",
       "        text-align: right;\n",
       "    }\n",
       "</style>\n",
       "<table border=\"1\" class=\"dataframe\">\n",
       "  <thead>\n",
       "    <tr style=\"text-align: right;\">\n",
       "      <th></th>\n",
       "      <th>4</th>\n",
       "    </tr>\n",
       "  </thead>\n",
       "  <tbody>\n",
       "    <tr>\n",
       "      <th>instancia</th>\n",
       "      <td>san_francisco</td>\n",
       "    </tr>\n",
       "    <tr>\n",
       "      <th>n</th>\n",
       "      <td>299036</td>\n",
       "    </tr>\n",
       "    <tr>\n",
       "      <th>m</th>\n",
       "      <td>321269</td>\n",
       "    </tr>\n",
       "    <tr>\n",
       "      <th>algoritmo</th>\n",
       "      <td>Kruskal</td>\n",
       "    </tr>\n",
       "    <tr>\n",
       "      <th>custo</th>\n",
       "      <td>303105738.0</td>\n",
       "    </tr>\n",
       "    <tr>\n",
       "      <th>tempo</th>\n",
       "      <td>2.882696</td>\n",
       "    </tr>\n",
       "    <tr>\n",
       "      <th>resultado</th>\n",
       "      <td>{'120168': {'154033': 1.0}, '154033': {'120168...</td>\n",
       "    </tr>\n",
       "    <tr>\n",
       "      <th>anteriores</th>\n",
       "      <td>NaN</td>\n",
       "    </tr>\n",
       "  </tbody>\n",
       "</table>\n",
       "</div>"
      ],
      "text/plain": [
       "                                                            4\n",
       "instancia                                       san_francisco\n",
       "n                                                      299036\n",
       "m                                                      321269\n",
       "algoritmo                                             Kruskal\n",
       "custo                                             303105738.0\n",
       "tempo                                                2.882696\n",
       "resultado   {'120168': {'154033': 1.0}, '154033': {'120168...\n",
       "anteriores                                                NaN"
      ]
     },
     "execution_count": 139,
     "metadata": {},
     "output_type": "execute_result"
    }
   ],
   "source": [
    "results.query(\"instancia == 'san_francisco' and algoritmo == 'Kruskal'\").transpose()"
   ]
  },
  {
   "attachments": {},
   "cell_type": "markdown",
   "metadata": {
    "application/vnd.databricks.v1+cell": {
     "cellMetadata": {},
     "inputWidgets": {},
     "nuid": "1f943788-e649-49b7-a143-92c0fccc75fe",
     "showTitle": false,
     "title": ""
    }
   },
   "source": [
    "## Colorado"
   ]
  },
  {
   "cell_type": "code",
   "execution_count": 148,
   "metadata": {
    "application/vnd.databricks.v1+cell": {
     "cellMetadata": {
      "byteLimit": 2048000,
      "rowLimit": 10000
     },
     "inputWidgets": {},
     "nuid": "02c10439-7219-4f32-b060-6f0ac15fc739",
     "showTitle": false,
     "title": ""
    }
   },
   "outputs": [
    {
     "name": "stdout",
     "output_type": "stream",
     "text": [
      "Time between function executions: 4.780973 seconds\n"
     ]
    }
   ],
   "source": [
    "start_time = time.time()\n",
    "minimum_spanning_tree, total_cost = kruskal(graph_col)\n",
    "end_time = time.time()\n",
    "print(\"Time between function executions:\", end_time - start_time, \"seconds\")"
   ]
  },
  {
   "cell_type": "code",
   "execution_count": 141,
   "metadata": {
    "application/vnd.databricks.v1+cell": {
     "cellMetadata": {
      "byteLimit": 2048000,
      "rowLimit": 10000
     },
     "inputWidgets": {},
     "nuid": "4c344cd7-509b-409c-b6dc-ebc6c8901cb8",
     "showTitle": false,
     "title": ""
    }
   },
   "outputs": [],
   "source": [
    "minimum_spanning_tree_colorado = nx.Graph()"
   ]
  },
  {
   "cell_type": "code",
   "execution_count": 142,
   "metadata": {
    "application/vnd.databricks.v1+cell": {
     "cellMetadata": {
      "byteLimit": 2048000,
      "rowLimit": 10000
     },
     "inputWidgets": {},
     "nuid": "c418ba85-4f2d-4977-86ce-6c4017975183",
     "showTitle": false,
     "title": ""
    }
   },
   "outputs": [],
   "source": [
    "for u, v, weight in minimum_spanning_tree:\n",
    "    minimum_spanning_tree_colorado.add_edge(u, v, weight=weight)"
   ]
  },
  {
   "cell_type": "code",
   "execution_count": 143,
   "metadata": {
    "application/vnd.databricks.v1+cell": {
     "cellMetadata": {
      "byteLimit": 2048000,
      "rowLimit": 10000
     },
     "inputWidgets": {},
     "nuid": "9a7adb99-5c51-4dde-b7b7-8ff4d38affa6",
     "showTitle": false,
     "title": ""
    }
   },
   "outputs": [],
   "source": [
    "minimum_spanning_tree_colorado_dict = nx.to_dict_of_dicts(\n",
    "    minimum_spanning_tree_colorado\n",
    ")\n",
    "\n",
    "\n",
    "minimum_spanning_tree_colorado_dict = {\n",
    "    node1: {node2: subdict[\"weight\"] for node2, subdict in nested_dict.items()}\n",
    "    for node1, nested_dict in minimum_spanning_tree_colorado_dict.items()\n",
    "}"
   ]
  },
  {
   "cell_type": "code",
   "execution_count": 144,
   "metadata": {
    "application/vnd.databricks.v1+cell": {
     "cellMetadata": {
      "byteLimit": 2048000,
      "rowLimit": 10000
     },
     "inputWidgets": {},
     "nuid": "e7c5aca5-782c-4cbe-a4ab-3f6d761ac08b",
     "showTitle": false,
     "title": ""
    }
   },
   "outputs": [],
   "source": [
    "results_list = [\n",
    "    \"colorado\",\n",
    "    minimum_spanning_tree_colorado.number_of_nodes(),\n",
    "    minimum_spanning_tree_colorado.number_of_edges(),\n",
    "    \"Kruskal\",\n",
    "    total_cost,\n",
    "    end_time - start_time,\n",
    "    minimum_spanning_tree_colorado_dict,\n",
    "    \"\",\n",
    "]\n",
    "\n",
    "results.loc[len(results)] = results_list"
   ]
  },
  {
   "cell_type": "code",
   "execution_count": 145,
   "metadata": {
    "application/vnd.databricks.v1+cell": {
     "cellMetadata": {
      "byteLimit": 2048000,
      "rowLimit": 10000
     },
     "inputWidgets": {},
     "nuid": "8188a6da-02cf-4dcf-86ee-0981c5e06c80",
     "showTitle": false,
     "title": ""
    }
   },
   "outputs": [
    {
     "data": {
      "text/html": [
       "<div>\n",
       "<style scoped>\n",
       "    .dataframe tbody tr th:only-of-type {\n",
       "        vertical-align: middle;\n",
       "    }\n",
       "\n",
       "    .dataframe tbody tr th {\n",
       "        vertical-align: top;\n",
       "    }\n",
       "\n",
       "    .dataframe thead th {\n",
       "        text-align: right;\n",
       "    }\n",
       "</style>\n",
       "<table border=\"1\" class=\"dataframe\">\n",
       "  <thead>\n",
       "    <tr style=\"text-align: right;\">\n",
       "      <th></th>\n",
       "      <th>5</th>\n",
       "    </tr>\n",
       "  </thead>\n",
       "  <tbody>\n",
       "    <tr>\n",
       "      <th>instancia</th>\n",
       "      <td>colorado</td>\n",
       "    </tr>\n",
       "    <tr>\n",
       "      <th>n</th>\n",
       "      <td>410004</td>\n",
       "    </tr>\n",
       "    <tr>\n",
       "      <th>m</th>\n",
       "      <td>435665</td>\n",
       "    </tr>\n",
       "    <tr>\n",
       "      <th>algoritmo</th>\n",
       "      <td>Kruskal</td>\n",
       "    </tr>\n",
       "    <tr>\n",
       "      <th>custo</th>\n",
       "      <td>764446047.0</td>\n",
       "    </tr>\n",
       "    <tr>\n",
       "      <th>tempo</th>\n",
       "      <td>4.780973</td>\n",
       "    </tr>\n",
       "    <tr>\n",
       "      <th>resultado</th>\n",
       "      <td>{'3626': {'14759': 1.0, '3624': 718.0, '3627':...</td>\n",
       "    </tr>\n",
       "    <tr>\n",
       "      <th>anteriores</th>\n",
       "      <td>NaN</td>\n",
       "    </tr>\n",
       "  </tbody>\n",
       "</table>\n",
       "</div>"
      ],
      "text/plain": [
       "                                                            5\n",
       "instancia                                            colorado\n",
       "n                                                      410004\n",
       "m                                                      435665\n",
       "algoritmo                                             Kruskal\n",
       "custo                                             764446047.0\n",
       "tempo                                                4.780973\n",
       "resultado   {'3626': {'14759': 1.0, '3624': 718.0, '3627':...\n",
       "anteriores                                                NaN"
      ]
     },
     "execution_count": 145,
     "metadata": {},
     "output_type": "execute_result"
    }
   ],
   "source": [
    "results.query(\"instancia == 'colorado' and algoritmo == 'Kruskal'\").transpose()"
   ]
  },
  {
   "attachments": {},
   "cell_type": "markdown",
   "metadata": {
    "application/vnd.databricks.v1+cell": {
     "cellMetadata": {},
     "inputWidgets": {},
     "nuid": "ba47c4cb-2862-40e9-b743-886c0346d8be",
     "showTitle": false,
     "title": ""
    }
   },
   "source": [
    "# Ford-Fulkerson\n",
    "\n",
    "````python\n",
    "\n",
    "Algoritmo de Ford-Fulkerson\n",
    "\n",
    "Entrada: G = (V,A,f)\n",
    "custo(a), para todo arco a de G\n",
    "fluxo inicial dado ou nulo\n",
    "Capacidade_Corte ← ∞\n",
    "f0 ← 0 // quando se consideram inicialmente todos os fluxos como nulos\n",
    "\n",
    "Construir Gf associado a G;\n",
    "\n",
    "Enquanto existir caminho μst de s a t em Gf faça\n",
    "    Determinar folga γst de μst em Gf\n",
    "    // γst = mínimo das folgas dos arcos de μst\n",
    "    Introduzir fluxo em μst em G igual a γst\n",
    "    f0 ← f0 + γst\n",
    "    Construir Gf\n",
    "\n",
    "X ← s ∪ {vértices atingíveis a partir de s em Gf}\n",
    "// vértices atingíveis a partir de s em Gf\n",
    "\n",
    "Calcular Capacidade_Corte(X,V-X) em G\n",
    "// f0 é o valor do fluxo máximo que passa por G e equivale ao valor de Capacidade_Corte(X,V-X) em G\n",
    "\n",
    "Saída: f0\n",
    "\n",
    "````\n"
   ]
  },
  {
   "attachments": {},
   "cell_type": "markdown",
   "metadata": {
    "application/vnd.databricks.v1+cell": {
     "cellMetadata": {},
     "inputWidgets": {},
     "nuid": "49f11c47-bdb3-41e5-912c-278f90184595",
     "showTitle": false,
     "title": ""
    }
   },
   "source": [
    "## Toy 2"
   ]
  },
  {
   "cell_type": "code",
   "execution_count": 226,
   "metadata": {},
   "outputs": [
    {
     "name": "stdout",
     "output_type": "stream",
     "text": [
      "Time between function executions: 0.0009791851043701172 seconds\n"
     ]
    }
   ],
   "source": [
    "source = \"1\"\n",
    "terminal = \"6\"\n",
    "start_time = time.time()\n",
    "max_flow = ford_fulkerson(toy2_instance, source, terminal)\n",
    "end_time = time.time()\n",
    "print(\"Time between function executions:\", end_time - start_time, \"seconds\")"
   ]
  },
  {
   "cell_type": "code",
   "execution_count": 228,
   "metadata": {},
   "outputs": [],
   "source": [
    "results_list = [\n",
    "    \"toy_2\",\n",
    "    graph_toy2_instance.number_of_nodes(),\n",
    "    graph_toy2_instance.number_of_edges(),\n",
    "    \"Ford-Fulkerson\",\n",
    "    max_flow,\n",
    "    end_time - start_time,\n",
    "    \"\",\n",
    "    \"\",\n",
    "]\n",
    "\n",
    "results.loc[len(results)] = results_list"
   ]
  },
  {
   "cell_type": "code",
   "execution_count": 229,
   "metadata": {},
   "outputs": [
    {
     "data": {
      "text/html": [
       "<div>\n",
       "<style scoped>\n",
       "    .dataframe tbody tr th:only-of-type {\n",
       "        vertical-align: middle;\n",
       "    }\n",
       "\n",
       "    .dataframe tbody tr th {\n",
       "        vertical-align: top;\n",
       "    }\n",
       "\n",
       "    .dataframe thead th {\n",
       "        text-align: right;\n",
       "    }\n",
       "</style>\n",
       "<table border=\"1\" class=\"dataframe\">\n",
       "  <thead>\n",
       "    <tr style=\"text-align: right;\">\n",
       "      <th></th>\n",
       "      <th>8</th>\n",
       "    </tr>\n",
       "  </thead>\n",
       "  <tbody>\n",
       "    <tr>\n",
       "      <th>instancia</th>\n",
       "      <td>toy_2</td>\n",
       "    </tr>\n",
       "    <tr>\n",
       "      <th>n</th>\n",
       "      <td>6</td>\n",
       "    </tr>\n",
       "    <tr>\n",
       "      <th>m</th>\n",
       "      <td>9</td>\n",
       "    </tr>\n",
       "    <tr>\n",
       "      <th>algoritmo</th>\n",
       "      <td>Ford-Fulkerson</td>\n",
       "    </tr>\n",
       "    <tr>\n",
       "      <th>custo</th>\n",
       "      <td>6.0</td>\n",
       "    </tr>\n",
       "    <tr>\n",
       "      <th>tempo</th>\n",
       "      <td>0.000979</td>\n",
       "    </tr>\n",
       "    <tr>\n",
       "      <th>resultado</th>\n",
       "      <td></td>\n",
       "    </tr>\n",
       "    <tr>\n",
       "      <th>anteriores</th>\n",
       "      <td></td>\n",
       "    </tr>\n",
       "  </tbody>\n",
       "</table>\n",
       "</div>"
      ],
      "text/plain": [
       "                         8\n",
       "instancia            toy_2\n",
       "n                        6\n",
       "m                        9\n",
       "algoritmo   Ford-Fulkerson\n",
       "custo                  6.0\n",
       "tempo             0.000979\n",
       "resultado                 \n",
       "anteriores                "
      ]
     },
     "execution_count": 229,
     "metadata": {},
     "output_type": "execute_result"
    }
   ],
   "source": [
    "results.query(\"instancia == 'toy_2' and algoritmo == 'Ford-Fulkerson'\").transpose()"
   ]
  },
  {
   "attachments": {},
   "cell_type": "markdown",
   "metadata": {
    "application/vnd.databricks.v1+cell": {
     "cellMetadata": {},
     "inputWidgets": {},
     "nuid": "9324a0ca-1326-41a1-8644-bb24b8c53f41",
     "showTitle": false,
     "title": ""
    }
   },
   "source": [
    "## DIMACS"
   ]
  },
  {
   "cell_type": "code",
   "execution_count": 230,
   "metadata": {},
   "outputs": [
    {
     "data": {
      "text/plain": [
       "{'1': {'2': 5.0, '3': 15.0},\n",
       " '2': {'4': 5.0, '5': 5.0},\n",
       " '3': {'4': 5.0, '5': 5.0},\n",
       " '4': {'6': 15.0},\n",
       " '5': {'6': 5.0},\n",
       " '6': {}}"
      ]
     },
     "execution_count": 230,
     "metadata": {},
     "output_type": "execute_result"
    }
   ],
   "source": [
    "dimacs_instance"
   ]
  },
  {
   "cell_type": "code",
   "execution_count": 231,
   "metadata": {},
   "outputs": [
    {
     "name": "stdout",
     "output_type": "stream",
     "text": [
      "Time between function executions: 0.0 seconds\n"
     ]
    }
   ],
   "source": [
    "\n",
    "source = \"1\"\n",
    "terminal = \"6\"\n",
    "start_time = time.time()\n",
    "max_flow = ford_fulkerson(dimacs_instance, source, terminal)\n",
    "end_time = time.time()\n",
    "print(\"Time between function executions:\", end_time - start_time, \"seconds\")"
   ]
  },
  {
   "cell_type": "code",
   "execution_count": 232,
   "metadata": {},
   "outputs": [
    {
     "data": {
      "text/plain": [
       "15.0"
      ]
     },
     "execution_count": 232,
     "metadata": {},
     "output_type": "execute_result"
    }
   ],
   "source": [
    "max_flow"
   ]
  },
  {
   "cell_type": "code",
   "execution_count": 233,
   "metadata": {},
   "outputs": [],
   "source": [
    "results_list = [\n",
    "    \"dimacs\",\n",
    "    graph_dimacs_instance.number_of_nodes(),\n",
    "    graph_dimacs_instance.number_of_edges(),\n",
    "    \"Ford-Fulkerson\",\n",
    "    max_flow,\n",
    "    end_time - start_time,\n",
    "    \"\",\n",
    "    \"\",\n",
    "]\n",
    "\n",
    "results.loc[len(results)] = results_list"
   ]
  },
  {
   "cell_type": "code",
   "execution_count": 234,
   "metadata": {},
   "outputs": [
    {
     "data": {
      "text/html": [
       "<div>\n",
       "<style scoped>\n",
       "    .dataframe tbody tr th:only-of-type {\n",
       "        vertical-align: middle;\n",
       "    }\n",
       "\n",
       "    .dataframe tbody tr th {\n",
       "        vertical-align: top;\n",
       "    }\n",
       "\n",
       "    .dataframe thead th {\n",
       "        text-align: right;\n",
       "    }\n",
       "</style>\n",
       "<table border=\"1\" class=\"dataframe\">\n",
       "  <thead>\n",
       "    <tr style=\"text-align: right;\">\n",
       "      <th></th>\n",
       "      <th>9</th>\n",
       "    </tr>\n",
       "  </thead>\n",
       "  <tbody>\n",
       "    <tr>\n",
       "      <th>instancia</th>\n",
       "      <td>dimacs</td>\n",
       "    </tr>\n",
       "    <tr>\n",
       "      <th>n</th>\n",
       "      <td>6</td>\n",
       "    </tr>\n",
       "    <tr>\n",
       "      <th>m</th>\n",
       "      <td>8</td>\n",
       "    </tr>\n",
       "    <tr>\n",
       "      <th>algoritmo</th>\n",
       "      <td>Ford-Fulkerson</td>\n",
       "    </tr>\n",
       "    <tr>\n",
       "      <th>custo</th>\n",
       "      <td>15.0</td>\n",
       "    </tr>\n",
       "    <tr>\n",
       "      <th>tempo</th>\n",
       "      <td>0.0</td>\n",
       "    </tr>\n",
       "    <tr>\n",
       "      <th>resultado</th>\n",
       "      <td></td>\n",
       "    </tr>\n",
       "    <tr>\n",
       "      <th>anteriores</th>\n",
       "      <td></td>\n",
       "    </tr>\n",
       "  </tbody>\n",
       "</table>\n",
       "</div>"
      ],
      "text/plain": [
       "                         9\n",
       "instancia           dimacs\n",
       "n                        6\n",
       "m                        8\n",
       "algoritmo   Ford-Fulkerson\n",
       "custo                 15.0\n",
       "tempo                  0.0\n",
       "resultado                 \n",
       "anteriores                "
      ]
     },
     "execution_count": 234,
     "metadata": {},
     "output_type": "execute_result"
    }
   ],
   "source": [
    "results.query(\"instancia == 'dimacs' and algoritmo == 'Ford-Fulkerson'\").transpose()"
   ]
  },
  {
   "cell_type": "code",
   "execution_count": 235,
   "metadata": {},
   "outputs": [
    {
     "data": {
      "text/html": [
       "<div>\n",
       "<style scoped>\n",
       "    .dataframe tbody tr th:only-of-type {\n",
       "        vertical-align: middle;\n",
       "    }\n",
       "\n",
       "    .dataframe tbody tr th {\n",
       "        vertical-align: top;\n",
       "    }\n",
       "\n",
       "    .dataframe thead th {\n",
       "        text-align: right;\n",
       "    }\n",
       "</style>\n",
       "<table border=\"1\" class=\"dataframe\">\n",
       "  <thead>\n",
       "    <tr style=\"text-align: right;\">\n",
       "      <th></th>\n",
       "      <th>instancia</th>\n",
       "      <th>n</th>\n",
       "      <th>m</th>\n",
       "      <th>algoritmo</th>\n",
       "      <th>custo</th>\n",
       "      <th>tempo</th>\n",
       "      <th>resultado</th>\n",
       "      <th>anteriores</th>\n",
       "    </tr>\n",
       "  </thead>\n",
       "  <tbody>\n",
       "    <tr>\n",
       "      <th>0</th>\n",
       "      <td>toy1</td>\n",
       "      <td>10</td>\n",
       "      <td>19</td>\n",
       "      <td>Dijkstra</td>\n",
       "      <td>8.160000e+02</td>\n",
       "      <td>0.000098</td>\n",
       "      <td>{'a': 0, 'b': 60, 'c': 54, 'd': 42, 'e': 68, '...</td>\n",
       "      <td>{'a': None, 'b': 'a', 'c': 'a', 'd': 'a', 'e':...</td>\n",
       "    </tr>\n",
       "    <tr>\n",
       "      <th>1</th>\n",
       "      <td>new_york</td>\n",
       "      <td>264346</td>\n",
       "      <td>365050</td>\n",
       "      <td>Dijkstra</td>\n",
       "      <td>1.866866e+11</td>\n",
       "      <td>6347.335877</td>\n",
       "      <td>{1: 0.0, 2: 803.0, 3: 50999.0, 4: 50841.0, 5: ...</td>\n",
       "      <td>{1: nan, 2: 1.0, 3: 4.0, 4: 3926.0, 5: 1219.0,...</td>\n",
       "    </tr>\n",
       "    <tr>\n",
       "      <th>2</th>\n",
       "      <td>san_francisco</td>\n",
       "      <td>321270</td>\n",
       "      <td>397415</td>\n",
       "      <td>Dijkstra</td>\n",
       "      <td>2.956294e+11</td>\n",
       "      <td>10948.876281</td>\n",
       "      <td>{1: 0.0, 2: 1988.0, 3: 11311.0, 4: 12376.0, 5:...</td>\n",
       "      <td>{1: nan, 2: 1.0, 3: 309.0, 4: 3.0, 5: 4.0, 6: ...</td>\n",
       "    </tr>\n",
       "    <tr>\n",
       "      <th>3</th>\n",
       "      <td>colorado</td>\n",
       "      <td>435666</td>\n",
       "      <td>521200</td>\n",
       "      <td>Dijkstra</td>\n",
       "      <td>1.104877e+12</td>\n",
       "      <td>25955.031884</td>\n",
       "      <td>{1: 0.0, 2: 12406.0, 3: 118963.0, 4: 120045.0,...</td>\n",
       "      <td>{1: nan, 2: 1.0, 3: 5.0, 4: 3.0, 5: 57.0, 6: 7...</td>\n",
       "    </tr>\n",
       "    <tr>\n",
       "      <th>4</th>\n",
       "      <td>san_francisco</td>\n",
       "      <td>299036</td>\n",
       "      <td>321269</td>\n",
       "      <td>Kruskal</td>\n",
       "      <td>3.031057e+08</td>\n",
       "      <td>2.882696</td>\n",
       "      <td>{'120168': {'154033': 1.0}, '154033': {'120168...</td>\n",
       "      <td>NaN</td>\n",
       "    </tr>\n",
       "    <tr>\n",
       "      <th>5</th>\n",
       "      <td>colorado</td>\n",
       "      <td>410004</td>\n",
       "      <td>435665</td>\n",
       "      <td>Kruskal</td>\n",
       "      <td>7.644460e+08</td>\n",
       "      <td>4.780973</td>\n",
       "      <td>{'3626': {'14759': 1.0, '3624': 718.0, '3627':...</td>\n",
       "      <td>NaN</td>\n",
       "    </tr>\n",
       "    <tr>\n",
       "      <th>6</th>\n",
       "      <td>toy_1</td>\n",
       "      <td>10</td>\n",
       "      <td>9</td>\n",
       "      <td>Kruskal</td>\n",
       "      <td>2.990000e+02</td>\n",
       "      <td>0.000000</td>\n",
       "      <td>{'f': {'g': 20, 'h': 25, 'b': 29, 'd': 52}, 'g...</td>\n",
       "      <td></td>\n",
       "    </tr>\n",
       "    <tr>\n",
       "      <th>7</th>\n",
       "      <td>new_york</td>\n",
       "      <td>248089</td>\n",
       "      <td>264345</td>\n",
       "      <td>Kruskal</td>\n",
       "      <td>2.193095e+08</td>\n",
       "      <td>3.569421</td>\n",
       "      <td>{'64654': {'64665': 1.0, '64653': 538.0}, '646...</td>\n",
       "      <td></td>\n",
       "    </tr>\n",
       "    <tr>\n",
       "      <th>8</th>\n",
       "      <td>toy_2</td>\n",
       "      <td>6</td>\n",
       "      <td>9</td>\n",
       "      <td>Ford-Fulkerson</td>\n",
       "      <td>6.000000e+00</td>\n",
       "      <td>0.000979</td>\n",
       "      <td></td>\n",
       "      <td></td>\n",
       "    </tr>\n",
       "    <tr>\n",
       "      <th>9</th>\n",
       "      <td>dimacs</td>\n",
       "      <td>6</td>\n",
       "      <td>8</td>\n",
       "      <td>Ford-Fulkerson</td>\n",
       "      <td>1.500000e+01</td>\n",
       "      <td>0.000000</td>\n",
       "      <td></td>\n",
       "      <td></td>\n",
       "    </tr>\n",
       "  </tbody>\n",
       "</table>\n",
       "</div>"
      ],
      "text/plain": [
       "       instancia       n       m       algoritmo         custo         tempo  \\\n",
       "0           toy1      10      19        Dijkstra  8.160000e+02      0.000098   \n",
       "1       new_york  264346  365050        Dijkstra  1.866866e+11   6347.335877   \n",
       "2  san_francisco  321270  397415        Dijkstra  2.956294e+11  10948.876281   \n",
       "3       colorado  435666  521200        Dijkstra  1.104877e+12  25955.031884   \n",
       "4  san_francisco  299036  321269         Kruskal  3.031057e+08      2.882696   \n",
       "5       colorado  410004  435665         Kruskal  7.644460e+08      4.780973   \n",
       "6          toy_1      10       9         Kruskal  2.990000e+02      0.000000   \n",
       "7       new_york  248089  264345         Kruskal  2.193095e+08      3.569421   \n",
       "8          toy_2       6       9  Ford-Fulkerson  6.000000e+00      0.000979   \n",
       "9         dimacs       6       8  Ford-Fulkerson  1.500000e+01      0.000000   \n",
       "\n",
       "                                           resultado  \\\n",
       "0  {'a': 0, 'b': 60, 'c': 54, 'd': 42, 'e': 68, '...   \n",
       "1  {1: 0.0, 2: 803.0, 3: 50999.0, 4: 50841.0, 5: ...   \n",
       "2  {1: 0.0, 2: 1988.0, 3: 11311.0, 4: 12376.0, 5:...   \n",
       "3  {1: 0.0, 2: 12406.0, 3: 118963.0, 4: 120045.0,...   \n",
       "4  {'120168': {'154033': 1.0}, '154033': {'120168...   \n",
       "5  {'3626': {'14759': 1.0, '3624': 718.0, '3627':...   \n",
       "6  {'f': {'g': 20, 'h': 25, 'b': 29, 'd': 52}, 'g...   \n",
       "7  {'64654': {'64665': 1.0, '64653': 538.0}, '646...   \n",
       "8                                                      \n",
       "9                                                      \n",
       "\n",
       "                                          anteriores  \n",
       "0  {'a': None, 'b': 'a', 'c': 'a', 'd': 'a', 'e':...  \n",
       "1  {1: nan, 2: 1.0, 3: 4.0, 4: 3926.0, 5: 1219.0,...  \n",
       "2  {1: nan, 2: 1.0, 3: 309.0, 4: 3.0, 5: 4.0, 6: ...  \n",
       "3  {1: nan, 2: 1.0, 3: 5.0, 4: 3.0, 5: 57.0, 6: 7...  \n",
       "4                                                NaN  \n",
       "5                                                NaN  \n",
       "6                                                     \n",
       "7                                                     \n",
       "8                                                     \n",
       "9                                                     "
      ]
     },
     "execution_count": 235,
     "metadata": {},
     "output_type": "execute_result"
    }
   ],
   "source": [
    "results"
   ]
  },
  {
   "cell_type": "code",
   "execution_count": 236,
   "metadata": {},
   "outputs": [],
   "source": [
    "results.to_csv(\"data/results.csv\", index=False)"
   ]
  }
 ],
 "metadata": {
  "application/vnd.databricks.v1+notebook": {
   "dashboards": [],
   "language": "python",
   "notebookMetadata": {
    "pythonIndentUnit": 4
   },
   "notebookName": "code",
   "widgets": {}
  },
  "colab": {
   "name": "PLN.ipynb",
   "provenance": [],
   "version": "0.3.2"
  },
  "kernelspec": {
   "display_name": "Python 3.8.8 ('cursos')",
   "language": "python",
   "name": "python3"
  },
  "language_info": {
   "codemirror_mode": {
    "name": "ipython",
    "version": 3
   },
   "file_extension": ".py",
   "mimetype": "text/x-python",
   "name": "python",
   "nbconvert_exporter": "python",
   "pygments_lexer": "ipython3",
   "version": "3.10.11"
  },
  "vscode": {
   "interpreter": {
    "hash": "c9f1699d804fa66b1086f9af2a0a5cbb5f8d8881a981a166c2b61a59da5b4d52"
   }
  }
 },
 "nbformat": 4,
 "nbformat_minor": 0
}
