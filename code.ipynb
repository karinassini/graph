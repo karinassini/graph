{
 "cells": [
  {
   "cell_type": "code",
   "execution_count": 0,
   "metadata": {
    "application/vnd.databricks.v1+cell": {
     "cellMetadata": {
      "byteLimit": 2048000,
      "rowLimit": 10000
     },
     "inputWidgets": {},
     "nuid": "fa62de67-3ea0-406f-8c9d-9a5858e4eaec",
     "showTitle": false,
     "title": ""
    }
   },
   "outputs": [],
   "source": [
    "from core import *\n",
    "import networkx as nx\n",
    "import time\n",
    "import pandas as pd"
   ]
  },
  {
   "cell_type": "markdown",
   "metadata": {
    "application/vnd.databricks.v1+cell": {
     "cellMetadata": {
      "byteLimit": 2048000,
      "rowLimit": 10000
     },
     "inputWidgets": {},
     "nuid": "1662cfff-8d97-4e76-abf4-fbe473a8119f",
     "showTitle": false,
     "title": ""
    }
   },
   "source": [
    "# Leitura das instâncias \n",
    "\n",
    "- Instância toy1 (toy1_instance): grafo valorado com custos positivos e não direcionado. Exemplo de entrada\n",
    "para ser usada pelos algoritmos de caminho mínimo e árvore geradora mínima."
   ]
  },
  {
   "cell_type": "code",
   "execution_count": 0,
   "metadata": {
    "application/vnd.databricks.v1+cell": {
     "cellMetadata": {
      "byteLimit": 2048000,
      "rowLimit": 10000
     },
     "inputWidgets": {},
     "nuid": "a25c0e03-1e29-4abe-b53c-b939f498763b",
     "showTitle": false,
     "title": ""
    }
   },
   "outputs": [],
   "source": [
    "toy1_instance = {\n",
    "    \"a\": {\"b\": 60, \"c\": 54, \"d\": 42},\n",
    "    \"b\": {\"a\": 60, \"d\": 71, \"f\": 29},\n",
    "    \"c\": {\"a\": 54, \"d\": 56, \"e\": 67},\n",
    "    \"d\": {\"a\": 42, \"b\": 71, \"c\": 56, \"f\": 52, \"g\": 87, \"e\": 26},\n",
    "    \"e\": {\"c\": 67, \"d\": 26, \"g\": 70, \"i\": 73},\n",
    "    \"f\": {\"b\": 29, \"d\": 52, \"g\": 20, \"h\": 25},\n",
    "    \"g\": {\"d\": 87, \"e\": 70, \"f\": 20, \"h\": 36, \"j\": 32, \"i\": 59},\n",
    "    \"h\": {\"f\": 25, \"g\": 36, \"j\": 25},\n",
    "    \"i\": {\"e\": 73, \"g\": 59, \"j\": 26},\n",
    "    \"j\": {\"g\": 32, \"h\": 25, \"i\": 26},\n",
    "}"
   ]
  },
  {
   "cell_type": "markdown",
   "metadata": {
    "application/vnd.databricks.v1+cell": {
     "cellMetadata": {
      "byteLimit": 2048000,
      "rowLimit": 10000
     },
     "inputWidgets": {},
     "nuid": "a2be53f0-7930-4ae8-8f72-11aa5d0e5adb",
     "showTitle": false,
     "title": ""
    }
   },
   "source": [
    "- Instância toy2: grafo de fluxo valorado com custos positivos e direcionado. Exemplo de\n",
    "entrada para ser usada pelo algoritmo de fluxo (Ford-Fulkerson)."
   ]
  },
  {
   "cell_type": "code",
   "execution_count": 0,
   "metadata": {
    "application/vnd.databricks.v1+cell": {
     "cellMetadata": {
      "byteLimit": 2048000,
      "rowLimit": 10000
     },
     "inputWidgets": {},
     "nuid": "bf058aab-fd51-4123-82b0-79ecc664f8fe",
     "showTitle": false,
     "title": ""
    }
   },
   "outputs": [],
   "source": [
    "toy2_instance = {\n",
    "    \"1\": {\"2\": 3, \"3\": 3},\n",
    "    \"2\": {\"3\": 1, \"4\": 3, \"5\": 2},\n",
    "    \"3\": {\"4\": 5},\n",
    "    \"4\": {\"6\": 6},\n",
    "    \"5\": {\"4\": 3, \"6\": 3},\n",
    "}"
   ]
  },
  {
   "cell_type": "markdown",
   "metadata": {
    "application/vnd.databricks.v1+cell": {
     "cellMetadata": {
      "byteLimit": 2048000,
      "rowLimit": 10000
     },
     "inputWidgets": {},
     "nuid": "aeffad6d-6930-4ae4-afb9-2f62ba9ce461",
     "showTitle": false,
     "title": ""
    }
   },
   "source": [
    "Instâncias de benchmarks disponíveis na literatura: exemplos de entrada para serem aplicadas\n",
    "aos algoritmos de caminho mínimo e árvore geradora mínima.\n",
    "Os algoritmos devem ser executados com pelo menos 3 diferentes instâncias do site\n",
    "http://www.dis.uniroma1.it/challenge9/download.shtml. Neste site existe uma tabela com arquivos\n",
    "de dados referentes a 12 redes de estradas dos USA.\n",
    "\n",
    "Sugiro escolher as três menores: New York\n",
    "(NY), San Francisco (BAY) e Colorado (COL). Existem dois tipos de rede para cada cidade citada\n",
    "acima: uma delas possui informações de distância (coluna Distance graph da tabela) e a outra,\n",
    "tempo de viagem (coluna Travel Time graph da tabela). Sugiro aplicar suas implementações apenas\n",
    "nas redes de distâncias. Informações do formato dos arquivos de dados podem ser encontradas em\n",
    "http://www.dis.uniroma1.it/challenge9/format.shtml."
   ]
  },
  {
   "cell_type": "code",
   "execution_count": 0,
   "metadata": {
    "application/vnd.databricks.v1+cell": {
     "cellMetadata": {
      "byteLimit": 2048000,
      "rowLimit": 10000
     },
     "inputWidgets": {},
     "nuid": "db98a3e3-f430-4708-beaa-109c956e13d0",
     "showTitle": false,
     "title": ""
    }
   },
   "outputs": [],
   "source": [
    "ny_path = \"USA-road-d.NY.gr.gz\"\n",
    "san_path = \"USA-road-d.BAY.gr.gz\"\n",
    "col_path = \"USA-road-d.COL.gr.gz\""
   ]
  },
  {
   "cell_type": "code",
   "execution_count": 0,
   "metadata": {
    "application/vnd.databricks.v1+cell": {
     "cellMetadata": {
      "byteLimit": 2048000,
      "rowLimit": 10000
     },
     "inputWidgets": {},
     "nuid": "d7ae27fd-f0da-4e5a-ba23-4ece7723c03a",
     "showTitle": false,
     "title": ""
    }
   },
   "outputs": [],
   "source": [
    "download_data(\n",
    "    \"http://www.diag.uniroma1.it/challenge9/data/USA-road-d/USA-road-d.NY.gr.gz\",\n",
    "    ny_path,\n",
    ")\n",
    "\n",
    "download_data(\n",
    "    \"http://www.diag.uniroma1.it/challenge9/data/USA-road-d/USA-road-d.BAY.gr.gz\",\n",
    "    san_path,\n",
    ")\n",
    "download_data(\n",
    "    \"http://www.diag.uniroma1.it/challenge9/data/USA-road-d/USA-road-d.BAY.gr.gz\",\n",
    "    col_path,\n",
    ")"
   ]
  },
  {
   "cell_type": "markdown",
   "metadata": {
    "application/vnd.databricks.v1+cell": {
     "cellMetadata": {
      "byteLimit": 2048000,
      "rowLimit": 10000
     },
     "inputWidgets": {},
     "nuid": "4f30b6ae-17a2-48b5-91f3-6391778a616e",
     "showTitle": false,
     "title": ""
    }
   },
   "source": [
    "## Plot dos gráficos mais simples"
   ]
  },
  {
   "cell_type": "markdown",
   "metadata": {
    "application/vnd.databricks.v1+cell": {
     "cellMetadata": {
      "byteLimit": 2048000,
      "rowLimit": 10000
     },
     "inputWidgets": {},
     "nuid": "0bfbf989-3cfc-4c52-941d-1716aa0163e4",
     "showTitle": false,
     "title": ""
    }
   },
   "source": [
    "### Toy 1"
   ]
  },
  {
   "cell_type": "code",
   "execution_count": 0,
   "metadata": {
    "application/vnd.databricks.v1+cell": {
     "cellMetadata": {
      "byteLimit": 2048000,
      "rowLimit": 10000
     },
     "inputWidgets": {},
     "nuid": "bef1ba9c-d732-44ae-870b-04b456e8cea3",
     "showTitle": false,
     "title": ""
    }
   },
   "outputs": [],
   "source": [
    "# Create an empty graph\n",
    "graph_toy1_instance = nx.Graph()\n",
    "\n",
    "# Add nodes from adjacency list\n",
    "graph_toy1_instance.add_nodes_from(toy1_instance.keys())\n",
    "\n",
    "# Add edges from adjacency list\n",
    "for node, neighbors in toy1_instance.items():\n",
    "    for neighbor, weight in neighbors.items():\n",
    "        graph_toy1_instance.add_edge(node, neighbor, weight=weight)"
   ]
  },
  {
   "cell_type": "code",
   "execution_count": 0,
   "metadata": {
    "application/vnd.databricks.v1+cell": {
     "cellMetadata": {
      "byteLimit": 2048000,
      "rowLimit": 10000
     },
     "inputWidgets": {},
     "nuid": "7c82bb04-3bdf-4da0-9cfc-7aa61ca0da29",
     "showTitle": false,
     "title": ""
    }
   },
   "outputs": [],
   "source": [
    "graph_toy1_instance"
   ]
  },
  {
   "cell_type": "code",
   "execution_count": 0,
   "metadata": {
    "application/vnd.databricks.v1+cell": {
     "cellMetadata": {
      "byteLimit": 2048000,
      "rowLimit": 10000
     },
     "inputWidgets": {},
     "nuid": "3e92cee9-8e93-4f75-9d83-3f89a23845cd",
     "showTitle": false,
     "title": ""
    }
   },
   "outputs": [],
   "source": [
    "plot_graph(graph_toy1_instance)"
   ]
  },
  {
   "cell_type": "markdown",
   "metadata": {
    "application/vnd.databricks.v1+cell": {
     "cellMetadata": {
      "byteLimit": 2048000,
      "rowLimit": 10000
     },
     "inputWidgets": {},
     "nuid": "f3ec28d6-6e09-485d-af9d-39e26cf753b9",
     "showTitle": false,
     "title": ""
    }
   },
   "source": [
    "### Toy 2"
   ]
  },
  {
   "cell_type": "code",
   "execution_count": 0,
   "metadata": {
    "application/vnd.databricks.v1+cell": {
     "cellMetadata": {
      "byteLimit": 2048000,
      "rowLimit": 10000
     },
     "inputWidgets": {},
     "nuid": "56a9e5fa-e796-4bb7-b920-3a9a7f9d266e",
     "showTitle": false,
     "title": ""
    }
   },
   "outputs": [],
   "source": [
    "graph_toy2_instance = nx.DiGraph()\n",
    "\n",
    "# Add nodes from adjacency list\n",
    "graph_toy2_instance.add_nodes_from(toy2_instance.keys())\n",
    "\n",
    "# Add edges from adjacency list\n",
    "for node, neighbors in toy2_instance.items():\n",
    "    for neighbor, weight in neighbors.items():\n",
    "        graph_toy2_instance.add_edge(node, neighbor, weight=weight)\n"
   ]
  },
  {
   "cell_type": "code",
   "execution_count": 0,
   "metadata": {
    "application/vnd.databricks.v1+cell": {
     "cellMetadata": {
      "byteLimit": 2048000,
      "rowLimit": 10000
     },
     "inputWidgets": {},
     "nuid": "a92a0118-433e-4e28-8fef-0c5e0f6b73df",
     "showTitle": false,
     "title": ""
    }
   },
   "outputs": [],
   "source": [
    "plot_graph(graph_toy2_instance, arrows=True)"
   ]
  },
  {
   "cell_type": "code",
   "execution_count": 0,
   "metadata": {
    "application/vnd.databricks.v1+cell": {
     "cellMetadata": {
      "byteLimit": 2048000,
      "rowLimit": 10000
     },
     "inputWidgets": {},
     "nuid": "64ec56f5-fbf1-4af3-a72a-59b6ab36b4d2",
     "showTitle": false,
     "title": ""
    }
   },
   "outputs": [],
   "source": []
  },
  {
   "cell_type": "markdown",
   "metadata": {
    "application/vnd.databricks.v1+cell": {
     "cellMetadata": {
      "byteLimit": 2048000,
      "rowLimit": 10000
     },
     "inputWidgets": {},
     "nuid": "298d7318-2ad2-462f-a56f-b196148fe4a1",
     "showTitle": false,
     "title": ""
    }
   },
   "source": [
    "## Djikstra"
   ]
  },
  {
   "cell_type": "markdown",
   "metadata": {
    "application/vnd.databricks.v1+cell": {
     "cellMetadata": {
      "byteLimit": 2048000,
      "rowLimit": 10000
     },
     "inputWidgets": {},
     "nuid": "28903d00-3be3-4d12-aa55-bc007fd65d93",
     "showTitle": false,
     "title": ""
    }
   },
   "source": [
    "````python\n",
    "\n",
    "vINI = vértice inicial\n",
    "d(vINI, vINI) = 0\n",
    "d(vINI, i) = INFINITO, para todo i, i pertence a V – {vINI}\n",
    "fechado = vazio\n",
    "aberto = V\n",
    "anterior(i) = 0, para todo i, i pertence a V\n",
    "enquanto(aberto ≠ vazio) {\n",
    "    k = vértice pertencente a aberto, mais próximo do vértice inicial\n",
    "    fechado = fechado + k; \n",
    "    aberto = aberto – k;\n",
    "    para cada vizinho i de k que está em aberto faça{\n",
    "        custo = min{d(vINI, i), d(vINI,k) + c(k,i)}\n",
    "\n",
    "        se (custo < d(vINI, i)) então\n",
    "            d(vINI, i) = custo; anterior(i) = k\n",
    "\n",
    "    }\n",
    "}\n",
    "\n",
    "````"
   ]
  },
  {
   "cell_type": "markdown",
   "metadata": {
    "application/vnd.databricks.v1+cell": {
     "cellMetadata": {
      "byteLimit": 2048000,
      "rowLimit": 10000
     },
     "inputWidgets": {},
     "nuid": "b0555535-0c14-4794-b2ae-7ae51edab0be",
     "showTitle": false,
     "title": ""
    }
   },
   "source": [
    "### TOY 1"
   ]
  },
  {
   "cell_type": "code",
   "execution_count": 0,
   "metadata": {
    "application/vnd.databricks.v1+cell": {
     "cellMetadata": {
      "byteLimit": 2048000,
      "rowLimit": 10000
     },
     "inputWidgets": {},
     "nuid": "70d1fc1d-dae0-456d-95ba-c2d7bd7ac107",
     "showTitle": false,
     "title": ""
    }
   },
   "outputs": [],
   "source": [
    "start_node = \"a\"\n",
    "start_time = time.time()\n",
    "distances, previous = dijkstra(toy1_instance, start_node)\n",
    "end_time = time.time()"
   ]
  },
  {
   "cell_type": "code",
   "execution_count": 0,
   "metadata": {
    "application/vnd.databricks.v1+cell": {
     "cellMetadata": {
      "byteLimit": 2048000,
      "rowLimit": 10000
     },
     "inputWidgets": {},
     "nuid": "989cf4e9-235d-4b73-80ec-b1690d61ab2f",
     "showTitle": false,
     "title": ""
    }
   },
   "outputs": [],
   "source": [
    "print(\"Time between function executions:\", end_time - start_time, \"seconds\")"
   ]
  },
  {
   "cell_type": "code",
   "execution_count": 0,
   "metadata": {
    "application/vnd.databricks.v1+cell": {
     "cellMetadata": {
      "byteLimit": 2048000,
      "rowLimit": 10000
     },
     "inputWidgets": {},
     "nuid": "cbdf1f2c-a4e6-473d-8a7d-1f3ae8a1d1c1",
     "showTitle": false,
     "title": ""
    }
   },
   "outputs": [],
   "source": [
    "\n",
    "print(\"Shortest distances from node\", start_node + \":\")\n",
    "for node, distance in distances.items():\n",
    "    print(\"Node\", node + \":\", distance)\n",
    "\n",
    "print(\"\\nPrevious nodes:\")\n",
    "for node, prev_node in previous.items():\n",
    "    print(\"Node\", node + \":\", prev_node)\n",
    "\n",
    "total = sum(distances.values())\n",
    "\n",
    "print(\"\\nSum of costs:\")\n",
    "print(total)\n",
    "\n",
    "print(\"\\nEdges:\")\n",
    "num_edges = graph_toy1_instance.number_of_edges()\n",
    "print(num_edges)\n",
    "\n",
    "print(\"\\nNodes:\")\n",
    "num_nodes = graph_toy1_instance.number_of_nodes()\n",
    "print(num_nodes)"
   ]
  },
  {
   "cell_type": "markdown",
   "metadata": {
    "application/vnd.databricks.v1+cell": {
     "cellMetadata": {},
     "inputWidgets": {},
     "nuid": "e5a04f80-6dc1-4c7f-b6c5-9331a97ef2dc",
     "showTitle": false,
     "title": ""
    }
   },
   "source": [
    "### New york"
   ]
  },
  {
   "cell_type": "code",
   "execution_count": 0,
   "metadata": {
    "application/vnd.databricks.v1+cell": {
     "cellMetadata": {
      "byteLimit": 2048000,
      "rowLimit": 10000
     },
     "inputWidgets": {},
     "nuid": "ae379289-218e-478d-9e47-2877e36d24a9",
     "showTitle": false,
     "title": ""
    }
   },
   "outputs": [],
   "source": [
    "graph = read_gr_graph(ny_path.replace(\".gz\", ''))"
   ]
  },
  {
   "cell_type": "code",
   "execution_count": 0,
   "metadata": {
    "application/vnd.databricks.v1+cell": {
     "cellMetadata": {
      "byteLimit": 2048000,
      "rowLimit": 10000
     },
     "inputWidgets": {},
     "nuid": "0cededd1-cfd2-466e-9be6-cbe9490fb969",
     "showTitle": false,
     "title": ""
    }
   },
   "outputs": [],
   "source": [
    "graph.number_of_edges(), graph.number_of_nodes()"
   ]
  },
  {
   "cell_type": "code",
   "execution_count": 0,
   "metadata": {
    "application/vnd.databricks.v1+cell": {
     "cellMetadata": {
      "byteLimit": 2048000,
      "rowLimit": 10000
     },
     "inputWidgets": {},
     "nuid": "14b57d4d-32d0-495c-bdac-311bc5bd245c",
     "showTitle": false,
     "title": ""
    }
   },
   "outputs": [],
   "source": [
    "graph_ny = nx.to_dict_of_dicts(graph)"
   ]
  },
  {
   "cell_type": "code",
   "execution_count": 0,
   "metadata": {
    "application/vnd.databricks.v1+cell": {
     "cellMetadata": {
      "byteLimit": 2048000,
      "rowLimit": 10000
     },
     "inputWidgets": {},
     "nuid": "588c51d3-e33f-4564-aaae-1865fc3c62c4",
     "showTitle": false,
     "title": ""
    }
   },
   "outputs": [],
   "source": [
    "graph_ny = {\n",
    "    node1: {\n",
    "        node2: subdict['weight'] for node2, subdict in nested_dict.items()\n",
    "    } for node1, nested_dict in graph_ny.items()\n",
    "}"
   ]
  },
  {
   "cell_type": "code",
   "execution_count": 0,
   "metadata": {
    "application/vnd.databricks.v1+cell": {
     "cellMetadata": {
      "byteLimit": 2048000,
      "rowLimit": 10000
     },
     "inputWidgets": {},
     "nuid": "5a84297d-ee67-4465-9b22-2677045876f5",
     "showTitle": false,
     "title": ""
    }
   },
   "outputs": [],
   "source": [
    "graph_ny"
   ]
  },
  {
   "cell_type": "code",
   "execution_count": 0,
   "metadata": {
    "application/vnd.databricks.v1+cell": {
     "cellMetadata": {
      "byteLimit": 2048000,
      "rowLimit": 10000
     },
     "inputWidgets": {},
     "nuid": "635b7d21-05d6-42bc-b5cd-5498ca1ba213",
     "showTitle": false,
     "title": ""
    }
   },
   "outputs": [],
   "source": [
    "start_node = 1\n",
    "start_time = time.time()\n",
    "distances, previous = dijkstra(graph_ny, '1')\n",
    "end_time = time.time()\n",
    "print(\"Time between function executions:\", end_time - start_time, \"seconds\")"
   ]
  },
  {
   "cell_type": "code",
   "execution_count": 0,
   "metadata": {
    "application/vnd.databricks.v1+cell": {
     "cellMetadata": {
      "byteLimit": 2048000,
      "rowLimit": 10000
     },
     "inputWidgets": {},
     "nuid": "80cb2ef8-d41b-43be-9562-8c190406074c",
     "showTitle": false,
     "title": ""
    }
   },
   "outputs": [],
   "source": [
    "distances_df = pd.DataFrame({'Node': list(distances.keys()), 'Distance': list(distances.values())})\n",
    "distances_df.to_csv('distances_ny.csv', index=False)\n",
    "\n",
    "previous_df = pd.DataFrame({'Node': list(previous.keys()), 'Previous': list(previous.values())})\n",
    "previous_df.to_csv('previous_ny.csv', index=False)"
   ]
  },
  {
   "cell_type": "markdown",
   "metadata": {
    "application/vnd.databricks.v1+cell": {
     "cellMetadata": {},
     "inputWidgets": {},
     "nuid": "97f6f3c7-6f3e-46f4-9608-33a5cb825fc5",
     "showTitle": false,
     "title": ""
    }
   },
   "source": [
    "### San Francisco"
   ]
  },
  {
   "cell_type": "code",
   "execution_count": 0,
   "metadata": {
    "application/vnd.databricks.v1+cell": {
     "cellMetadata": {
      "byteLimit": 2048000,
      "rowLimit": 10000
     },
     "inputWidgets": {},
     "nuid": "63c3bb01-1cc6-4abc-94fd-42c8f0ed7f27",
     "showTitle": false,
     "title": ""
    }
   },
   "outputs": [],
   "source": [
    "graph = read_gr_graph(san_path.replace(\".gz\", ''))"
   ]
  },
  {
   "cell_type": "code",
   "execution_count": 0,
   "metadata": {
    "application/vnd.databricks.v1+cell": {
     "cellMetadata": {
      "byteLimit": 2048000,
      "rowLimit": 10000
     },
     "inputWidgets": {},
     "nuid": "e7fa8fdb-2c6b-4076-88b5-e25e51da7f74",
     "showTitle": false,
     "title": ""
    }
   },
   "outputs": [],
   "source": [
    "graph_sa = nx.to_dict_of_dicts(graph)"
   ]
  },
  {
   "cell_type": "code",
   "execution_count": 0,
   "metadata": {
    "application/vnd.databricks.v1+cell": {
     "cellMetadata": {
      "byteLimit": 2048000,
      "rowLimit": 10000
     },
     "inputWidgets": {},
     "nuid": "dd91252c-114a-4760-9242-231660e1a269",
     "showTitle": false,
     "title": ""
    }
   },
   "outputs": [],
   "source": [
    "graph.number_of_edges(), graph.number_of_nodes()"
   ]
  },
  {
   "cell_type": "code",
   "execution_count": 0,
   "metadata": {
    "application/vnd.databricks.v1+cell": {
     "cellMetadata": {
      "byteLimit": 2048000,
      "rowLimit": 10000
     },
     "inputWidgets": {},
     "nuid": "6dd3b4f1-e325-4f5f-ba12-2ac58f2efe40",
     "showTitle": false,
     "title": ""
    }
   },
   "outputs": [],
   "source": [
    "graph_sa = {\n",
    "    node1: {\n",
    "        node2: subdict['weight'] for node2, subdict in nested_dict.items()\n",
    "    } for node1, nested_dict in graph_sa.items()\n",
    "}"
   ]
  },
  {
   "cell_type": "code",
   "execution_count": 0,
   "metadata": {
    "application/vnd.databricks.v1+cell": {
     "cellMetadata": {
      "byteLimit": 2048000,
      "rowLimit": 10000
     },
     "inputWidgets": {},
     "nuid": "7ade815b-a4af-4b23-9401-3fbc061d34de",
     "showTitle": false,
     "title": ""
    }
   },
   "outputs": [],
   "source": [
    "start_node = '1'\n",
    "start_time = time.time()\n",
    "distances, previous = dijkstra(graph_sa, start_node)\n",
    "end_time = time.time()\n",
    "print(\"Time between function executions:\", end_time - start_time, \"seconds\")"
   ]
  },
  {
   "cell_type": "code",
   "execution_count": 0,
   "metadata": {
    "application/vnd.databricks.v1+cell": {
     "cellMetadata": {
      "byteLimit": 2048000,
      "rowLimit": 10000
     },
     "inputWidgets": {},
     "nuid": "fd58cc9e-d4eb-4a15-825c-fee2234e53d2",
     "showTitle": false,
     "title": ""
    }
   },
   "outputs": [],
   "source": [
    "distances_df = pd.DataFrame({'Node': list(distances.keys()), 'Distance': list(distances.values())})\n",
    "distances_df.to_csv('distances_san.csv', index=False)\n",
    "\n",
    "previous_df = pd.DataFrame({'Node': list(previous.keys()), 'Previous': list(previous.values())})\n",
    "previous_df.to_csv('previous_san.csv', index=False)"
   ]
  },
  {
   "cell_type": "code",
   "execution_count": 0,
   "metadata": {
    "application/vnd.databricks.v1+cell": {
     "cellMetadata": {
      "byteLimit": 2048000,
      "rowLimit": 10000
     },
     "inputWidgets": {},
     "nuid": "98fb8491-6596-4933-81c7-735d71e45b85",
     "showTitle": false,
     "title": ""
    }
   },
   "outputs": [],
   "source": [
    "distances_df['Distance'].sum()"
   ]
  },
  {
   "cell_type": "code",
   "execution_count": 0,
   "metadata": {
    "application/vnd.databricks.v1+cell": {
     "cellMetadata": {},
     "inputWidgets": {},
     "nuid": "3d01c3ff-5334-4c8c-a65a-4b418601694c",
     "showTitle": false,
     "title": ""
    }
   },
   "outputs": [],
   "source": []
  },
  {
   "cell_type": "markdown",
   "metadata": {
    "application/vnd.databricks.v1+cell": {
     "cellMetadata": {},
     "inputWidgets": {},
     "nuid": "e21b6cac-1047-479e-98ef-cbc42733c599",
     "showTitle": false,
     "title": ""
    }
   },
   "source": [
    "### Colorado"
   ]
  },
  {
   "cell_type": "code",
   "execution_count": 0,
   "metadata": {
    "application/vnd.databricks.v1+cell": {
     "cellMetadata": {
      "byteLimit": 2048000,
      "rowLimit": 10000
     },
     "inputWidgets": {},
     "nuid": "458bbe12-1db0-40ba-9e48-dca2eabd724b",
     "showTitle": false,
     "title": ""
    }
   },
   "outputs": [],
   "source": [
    "graph = read_gr_graph(col_path.replace(\".gz\", ''))"
   ]
  },
  {
   "cell_type": "code",
   "execution_count": 0,
   "metadata": {
    "application/vnd.databricks.v1+cell": {
     "cellMetadata": {
      "byteLimit": 2048000,
      "rowLimit": 10000
     },
     "inputWidgets": {},
     "nuid": "954be590-c520-4665-8114-2e84422425ea",
     "showTitle": false,
     "title": ""
    }
   },
   "outputs": [],
   "source": [
    "graph.number_of_edges(), graph.number_of_nodes()"
   ]
  },
  {
   "cell_type": "code",
   "execution_count": 0,
   "metadata": {
    "application/vnd.databricks.v1+cell": {
     "cellMetadata": {
      "byteLimit": 2048000,
      "rowLimit": 10000
     },
     "inputWidgets": {},
     "nuid": "95830962-ba10-4dca-86d5-8ad1746080b7",
     "showTitle": false,
     "title": ""
    }
   },
   "outputs": [],
   "source": [
    "graph_col = nx.to_dict_of_dicts(graph)"
   ]
  },
  {
   "cell_type": "code",
   "execution_count": 0,
   "metadata": {
    "application/vnd.databricks.v1+cell": {
     "cellMetadata": {
      "byteLimit": 2048000,
      "rowLimit": 10000
     },
     "inputWidgets": {},
     "nuid": "939155ef-2346-4f67-850d-3d3ef766dcd9",
     "showTitle": false,
     "title": ""
    }
   },
   "outputs": [],
   "source": [
    "graph_col = {\n",
    "    node1: {\n",
    "        node2: subdict['weight'] for node2, subdict in nested_dict.items()\n",
    "    } for node1, nested_dict in graph_col.items()\n",
    "}"
   ]
  },
  {
   "cell_type": "code",
   "execution_count": 0,
   "metadata": {
    "application/vnd.databricks.v1+cell": {
     "cellMetadata": {
      "byteLimit": 2048000,
      "rowLimit": 10000
     },
     "inputWidgets": {},
     "nuid": "8d583881-94d9-424c-9b64-bc5431f4d9e3",
     "showTitle": false,
     "title": ""
    }
   },
   "outputs": [],
   "source": [
    "start_node = '1'\n",
    "start_time = time.time()\n",
    "distances, previous = dijkstra(graph_col, start_node)\n",
    "end_time = time.time()\n",
    "print(\"Time between function executions:\", end_time - start_time, \"seconds\")"
   ]
  },
  {
   "cell_type": "code",
   "execution_count": 0,
   "metadata": {
    "application/vnd.databricks.v1+cell": {
     "cellMetadata": {
      "byteLimit": 2048000,
      "rowLimit": 10000
     },
     "inputWidgets": {},
     "nuid": "990713cb-9fbd-4830-923f-78b55e74b7f7",
     "showTitle": false,
     "title": ""
    }
   },
   "outputs": [],
   "source": [
    "distances_df = pd.DataFrame({'Node': list(distances.keys()), 'Distance': list(distances.values())})\n",
    "distances_df.to_csv('distances_col.csv', index=False)\n",
    "\n",
    "previous_df = pd.DataFrame({'Node': list(previous.keys()), 'Previous': list(previous.values())})\n",
    "previous_df.to_csv('previous_col.csv', index=False)"
   ]
  },
  {
   "cell_type": "markdown",
   "metadata": {
    "application/vnd.databricks.v1+cell": {
     "cellMetadata": {},
     "inputWidgets": {},
     "nuid": "ede762e3-0970-476a-aacd-59a95122fa67",
     "showTitle": false,
     "title": ""
    }
   },
   "source": [
    "## PRIM"
   ]
  },
  {
   "cell_type": "code",
   "execution_count": 0,
   "metadata": {
    "application/vnd.databricks.v1+cell": {
     "cellMetadata": {},
     "inputWidgets": {},
     "nuid": "68c75e0a-350f-459b-b9a9-5bda76bb76e4",
     "showTitle": false,
     "title": ""
    }
   },
   "outputs": [],
   "source": []
  },
  {
   "cell_type": "markdown",
   "metadata": {
    "application/vnd.databricks.v1+cell": {
     "cellMetadata": {},
     "inputWidgets": {},
     "nuid": "8725e796-73eb-4176-9be0-db2fb70559c8",
     "showTitle": false,
     "title": ""
    }
   },
   "source": [
    "````python\n",
    "entrada: G = (V,E), Lista de Adjacência de G: A(v), v pertence a V, matriz de pesos\n",
    "\n",
    "T ← vazio;\n",
    "V' ← {u};\n",
    "\n",
    "para-todo v pertencente a V – V' faça\n",
    "L(v) ← peso ({u,v});\n",
    "fim-para-todo\n",
    "\n",
    "enquanto V' diferente de V faça\n",
    "    ache um vértice w tal que L(w) = min {L(v)| v pertencente a V-V'};\n",
    "    u = o vértice de V', ligado a w, representando a aresta com o menor custo;\n",
    "    e = {u,w};\n",
    "    T ← T U {e};\n",
    "    V' ← V'U {w};\n",
    "    para-todo v pertencente a V – V' faça\n",
    "        se peso({v,w}) < L(v) então\n",
    "            L(v) ← p({v,w});\n",
    "        fim-se\n",
    "    fim-para-todo\n",
    "fim-enquanto\n",
    "saída: T\n",
    "\n",
    "````"
   ]
  },
  {
   "cell_type": "code",
   "execution_count": 0,
   "metadata": {
    "application/vnd.databricks.v1+cell": {
     "cellMetadata": {},
     "inputWidgets": {},
     "nuid": "9cd97a80-f7f6-43e2-b652-69a616471721",
     "showTitle": false,
     "title": ""
    }
   },
   "outputs": [],
   "source": [
    "import heapq\n",
    "\n",
    "def prim(graph, start):\n",
    "    tree = []  # Árvore geradora mínima\n",
    "    all_vertecies = set(graph.keys())  # Conjunto de vértices\n",
    "    visited_vertices = {start}  # Conjunto de vértices já visitados\n",
    "    weights = {}  # Dicionário para armazenar os menores pesos para cada vértice\n",
    "\n",
    "    for v in all_vertecies - visited_vertices:\n",
    "        weights[v] = float('inf')\n",
    "\n",
    "    while visited_vertices != all_vertecies:\n",
    "        w = min(weights, key=weights.get)\n",
    "        u = min(graph[w], key=graph[w].get)\n",
    "        e = (u, w)\n",
    "        tree.append(e)\n",
    "        visited_vertices.add(w)\n",
    "\n",
    "        for v in visited_vertices - visited_vertices:\n",
    "            if v in graph[w] and graph[w][v] < visited_vertices[v]:\n",
    "                visited_vertices[v] = graph[w][v]\n",
    "\n",
    "    return tree\n"
   ]
  },
  {
   "cell_type": "markdown",
   "metadata": {
    "application/vnd.databricks.v1+cell": {
     "cellMetadata": {},
     "inputWidgets": {},
     "nuid": "17046a38-f927-408f-b1f1-71e7be36c6a8",
     "showTitle": false,
     "title": ""
    }
   },
   "source": [
    "### Toy 1"
   ]
  },
  {
   "cell_type": "markdown",
   "metadata": {
    "application/vnd.databricks.v1+cell": {
     "cellMetadata": {},
     "inputWidgets": {},
     "nuid": "eb4a4efb-ee9c-447b-a0af-f877873b7c6f",
     "showTitle": false,
     "title": ""
    }
   },
   "source": [
    "### New york"
   ]
  },
  {
   "cell_type": "markdown",
   "metadata": {
    "application/vnd.databricks.v1+cell": {
     "cellMetadata": {},
     "inputWidgets": {},
     "nuid": "033da753-e5b5-4e5e-a2b8-2826d6dd3abf",
     "showTitle": false,
     "title": ""
    }
   },
   "source": [
    "### San Francisco"
   ]
  },
  {
   "cell_type": "markdown",
   "metadata": {
    "application/vnd.databricks.v1+cell": {
     "cellMetadata": {},
     "inputWidgets": {},
     "nuid": "1f943788-e649-49b7-a143-92c0fccc75fe",
     "showTitle": false,
     "title": ""
    }
   },
   "source": [
    "### Colorado"
   ]
  },
  {
   "cell_type": "markdown",
   "metadata": {
    "application/vnd.databricks.v1+cell": {
     "cellMetadata": {
      "byteLimit": 2048000,
      "rowLimit": 10000
     },
     "inputWidgets": {},
     "nuid": "3c42f4a3-8c86-4807-87fc-89e05951d6f4",
     "showTitle": false,
     "title": ""
    }
   },
   "source": [
    "<table>\n",
    "  <tr>\n",
    "    <th>Instância</th>\n",
    "    <th colspan=\"2\">Grafo</th>\n",
    "    <th colspan=\"2\">CM</th>\n",
    "    <th colspan=\"2\">AGM</th>\n",
    "    <th colspan=\"2\">FM</th>\n",
    "  </tr>\n",
    "  <tr>\n",
    "  <td></td>\n",
    "    <td>n</td>\n",
    "    <td>m</td>\n",
    "    <td>Custo</td>\n",
    "    <td>Tempo (s)</td>\n",
    "        <td>Custo</td>\n",
    "    <td>Tempo (s)</td>\n",
    "        <td>Custo</td>\n",
    "    <td>Tempo (s)</td>\n",
    "  </tr>\n",
    "  <tr>\n",
    "    <td>Toy 1</td>\n",
    "    <td></td>\n",
    "    <td></td>\n",
    "    <td>816</td>\n",
    "    <td>0.0009984970092773438</td>\n",
    "    <td></td>\n",
    "    <td></td>\n",
    "    <td></td>\n",
    "    <td></td>\n",
    "    </tr>\n",
    "      <tr>\n",
    "    <td>New York</td>\n",
    "    <td></td>\n",
    "    <td></td>\n",
    "    <td>816</td>\n",
    "    <td>0.0009984970092773438</td>\n",
    "    <td></td>\n",
    "    <td></td>\n",
    "    <td></td>\n",
    "    <td></td>\n",
    "    </tr>\n",
    "    <tr>\n",
    "      <td>San Francisco</td>\n",
    "      <td></td>\n",
    "      <td></td>\n",
    "      <td>816</td>\n",
    "      <td>0.0009984970092773438</td>\n",
    "      <td></td>\n",
    "      <td></td>\n",
    "      <td></td>\n",
    "      <td></td>\n",
    "    </tr>\n",
    "    <tr>\n",
    "      <td>Colorado</td>\n",
    "      <td></td>\n",
    "      <td></td>\n",
    "      <td>816</td>\n",
    "      <td>0.0009984970092773438</td>\n",
    "      <td></td>\n",
    "      <td></td>\n",
    "      <td></td>\n",
    "      <td></td>\n",
    "    </tr>\n",
    "</table>"
   ]
  },
  {
   "cell_type": "markdown",
   "metadata": {
    "application/vnd.databricks.v1+cell": {
     "cellMetadata": {},
     "inputWidgets": {},
     "nuid": "7b58d95c-f4d7-4a2e-8630-25b3b14051b8",
     "showTitle": false,
     "title": ""
    }
   },
   "source": [
    "## Resultados\n",
    "\n",
    "<table>\n",
    "  <tr>\n",
    "    <td>Instância</td>\n",
    "    <th colspan=\"2\">Grafo</th>\n",
    "    <th colspan=\"2\">CM</th>\n",
    "    <th colspan=\"2\">AGM</th>\n",
    "    <th colspan=\"2\">FM</th>\n",
    "  </tr>\n",
    "  <tr>\n",
    "  <td></td>\n",
    "    <td>n</td>\n",
    "    <td>m</td>\n",
    "    <td>Custo</td>\n",
    "    <td>Tempo (s)</td>\n",
    "    <td>Custo</td>\n",
    "    <td>Tempo (s)</td>\n",
    "    <td>Custo</td>\n",
    "    <td>Tempo (s)</td>\n",
    "  </tr>\n",
    "  <tr>\n",
    "    <td>Toy 1</td>\n",
    "    <td></td>\n",
    "    <td></td>\n",
    "    <td>816</td>\n",
    "    <td>0.0009984970092773438</td>\n",
    "    <td></td>\n",
    "    <td></td>\n",
    "    <td></td>\n",
    "    <td></td>\n",
    "    </tr>\n",
    "      <tr>\n",
    "    <td>New York</td>\n",
    "    <td></td>\n",
    "    <td></td>\n",
    "    <td>816</td>\n",
    "    <td>0.0009984970092773438</td>\n",
    "    <td></td>\n",
    "    <td></td>\n",
    "    <td></td>\n",
    "    <td></td>\n",
    "    </tr>\n",
    "    <tr>\n",
    "      <td>San Francisco</td>\n",
    "      <td></td>\n",
    "      <td></td>\n",
    "      <td>816</td>\n",
    "      <td>0.0009984970092773438</td>\n",
    "      <td></td>\n",
    "      <td></td>\n",
    "      <td></td>\n",
    "      <td></td>\n",
    "    </tr>\n",
    "    <tr>\n",
    "      <td>Colorado</td>\n",
    "      <td></td>\n",
    "      <td></td>\n",
    "      <td>816</td>\n",
    "      <td>0.0009984970092773438</td>\n",
    "      <td></td>\n",
    "      <td></td>\n",
    "      <td></td>\n",
    "      <td></td>\n",
    "    </tr>\n",
    "</table>"
   ]
  },
  {
   "cell_type": "code",
   "execution_count": 0,
   "metadata": {
    "application/vnd.databricks.v1+cell": {
     "cellMetadata": {},
     "inputWidgets": {},
     "nuid": "585b9548-7322-41b8-929a-7c408edc089c",
     "showTitle": false,
     "title": ""
    }
   },
   "outputs": [],
   "source": [
    "USA-road-d.BAY.gr\tDisjkstraOutro\t{'1': 0, '2': 1988, '3': 11311, '4': 12376, '5...\t9329.876388\t295629435062\n",
    "3\tUSA-road-d.COL.gr\tDisjkstraOutro\t{'1': 0, '2': 12406, '3': 118963, '4': 120045,...\t16201.911284\t1104876702568\n",
    "4\tUSA-road-d.NY.gr\tDisjkstraOutro\t{'1': 0, '2': 803, '3': 50999, '4': 50841, '5'...\t9347.420352\t186686642878"
   ]
  }
 ],
 "metadata": {
  "application/vnd.databricks.v1+notebook": {
   "dashboards": [],
   "language": "python",
   "notebookMetadata": {
    "pythonIndentUnit": 4
   },
   "notebookName": "code",
   "widgets": {}
  },
  "colab": {
   "name": "PLN.ipynb",
   "provenance": [],
   "version": "0.3.2"
  },
  "kernelspec": {
   "display_name": "Python 3.8.8 ('cursos')",
   "language": "python",
   "name": "python3"
  },
  "language_info": {
   "codemirror_mode": {
    "name": "ipython",
    "version": 3
   },
   "file_extension": ".py",
   "mimetype": "text/x-python",
   "name": "python",
   "nbconvert_exporter": "python",
   "pygments_lexer": "ipython3",
   "version": "3.10.11"
  },
  "vscode": {
   "interpreter": {
    "hash": "c9f1699d804fa66b1086f9af2a0a5cbb5f8d8881a981a166c2b61a59da5b4d52"
   }
  }
 },
 "nbformat": 4,
 "nbformat_minor": 0
}
