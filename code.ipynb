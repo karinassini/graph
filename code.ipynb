{
 "cells": [
  {
   "cell_type": "code",
   "execution_count": 0,
   "metadata": {
    "application/vnd.databricks.v1+cell": {
     "cellMetadata": {
      "byteLimit": 2048000,
      "rowLimit": 10000
     },
     "inputWidgets": {},
     "nuid": "fa62de67-3ea0-406f-8c9d-9a5858e4eaec",
     "showTitle": false,
     "title": ""
    }
   },
   "outputs": [],
   "source": [
    "from core import *\n",
    "import networkx as nx\n",
    "import time\n",
    "import pandas as pd"
   ]
  },
  {
   "cell_type": "markdown",
   "metadata": {
    "application/vnd.databricks.v1+cell": {
     "cellMetadata": {
      "byteLimit": 2048000,
      "rowLimit": 10000
     },
     "inputWidgets": {},
     "nuid": "1662cfff-8d97-4e76-abf4-fbe473a8119f",
     "showTitle": false,
     "title": ""
    }
   },
   "source": [
    "# Leitura das instâncias \n",
    "\n",
    "- Instância toy1 (toy1_instance): grafo valorado com custos positivos e não direcionado. Exemplo de entrada\n",
    "para ser usada pelos algoritmos de caminho mínimo e árvore geradora mínima."
   ]
  },
  {
   "cell_type": "code",
   "execution_count": 0,
   "metadata": {
    "application/vnd.databricks.v1+cell": {
     "cellMetadata": {
      "byteLimit": 2048000,
      "rowLimit": 10000
     },
     "inputWidgets": {},
     "nuid": "a25c0e03-1e29-4abe-b53c-b939f498763b",
     "showTitle": false,
     "title": ""
    }
   },
   "outputs": [],
   "source": [
    "toy1_instance = {\n",
    "    \"a\": {\"b\": 60, \"c\": 54, \"d\": 42},\n",
    "    \"b\": {\"a\": 60, \"d\": 71, \"f\": 29},\n",
    "    \"c\": {\"a\": 54, \"d\": 56, \"e\": 67},\n",
    "    \"d\": {\"a\": 42, \"b\": 71, \"c\": 56, \"f\": 52, \"g\": 87, \"e\": 26},\n",
    "    \"e\": {\"c\": 67, \"d\": 26, \"g\": 70, \"i\": 73},\n",
    "    \"f\": {\"b\": 29, \"d\": 52, \"g\": 20, \"h\": 25},\n",
    "    \"g\": {\"d\": 87, \"e\": 70, \"f\": 20, \"h\": 36, \"j\": 32, \"i\": 59},\n",
    "    \"h\": {\"f\": 25, \"g\": 36, \"j\": 25},\n",
    "    \"i\": {\"e\": 73, \"g\": 59, \"j\": 26},\n",
    "    \"j\": {\"g\": 32, \"h\": 25, \"i\": 26},\n",
    "}"
   ]
  },
  {
   "cell_type": "markdown",
   "metadata": {
    "application/vnd.databricks.v1+cell": {
     "cellMetadata": {
      "byteLimit": 2048000,
      "rowLimit": 10000
     },
     "inputWidgets": {},
     "nuid": "a2be53f0-7930-4ae8-8f72-11aa5d0e5adb",
     "showTitle": false,
     "title": ""
    }
   },
   "source": [
    "- Instância toy2: grafo de fluxo valorado com custos positivos e direcionado. Exemplo de\n",
    "entrada para ser usada pelo algoritmo de fluxo (Ford-Fulkerson)."
   ]
  },
  {
   "cell_type": "code",
   "execution_count": 0,
   "metadata": {
    "application/vnd.databricks.v1+cell": {
     "cellMetadata": {
      "byteLimit": 2048000,
      "rowLimit": 10000
     },
     "inputWidgets": {},
     "nuid": "bf058aab-fd51-4123-82b0-79ecc664f8fe",
     "showTitle": false,
     "title": ""
    }
   },
   "outputs": [],
   "source": [
    "toy2_instance = {\n",
    "    \"1\": {\"2\": 3, \"3\": 3},\n",
    "    \"2\": {\"3\": 1, \"4\": 3, \"5\": 2},\n",
    "    \"3\": {\"4\": 5},\n",
    "    \"4\": {\"6\": 6},\n",
    "    \"5\": {\"4\": 3, \"6\": 3},\n",
    "}"
   ]
  },
  {
   "cell_type": "markdown",
   "metadata": {
    "application/vnd.databricks.v1+cell": {
     "cellMetadata": {
      "byteLimit": 2048000,
      "rowLimit": 10000
     },
     "inputWidgets": {},
     "nuid": "aeffad6d-6930-4ae4-afb9-2f62ba9ce461",
     "showTitle": false,
     "title": ""
    }
   },
   "source": [
    "Instâncias de benchmarks disponíveis na literatura: exemplos de entrada para serem aplicadas\n",
    "aos algoritmos de caminho mínimo e árvore geradora mínima.\n",
    "Os algoritmos devem ser executados com pelo menos 3 diferentes instâncias do site\n",
    "http://www.dis.uniroma1.it/challenge9/download.shtml. Neste site existe uma tabela com arquivos\n",
    "de dados referentes a 12 redes de estradas dos USA.\n",
    "\n",
    "Sugiro escolher as três menores: New York\n",
    "(NY), San Francisco (BAY) e Colorado (COL). Existem dois tipos de rede para cada cidade citada\n",
    "acima: uma delas possui informações de distância (coluna Distance graph da tabela) e a outra,\n",
    "tempo de viagem (coluna Travel Time graph da tabela). Sugiro aplicar suas implementações apenas\n",
    "nas redes de distâncias. Informações do formato dos arquivos de dados podem ser encontradas em\n",
    "http://www.dis.uniroma1.it/challenge9/format.shtml."
   ]
  },
  {
   "cell_type": "code",
   "execution_count": 0,
   "metadata": {
    "application/vnd.databricks.v1+cell": {
     "cellMetadata": {
      "byteLimit": 2048000,
      "rowLimit": 10000
     },
     "inputWidgets": {},
     "nuid": "db98a3e3-f430-4708-beaa-109c956e13d0",
     "showTitle": false,
     "title": ""
    }
   },
   "outputs": [],
   "source": [
    "ny_path = \"USA-road-d.NY.gr.gz\"\n",
    "san_path = \"USA-road-d.BAY.gr.gz\"\n",
    "col_path = \"USA-road-d.COL.gr.gz\""
   ]
  },
  {
   "cell_type": "code",
   "execution_count": 0,
   "metadata": {
    "application/vnd.databricks.v1+cell": {
     "cellMetadata": {
      "byteLimit": 2048000,
      "rowLimit": 10000
     },
     "inputWidgets": {},
     "nuid": "d7ae27fd-f0da-4e5a-ba23-4ece7723c03a",
     "showTitle": false,
     "title": ""
    }
   },
   "outputs": [],
   "source": [
    "download_data(\n",
    "    \"http://www.diag.uniroma1.it/challenge9/data/USA-road-d/USA-road-d.NY.gr.gz\",\n",
    "    ny_path,\n",
    ")\n",
    "\n",
    "download_data(\n",
    "    \"http://www.diag.uniroma1.it/challenge9/data/USA-road-d/USA-road-d.BAY.gr.gz\",\n",
    "    san_path,\n",
    ")\n",
    "download_data(\n",
    "    \"http://www.diag.uniroma1.it//challenge9/data/USA-road-d/USA-road-d.COL.gr.gz\",\n",
    "    col_path,\n",
    ")"
   ]
  },
  {
   "cell_type": "markdown",
   "metadata": {
    "application/vnd.databricks.v1+cell": {
     "cellMetadata": {},
     "inputWidgets": {},
     "nuid": "a82a722c-b836-4076-bea7-a83e70777ac4",
     "showTitle": false,
     "title": ""
    }
   },
   "source": [
    "## Arquivo de resultados"
   ]
  },
  {
   "cell_type": "code",
   "execution_count": 0,
   "metadata": {
    "application/vnd.databricks.v1+cell": {
     "cellMetadata": {
      "byteLimit": 2048000,
      "rowLimit": 10000
     },
     "inputWidgets": {},
     "nuid": "84567e62-0d04-47be-8049-3eea922362c6",
     "showTitle": false,
     "title": ""
    }
   },
   "outputs": [],
   "source": [
    "try:\n",
    "    results = pd.read_csv(\"results.csv\")\n",
    "except Exception as e:\n",
    "    results = pd.DataFrame(\n",
    "        columns=[\n",
    "            \"instancia\",\n",
    "            \"n\",\n",
    "            \"m\",\n",
    "            \"algoritmo\",\n",
    "            \"custo\",\n",
    "            \"tempo\",\n",
    "            \"resultado\",\n",
    "            \"anteriores\",\n",
    "        ]\n",
    "    )"
   ]
  },
  {
   "cell_type": "code",
   "execution_count": 0,
   "metadata": {
    "application/vnd.databricks.v1+cell": {
     "cellMetadata": {
      "byteLimit": 2048000,
      "rowLimit": 10000
     },
     "inputWidgets": {},
     "nuid": "b333cff0-1ab0-4f64-ab87-0c4fb1abedb1",
     "showTitle": false,
     "title": ""
    }
   },
   "outputs": [],
   "source": [
    "results"
   ]
  },
  {
   "cell_type": "markdown",
   "metadata": {
    "application/vnd.databricks.v1+cell": {
     "cellMetadata": {
      "byteLimit": 2048000,
      "rowLimit": 10000
     },
     "inputWidgets": {},
     "nuid": "4f30b6ae-17a2-48b5-91f3-6391778a616e",
     "showTitle": false,
     "title": ""
    }
   },
   "source": [
    "# Plot dos gráficos mais simples"
   ]
  },
  {
   "cell_type": "markdown",
   "metadata": {
    "application/vnd.databricks.v1+cell": {
     "cellMetadata": {
      "byteLimit": 2048000,
      "rowLimit": 10000
     },
     "inputWidgets": {},
     "nuid": "0bfbf989-3cfc-4c52-941d-1716aa0163e4",
     "showTitle": false,
     "title": ""
    }
   },
   "source": [
    "## Toy 1"
   ]
  },
  {
   "cell_type": "code",
   "execution_count": 0,
   "metadata": {
    "application/vnd.databricks.v1+cell": {
     "cellMetadata": {
      "byteLimit": 2048000,
      "rowLimit": 10000
     },
     "inputWidgets": {},
     "nuid": "bef1ba9c-d732-44ae-870b-04b456e8cea3",
     "showTitle": false,
     "title": ""
    }
   },
   "outputs": [],
   "source": [
    "# Create an empty graph\n",
    "graph_toy1_instance = nx.Graph()\n",
    "\n",
    "# Add nodes from adjacency list\n",
    "graph_toy1_instance.add_nodes_from(toy1_instance.keys())\n",
    "\n",
    "# Add edges from adjacency list\n",
    "for node, neighbors in toy1_instance.items():\n",
    "    for neighbor, weight in neighbors.items():\n",
    "        graph_toy1_instance.add_edge(node, neighbor, weight=weight)"
   ]
  },
  {
   "cell_type": "code",
   "execution_count": 0,
   "metadata": {
    "application/vnd.databricks.v1+cell": {
     "cellMetadata": {
      "byteLimit": 2048000,
      "rowLimit": 10000
     },
     "inputWidgets": {},
     "nuid": "3e92cee9-8e93-4f75-9d83-3f89a23845cd",
     "showTitle": false,
     "title": ""
    }
   },
   "outputs": [],
   "source": [
    "plot_graph(graph_toy1_instance)"
   ]
  },
  {
   "cell_type": "markdown",
   "metadata": {
    "application/vnd.databricks.v1+cell": {
     "cellMetadata": {
      "byteLimit": 2048000,
      "rowLimit": 10000
     },
     "inputWidgets": {},
     "nuid": "f3ec28d6-6e09-485d-af9d-39e26cf753b9",
     "showTitle": false,
     "title": ""
    }
   },
   "source": [
    "## Toy 2"
   ]
  },
  {
   "cell_type": "code",
   "execution_count": 0,
   "metadata": {
    "application/vnd.databricks.v1+cell": {
     "cellMetadata": {
      "byteLimit": 2048000,
      "rowLimit": 10000
     },
     "inputWidgets": {},
     "nuid": "56a9e5fa-e796-4bb7-b920-3a9a7f9d266e",
     "showTitle": false,
     "title": ""
    }
   },
   "outputs": [],
   "source": [
    "graph_toy2_instance = nx.DiGraph()\n",
    "\n",
    "# Add nodes from adjacency list\n",
    "graph_toy2_instance.add_nodes_from(toy2_instance.keys())\n",
    "\n",
    "# Add edges from adjacency list\n",
    "for node, neighbors in toy2_instance.items():\n",
    "    for neighbor, weight in neighbors.items():\n",
    "        graph_toy2_instance.add_edge(node, neighbor, weight=weight)\n"
   ]
  },
  {
   "cell_type": "code",
   "execution_count": 0,
   "metadata": {
    "application/vnd.databricks.v1+cell": {
     "cellMetadata": {
      "byteLimit": 2048000,
      "rowLimit": 10000
     },
     "inputWidgets": {},
     "nuid": "a92a0118-433e-4e28-8fef-0c5e0f6b73df",
     "showTitle": false,
     "title": ""
    }
   },
   "outputs": [],
   "source": [
    "plot_graph(graph_toy2_instance, arrows=True)"
   ]
  },
  {
   "cell_type": "markdown",
   "metadata": {
    "application/vnd.databricks.v1+cell": {
     "cellMetadata": {
      "byteLimit": 2048000,
      "rowLimit": 10000
     },
     "inputWidgets": {},
     "nuid": "298d7318-2ad2-462f-a56f-b196148fe4a1",
     "showTitle": false,
     "title": ""
    }
   },
   "source": [
    "# Djikstra"
   ]
  },
  {
   "cell_type": "markdown",
   "metadata": {
    "application/vnd.databricks.v1+cell": {
     "cellMetadata": {
      "byteLimit": 2048000,
      "rowLimit": 10000
     },
     "inputWidgets": {},
     "nuid": "28903d00-3be3-4d12-aa55-bc007fd65d93",
     "showTitle": false,
     "title": ""
    }
   },
   "source": [
    "````python\n",
    "\n",
    "vINI = vértice inicial\n",
    "d(vINI, vINI) = 0\n",
    "d(vINI, i) = INFINITO, para todo i, i pertence a V – {vINI}\n",
    "fechado = vazio\n",
    "aberto = V\n",
    "anterior(i) = 0, para todo i, i pertence a V\n",
    "enquanto(aberto ≠ vazio) {\n",
    "    k = vértice pertencente a aberto, mais próximo do vértice inicial\n",
    "    fechado = fechado + k; \n",
    "    aberto = aberto – k;\n",
    "    para cada vizinho i de k que está em aberto faça{\n",
    "        custo = min{d(vINI, i), d(vINI,k) + c(k,i)}\n",
    "\n",
    "        se (custo < d(vINI, i)) então\n",
    "            d(vINI, i) = custo; anterior(i) = k\n",
    "\n",
    "    }\n",
    "}\n",
    "\n",
    "````"
   ]
  },
  {
   "cell_type": "markdown",
   "metadata": {
    "application/vnd.databricks.v1+cell": {
     "cellMetadata": {
      "byteLimit": 2048000,
      "rowLimit": 10000
     },
     "inputWidgets": {},
     "nuid": "b0555535-0c14-4794-b2ae-7ae51edab0be",
     "showTitle": false,
     "title": ""
    }
   },
   "source": [
    "## TOY 1"
   ]
  },
  {
   "cell_type": "code",
   "execution_count": 0,
   "metadata": {
    "application/vnd.databricks.v1+cell": {
     "cellMetadata": {
      "byteLimit": 2048000,
      "rowLimit": 10000
     },
     "inputWidgets": {},
     "nuid": "70d1fc1d-dae0-456d-95ba-c2d7bd7ac107",
     "showTitle": false,
     "title": ""
    }
   },
   "outputs": [],
   "source": [
    "start_node = \"a\"\n",
    "start_time = time.time()\n",
    "distances, previous = dijkstra(toy1_instance, start_node)\n",
    "end_time = time.time()"
   ]
  },
  {
   "cell_type": "code",
   "execution_count": 0,
   "metadata": {
    "application/vnd.databricks.v1+cell": {
     "cellMetadata": {
      "byteLimit": 2048000,
      "rowLimit": 10000
     },
     "inputWidgets": {},
     "nuid": "989cf4e9-235d-4b73-80ec-b1690d61ab2f",
     "showTitle": false,
     "title": ""
    }
   },
   "outputs": [],
   "source": [
    "print(\"Time between function executions:\", end_time - start_time, \"seconds\")"
   ]
  },
  {
   "cell_type": "code",
   "execution_count": 0,
   "metadata": {
    "application/vnd.databricks.v1+cell": {
     "cellMetadata": {
      "byteLimit": 2048000,
      "rowLimit": 10000
     },
     "inputWidgets": {},
     "nuid": "15bba7a0-610b-4a15-9a42-dccda7829a81",
     "showTitle": false,
     "title": ""
    }
   },
   "outputs": [],
   "source": [
    "results_list = [\n",
    "    \"toy1\",\n",
    "    graph_toy1_instance.number_of_nodes(),\n",
    "    graph_toy1_instance.number_of_edges(),\n",
    "    \"Dijkstra\",\n",
    "    sum(distances.values()),\n",
    "    end_time - start_time,\n",
    "    distances,\n",
    "    previous\n",
    "]\n",
    "\n",
    "results.loc[len(results)] = results_list"
   ]
  },
  {
   "cell_type": "markdown",
   "metadata": {
    "application/vnd.databricks.v1+cell": {
     "cellMetadata": {},
     "inputWidgets": {},
     "nuid": "e5a04f80-6dc1-4c7f-b6c5-9331a97ef2dc",
     "showTitle": false,
     "title": ""
    }
   },
   "source": [
    "## New york"
   ]
  },
  {
   "cell_type": "code",
   "execution_count": 0,
   "metadata": {
    "application/vnd.databricks.v1+cell": {
     "cellMetadata": {
      "byteLimit": 2048000,
      "rowLimit": 10000
     },
     "inputWidgets": {},
     "nuid": "ae379289-218e-478d-9e47-2877e36d24a9",
     "showTitle": false,
     "title": ""
    }
   },
   "outputs": [],
   "source": [
    "graph = read_gr_graph(ny_path.replace(\".gz\", ''))"
   ]
  },
  {
   "cell_type": "code",
   "execution_count": 0,
   "metadata": {
    "application/vnd.databricks.v1+cell": {
     "cellMetadata": {
      "byteLimit": 2048000,
      "rowLimit": 10000
     },
     "inputWidgets": {},
     "nuid": "14b57d4d-32d0-495c-bdac-311bc5bd245c",
     "showTitle": false,
     "title": ""
    }
   },
   "outputs": [],
   "source": [
    "graph_ny = nx.to_dict_of_dicts(graph)"
   ]
  },
  {
   "cell_type": "code",
   "execution_count": 0,
   "metadata": {
    "application/vnd.databricks.v1+cell": {
     "cellMetadata": {
      "byteLimit": 2048000,
      "rowLimit": 10000
     },
     "inputWidgets": {},
     "nuid": "588c51d3-e33f-4564-aaae-1865fc3c62c4",
     "showTitle": false,
     "title": ""
    }
   },
   "outputs": [],
   "source": [
    "graph_ny = {\n",
    "    node1: {\n",
    "        node2: subdict['weight'] for node2, subdict in nested_dict.items()\n",
    "    } for node1, nested_dict in graph_ny.items()\n",
    "}"
   ]
  },
  {
   "cell_type": "code",
   "execution_count": 0,
   "metadata": {
    "application/vnd.databricks.v1+cell": {
     "cellMetadata": {
      "byteLimit": 2048000,
      "rowLimit": 10000
     },
     "inputWidgets": {},
     "nuid": "5a84297d-ee67-4465-9b22-2677045876f5",
     "showTitle": false,
     "title": ""
    }
   },
   "outputs": [],
   "source": [
    "graph_ny"
   ]
  },
  {
   "cell_type": "code",
   "execution_count": 0,
   "metadata": {
    "application/vnd.databricks.v1+cell": {
     "cellMetadata": {
      "byteLimit": 2048000,
      "rowLimit": 10000
     },
     "inputWidgets": {},
     "nuid": "635b7d21-05d6-42bc-b5cd-5498ca1ba213",
     "showTitle": false,
     "title": ""
    }
   },
   "outputs": [],
   "source": [
    "start_node = 1\n",
    "start_time = time.time()\n",
    "distances, previous = dijkstra(graph_ny, '1')\n",
    "end_time = time.time()\n",
    "print(\"Time between function executions:\", end_time - start_time, \"seconds\")"
   ]
  },
  {
   "cell_type": "code",
   "execution_count": 0,
   "metadata": {
    "application/vnd.databricks.v1+cell": {
     "cellMetadata": {
      "byteLimit": 2048000,
      "rowLimit": 10000
     },
     "inputWidgets": {},
     "nuid": "80cb2ef8-d41b-43be-9562-8c190406074c",
     "showTitle": false,
     "title": ""
    }
   },
   "outputs": [],
   "source": [
    "distances_df = pd.DataFrame({'Node': list(distances.keys()), 'Distance': list(distances.values())})\n",
    "distances_df.to_csv('distances_ny.csv', index=False)\n",
    "\n",
    "previous_df = pd.DataFrame({'Node': list(previous.keys()), 'Previous': list(previous.values())})\n",
    "previous_df.to_csv('previous_ny.csv', index=False)"
   ]
  },
  {
   "cell_type": "code",
   "execution_count": 0,
   "metadata": {
    "application/vnd.databricks.v1+cell": {
     "cellMetadata": {
      "byteLimit": 2048000,
      "rowLimit": 10000
     },
     "inputWidgets": {},
     "nuid": "8a166f3a-e978-4d86-a2d5-f47914f4e5b0",
     "showTitle": false,
     "title": ""
    }
   },
   "outputs": [],
   "source": [
    "distances_df = pd.read_csv('distances_ny.csv')\n",
    "previous_df = pd.read_csv('previous_ny.csv')"
   ]
  },
  {
   "cell_type": "code",
   "execution_count": 0,
   "metadata": {
    "application/vnd.databricks.v1+cell": {
     "cellMetadata": {
      "byteLimit": 2048000,
      "rowLimit": 10000
     },
     "inputWidgets": {},
     "nuid": "cadc266d-ef25-45f1-a1ca-e196505f2155",
     "showTitle": false,
     "title": ""
    }
   },
   "outputs": [],
   "source": [
    "column1 = distances_df['Node'].tolist()\n",
    "column2 = distances_df['Distance'].tolist()\n",
    "distances = dict(zip(column1, column2))\n",
    "total_cost = sum(distances_df['Distance'])"
   ]
  },
  {
   "cell_type": "code",
   "execution_count": 0,
   "metadata": {
    "application/vnd.databricks.v1+cell": {
     "cellMetadata": {
      "byteLimit": 2048000,
      "rowLimit": 10000
     },
     "inputWidgets": {},
     "nuid": "4a57dd11-e1ed-4de0-9a88-453877685b25",
     "showTitle": false,
     "title": ""
    }
   },
   "outputs": [],
   "source": [
    "column1 = previous_df['Node'].tolist()\n",
    "column2 = previous_df['Previous'].tolist()\n",
    "previous = dict(zip(column1, column2))"
   ]
  },
  {
   "cell_type": "code",
   "execution_count": 0,
   "metadata": {
    "application/vnd.databricks.v1+cell": {
     "cellMetadata": {
      "byteLimit": 2048000,
      "rowLimit": 10000
     },
     "inputWidgets": {},
     "nuid": "b597075a-c82e-4669-8128-a902801a457c",
     "showTitle": false,
     "title": ""
    }
   },
   "outputs": [],
   "source": [
    "results_list = [\n",
    "    \"new_york\",\n",
    "    graph.number_of_nodes(),\n",
    "    graph.number_of_edges(),\n",
    "    \"Dijkstra\",\n",
    "    total_cost,\n",
    "    end_time - start_time,\n",
    "    distances,\n",
    "    previous\n",
    "]\n",
    "\n",
    "results.loc[len(results)] = results_list"
   ]
  },
  {
   "cell_type": "code",
   "execution_count": 0,
   "metadata": {
    "application/vnd.databricks.v1+cell": {
     "cellMetadata": {
      "byteLimit": 2048000,
      "rowLimit": 10000
     },
     "inputWidgets": {},
     "nuid": "085ce8a1-c0b4-44ea-a1fe-f98c6ffbea8b",
     "showTitle": false,
     "title": ""
    }
   },
   "outputs": [],
   "source": [
    "results"
   ]
  },
  {
   "cell_type": "markdown",
   "metadata": {
    "application/vnd.databricks.v1+cell": {
     "cellMetadata": {},
     "inputWidgets": {},
     "nuid": "97f6f3c7-6f3e-46f4-9608-33a5cb825fc5",
     "showTitle": false,
     "title": ""
    }
   },
   "source": [
    "## San Francisco"
   ]
  },
  {
   "cell_type": "code",
   "execution_count": 0,
   "metadata": {
    "application/vnd.databricks.v1+cell": {
     "cellMetadata": {
      "byteLimit": 2048000,
      "rowLimit": 10000
     },
     "inputWidgets": {},
     "nuid": "63c3bb01-1cc6-4abc-94fd-42c8f0ed7f27",
     "showTitle": false,
     "title": ""
    }
   },
   "outputs": [],
   "source": [
    "graph = read_gr_graph(san_path.replace(\".gz\", ''))"
   ]
  },
  {
   "cell_type": "code",
   "execution_count": 0,
   "metadata": {
    "application/vnd.databricks.v1+cell": {
     "cellMetadata": {
      "byteLimit": 2048000,
      "rowLimit": 10000
     },
     "inputWidgets": {},
     "nuid": "e7fa8fdb-2c6b-4076-88b5-e25e51da7f74",
     "showTitle": false,
     "title": ""
    }
   },
   "outputs": [],
   "source": [
    "graph_sa = nx.to_dict_of_dicts(graph)"
   ]
  },
  {
   "cell_type": "code",
   "execution_count": 0,
   "metadata": {
    "application/vnd.databricks.v1+cell": {
     "cellMetadata": {
      "byteLimit": 2048000,
      "rowLimit": 10000
     },
     "inputWidgets": {},
     "nuid": "dd91252c-114a-4760-9242-231660e1a269",
     "showTitle": false,
     "title": ""
    }
   },
   "outputs": [],
   "source": [
    "graph.number_of_edges(), graph.number_of_nodes()"
   ]
  },
  {
   "cell_type": "code",
   "execution_count": 0,
   "metadata": {
    "application/vnd.databricks.v1+cell": {
     "cellMetadata": {
      "byteLimit": 2048000,
      "rowLimit": 10000
     },
     "inputWidgets": {},
     "nuid": "6dd3b4f1-e325-4f5f-ba12-2ac58f2efe40",
     "showTitle": false,
     "title": ""
    }
   },
   "outputs": [],
   "source": [
    "graph_sa = {\n",
    "    node1: {\n",
    "        node2: subdict['weight'] for node2, subdict in nested_dict.items()\n",
    "    } for node1, nested_dict in graph_sa.items()\n",
    "}"
   ]
  },
  {
   "cell_type": "code",
   "execution_count": 0,
   "metadata": {
    "application/vnd.databricks.v1+cell": {
     "cellMetadata": {
      "byteLimit": 2048000,
      "rowLimit": 10000
     },
     "inputWidgets": {},
     "nuid": "7ade815b-a4af-4b23-9401-3fbc061d34de",
     "showTitle": false,
     "title": ""
    }
   },
   "outputs": [],
   "source": [
    "start_node = '1'\n",
    "start_time = time.time()\n",
    "distances, previous = dijkstra(graph_sa, start_node)\n",
    "end_time = time.time()\n",
    "print(\"Time between function executions:\", end_time - start_time, \"seconds\")"
   ]
  },
  {
   "cell_type": "code",
   "execution_count": 0,
   "metadata": {
    "application/vnd.databricks.v1+cell": {
     "cellMetadata": {
      "byteLimit": 2048000,
      "rowLimit": 10000
     },
     "inputWidgets": {},
     "nuid": "fd58cc9e-d4eb-4a15-825c-fee2234e53d2",
     "showTitle": false,
     "title": ""
    }
   },
   "outputs": [],
   "source": [
    "distances_df = pd.DataFrame({'Node': list(distances.keys()), 'Distance': list(distances.values())})\n",
    "distances_df.to_csv('distances_san.csv', index=False)\n",
    "\n",
    "previous_df = pd.DataFrame({'Node': list(previous.keys()), 'Previous': list(previous.values())})\n",
    "previous_df.to_csv('previous_san.csv', index=False)"
   ]
  },
  {
   "cell_type": "code",
   "execution_count": 0,
   "metadata": {
    "application/vnd.databricks.v1+cell": {
     "cellMetadata": {
      "byteLimit": 2048000,
      "rowLimit": 10000
     },
     "inputWidgets": {},
     "nuid": "db19ab17-66e7-4b34-ae34-4f3a02ab0a42",
     "showTitle": false,
     "title": ""
    }
   },
   "outputs": [],
   "source": [
    "distances_df = pd.read_csv('distances_san.csv')\n",
    "previous_df = pd.read_csv('previous_san.csv')"
   ]
  },
  {
   "cell_type": "code",
   "execution_count": 0,
   "metadata": {
    "application/vnd.databricks.v1+cell": {
     "cellMetadata": {
      "byteLimit": 2048000,
      "rowLimit": 10000
     },
     "inputWidgets": {},
     "nuid": "6908929c-9d22-4e93-a19b-40f58e87876e",
     "showTitle": false,
     "title": ""
    }
   },
   "outputs": [],
   "source": [
    "column1 = distances_df['Node'].tolist()\n",
    "column2 = distances_df['Distance'].tolist()\n",
    "distances = dict(zip(column1, column2))\n",
    "total_cost = sum(distances_df['Distance'])"
   ]
  },
  {
   "cell_type": "code",
   "execution_count": 0,
   "metadata": {
    "application/vnd.databricks.v1+cell": {
     "cellMetadata": {
      "byteLimit": 2048000,
      "rowLimit": 10000
     },
     "inputWidgets": {},
     "nuid": "04d3ea27-eb78-4d3b-8102-53db6ba98f18",
     "showTitle": false,
     "title": ""
    }
   },
   "outputs": [],
   "source": [
    "column1 = previous_df['Node'].tolist()\n",
    "column2 = previous_df['Previous'].tolist()\n",
    "previous = dict(zip(column1, column2))"
   ]
  },
  {
   "cell_type": "code",
   "execution_count": 0,
   "metadata": {
    "application/vnd.databricks.v1+cell": {
     "cellMetadata": {
      "byteLimit": 2048000,
      "rowLimit": 10000
     },
     "inputWidgets": {},
     "nuid": "610533d1-1ed4-4046-a39f-bb5d637b59b4",
     "showTitle": false,
     "title": ""
    }
   },
   "outputs": [],
   "source": [
    "results_list = [\n",
    "    \"san_francisco\",\n",
    "    graph.number_of_nodes(),\n",
    "    graph.number_of_edges(),\n",
    "    \"Dijkstra\",\n",
    "    total_cost,\n",
    "    end_time - start_time,\n",
    "    distances,\n",
    "    previous\n",
    "]\n",
    "\n",
    "results.loc[len(results)] = results_list"
   ]
  },
  {
   "cell_type": "code",
   "execution_count": 0,
   "metadata": {
    "application/vnd.databricks.v1+cell": {
     "cellMetadata": {
      "byteLimit": 2048000,
      "rowLimit": 10000
     },
     "inputWidgets": {},
     "nuid": "3ef3e85a-a82a-4a87-bc7e-c25c9cefe031",
     "showTitle": false,
     "title": ""
    }
   },
   "outputs": [],
   "source": [
    "results"
   ]
  },
  {
   "cell_type": "markdown",
   "metadata": {
    "application/vnd.databricks.v1+cell": {
     "cellMetadata": {},
     "inputWidgets": {},
     "nuid": "e21b6cac-1047-479e-98ef-cbc42733c599",
     "showTitle": false,
     "title": ""
    }
   },
   "source": [
    "## Colorado"
   ]
  },
  {
   "cell_type": "code",
   "execution_count": 0,
   "metadata": {
    "application/vnd.databricks.v1+cell": {
     "cellMetadata": {
      "byteLimit": 2048000,
      "rowLimit": 10000
     },
     "inputWidgets": {},
     "nuid": "458bbe12-1db0-40ba-9e48-dca2eabd724b",
     "showTitle": false,
     "title": ""
    }
   },
   "outputs": [],
   "source": [
    "graph = read_gr_graph(col_path.replace(\".gz\", ''))"
   ]
  },
  {
   "cell_type": "code",
   "execution_count": 0,
   "metadata": {
    "application/vnd.databricks.v1+cell": {
     "cellMetadata": {
      "byteLimit": 2048000,
      "rowLimit": 10000
     },
     "inputWidgets": {},
     "nuid": "95830962-ba10-4dca-86d5-8ad1746080b7",
     "showTitle": false,
     "title": ""
    }
   },
   "outputs": [],
   "source": [
    "graph_col = nx.to_dict_of_dicts(graph)"
   ]
  },
  {
   "cell_type": "code",
   "execution_count": 0,
   "metadata": {
    "application/vnd.databricks.v1+cell": {
     "cellMetadata": {
      "byteLimit": 2048000,
      "rowLimit": 10000
     },
     "inputWidgets": {},
     "nuid": "939155ef-2346-4f67-850d-3d3ef766dcd9",
     "showTitle": false,
     "title": ""
    }
   },
   "outputs": [],
   "source": [
    "graph_col = {\n",
    "    node1: {\n",
    "        node2: subdict['weight'] for node2, subdict in nested_dict.items()\n",
    "    } for node1, nested_dict in graph_col.items()\n",
    "}"
   ]
  },
  {
   "cell_type": "code",
   "execution_count": 0,
   "metadata": {
    "application/vnd.databricks.v1+cell": {
     "cellMetadata": {
      "byteLimit": 2048000,
      "rowLimit": 10000
     },
     "inputWidgets": {},
     "nuid": "8d583881-94d9-424c-9b64-bc5431f4d9e3",
     "showTitle": false,
     "title": ""
    }
   },
   "outputs": [],
   "source": [
    "start_node = '1'\n",
    "start_time = time.time()\n",
    "distances, previous = dijkstra(graph_col, start_node)\n",
    "end_time = time.time()\n",
    "print(\"Time between function executions:\", end_time - start_time, \"seconds\")"
   ]
  },
  {
   "cell_type": "code",
   "execution_count": 0,
   "metadata": {
    "application/vnd.databricks.v1+cell": {
     "cellMetadata": {
      "byteLimit": 2048000,
      "rowLimit": 10000
     },
     "inputWidgets": {},
     "nuid": "990713cb-9fbd-4830-923f-78b55e74b7f7",
     "showTitle": false,
     "title": ""
    }
   },
   "outputs": [],
   "source": [
    "distances_df = pd.DataFrame({'Node': list(distances.keys()), 'Distance': list(distances.values())})\n",
    "distances_df.to_csv('distances_col.csv', index=False)\n",
    "\n",
    "previous_df = pd.DataFrame({'Node': list(previous.keys()), 'Previous': list(previous.values())})\n",
    "previous_df.to_csv('previous_col.csv', index=False)"
   ]
  },
  {
   "cell_type": "code",
   "execution_count": 0,
   "metadata": {
    "application/vnd.databricks.v1+cell": {
     "cellMetadata": {
      "byteLimit": 2048000,
      "rowLimit": 10000
     },
     "inputWidgets": {},
     "nuid": "e9fe7d14-1bb1-499b-89a6-749099a8ce48",
     "showTitle": false,
     "title": ""
    }
   },
   "outputs": [],
   "source": [
    "distances_df = pd.read_csv('distances_col.csv')\n",
    "previous_df = pd.read_csv('previous_col.csv')"
   ]
  },
  {
   "cell_type": "code",
   "execution_count": 0,
   "metadata": {
    "application/vnd.databricks.v1+cell": {
     "cellMetadata": {
      "byteLimit": 2048000,
      "rowLimit": 10000
     },
     "inputWidgets": {},
     "nuid": "4dae7a75-2add-4e75-a22e-2b7dab600a92",
     "showTitle": false,
     "title": ""
    }
   },
   "outputs": [],
   "source": [
    "column1 = distances_df['Node'].tolist()\n",
    "column2 = distances_df['Distance'].tolist()\n",
    "distances = dict(zip(column1, column2))\n",
    "total_cost = sum(distances_df['Distance'])"
   ]
  },
  {
   "cell_type": "code",
   "execution_count": 0,
   "metadata": {
    "application/vnd.databricks.v1+cell": {
     "cellMetadata": {
      "byteLimit": 2048000,
      "rowLimit": 10000
     },
     "inputWidgets": {},
     "nuid": "0f421a15-67e5-4cd2-be16-ca8dbfe53213",
     "showTitle": false,
     "title": ""
    }
   },
   "outputs": [],
   "source": [
    "column1 = previous_df['Node'].tolist()\n",
    "column2 = previous_df['Previous'].tolist()\n",
    "previous = dict(zip(column1, column2))"
   ]
  },
  {
   "cell_type": "code",
   "execution_count": 0,
   "metadata": {
    "application/vnd.databricks.v1+cell": {
     "cellMetadata": {
      "byteLimit": 2048000,
      "rowLimit": 10000
     },
     "inputWidgets": {},
     "nuid": "f72ab206-a061-48af-b0e2-891e42030588",
     "showTitle": false,
     "title": ""
    }
   },
   "outputs": [],
   "source": [
    "results_list = [\n",
    "    \"colorado\",\n",
    "    graph.number_of_nodes(),\n",
    "    graph.number_of_edges(),\n",
    "    \"Dijkstra\",\n",
    "    total_cost,\n",
    "    end_time - start_time,\n",
    "    distances,\n",
    "    previous\n",
    "]\n",
    "\n",
    "results.loc[len(results)] = results_list"
   ]
  },
  {
   "cell_type": "code",
   "execution_count": 0,
   "metadata": {
    "application/vnd.databricks.v1+cell": {
     "cellMetadata": {
      "byteLimit": 2048000,
      "rowLimit": 10000
     },
     "inputWidgets": {},
     "nuid": "0c9b9e49-f98f-4f31-9297-314212296f73",
     "showTitle": false,
     "title": ""
    }
   },
   "outputs": [],
   "source": [
    "results.to_csv(\"results.csv\", index=False)"
   ]
  },
  {
   "cell_type": "code",
   "execution_count": 0,
   "metadata": {
    "application/vnd.databricks.v1+cell": {
     "cellMetadata": {
      "byteLimit": 2048000,
      "rowLimit": 10000
     },
     "inputWidgets": {},
     "nuid": "31b28806-b625-4ec7-acf4-0a49a1197860",
     "showTitle": false,
     "title": ""
    }
   },
   "outputs": [],
   "source": [
    "results"
   ]
  },
  {
   "cell_type": "markdown",
   "metadata": {
    "application/vnd.databricks.v1+cell": {
     "cellMetadata": {},
     "inputWidgets": {},
     "nuid": "ede762e3-0970-476a-aacd-59a95122fa67",
     "showTitle": false,
     "title": ""
    }
   },
   "source": [
    "# PRIM"
   ]
  },
  {
   "cell_type": "markdown",
   "metadata": {
    "application/vnd.databricks.v1+cell": {
     "cellMetadata": {},
     "inputWidgets": {},
     "nuid": "8725e796-73eb-4176-9be0-db2fb70559c8",
     "showTitle": false,
     "title": ""
    }
   },
   "source": [
    "````python\n",
    "entrada: G = (V,E), Lista de Adjacência de G: A(v), v pertence a V, matriz de pesos\n",
    "\n",
    "T ← vazio;\n",
    "V' ← {u};\n",
    "\n",
    "para-todo v pertencente a V – V' faça\n",
    "L(v) ← peso ({u,v});\n",
    "fim-para-todo\n",
    "\n",
    "enquanto V' diferente de V faça\n",
    "    ache um vértice w tal que L(w) = min {L(v)| v pertencente a V-V'};\n",
    "    u = o vértice de V', ligado a w, representando a aresta com o menor custo;\n",
    "    e = {u,w};\n",
    "    T ← T U {e};\n",
    "    V' ← V'U {w};\n",
    "    para-todo v pertencente a V – V' faça\n",
    "        se peso({v,w}) < L(v) então\n",
    "            L(v) ← p({v,w});\n",
    "        fim-se\n",
    "    fim-para-todo\n",
    "fim-enquanto\n",
    "saída: T\n",
    "\n",
    "````"
   ]
  },
  {
   "cell_type": "markdown",
   "metadata": {
    "application/vnd.databricks.v1+cell": {
     "cellMetadata": {},
     "inputWidgets": {},
     "nuid": "17046a38-f927-408f-b1f1-71e7be36c6a8",
     "showTitle": false,
     "title": ""
    }
   },
   "source": [
    "## Toy 1"
   ]
  },
  {
   "cell_type": "code",
   "execution_count": 0,
   "metadata": {
    "application/vnd.databricks.v1+cell": {
     "cellMetadata": {
      "byteLimit": 2048000,
      "rowLimit": 10000
     },
     "inputWidgets": {},
     "nuid": "de3017f8-c250-4b37-9968-181e134eae81",
     "showTitle": false,
     "title": ""
    }
   },
   "outputs": [],
   "source": [
    "start_time = time.time()\n",
    "minimum_spanning_tree, total_cost = kruskal(toy1_instance)\n",
    "end_time = time.time()\n",
    "print(\"Time between function executions:\", end_time - start_time, \"seconds\")"
   ]
  },
  {
   "cell_type": "code",
   "execution_count": 0,
   "metadata": {
    "application/vnd.databricks.v1+cell": {
     "cellMetadata": {
      "byteLimit": 2048000,
      "rowLimit": 10000
     },
     "inputWidgets": {},
     "nuid": "d6271892-8c00-4d1d-b87f-2a79acff0ab7",
     "showTitle": false,
     "title": ""
    }
   },
   "outputs": [],
   "source": [
    "minimum_spanning_tree_toy1_instance = nx.Graph()"
   ]
  },
  {
   "cell_type": "code",
   "execution_count": 0,
   "metadata": {
    "application/vnd.databricks.v1+cell": {
     "cellMetadata": {
      "byteLimit": 2048000,
      "rowLimit": 10000
     },
     "inputWidgets": {},
     "nuid": "18b3d6ca-195a-46aa-bab0-33ec2ba0f6a5",
     "showTitle": false,
     "title": ""
    }
   },
   "outputs": [],
   "source": [
    "for u, v, weight in minimum_spanning_tree:\n",
    "    minimum_spanning_tree_toy1_instance.add_edge(u, v, weight=weight)"
   ]
  },
  {
   "cell_type": "code",
   "execution_count": 0,
   "metadata": {
    "application/vnd.databricks.v1+cell": {
     "cellMetadata": {
      "byteLimit": 2048000,
      "rowLimit": 10000
     },
     "inputWidgets": {},
     "nuid": "baf7a4bf-95ae-48aa-9e32-030e7c0720db",
     "showTitle": false,
     "title": ""
    }
   },
   "outputs": [],
   "source": [
    "plot_graph(minimum_spanning_tree_toy1_instance, figsize=(12, 8))"
   ]
  },
  {
   "cell_type": "code",
   "execution_count": 0,
   "metadata": {
    "application/vnd.databricks.v1+cell": {
     "cellMetadata": {
      "byteLimit": 2048000,
      "rowLimit": 10000
     },
     "inputWidgets": {},
     "nuid": "74d4652d-10ee-4b9f-9050-23c1ac2814a9",
     "showTitle": false,
     "title": ""
    }
   },
   "outputs": [],
   "source": [
    "minimum_spanning_tree_toy1_instance_dict = nx.to_dict_of_dicts(minimum_spanning_tree_toy1_instance)\n",
    "\n",
    "\n",
    "minimum_spanning_tree_toy1_instance_dict = {\n",
    "    node1: {\n",
    "        node2: subdict['weight'] for node2, subdict in nested_dict.items()\n",
    "    } for node1, nested_dict in minimum_spanning_tree_toy1_instance_dict.items()\n",
    "}"
   ]
  },
  {
   "cell_type": "code",
   "execution_count": 0,
   "metadata": {
    "application/vnd.databricks.v1+cell": {
     "cellMetadata": {
      "byteLimit": 2048000,
      "rowLimit": 10000
     },
     "inputWidgets": {},
     "nuid": "898decd4-1bb1-405b-924f-b010dec4bbfb",
     "showTitle": false,
     "title": ""
    }
   },
   "outputs": [],
   "source": [
    "results_list = [\n",
    "    \"toy_1\",\n",
    "    minimum_spanning_tree_toy1_instance.number_of_nodes(),\n",
    "    minimum_spanning_tree_toy1_instance.number_of_edges(),\n",
    "    \"Kruskal\",\n",
    "    total_cost,\n",
    "    end_time - start_time,\n",
    "    minimum_spanning_tree_toy1_instance_dict,\n",
    "    \"\"\n",
    "]\n",
    "\n",
    "results.loc[len(results)] = results_list"
   ]
  },
  {
   "cell_type": "code",
   "execution_count": 0,
   "metadata": {
    "application/vnd.databricks.v1+cell": {
     "cellMetadata": {
      "byteLimit": 2048000,
      "rowLimit": 10000
     },
     "inputWidgets": {},
     "nuid": "14b88a15-6245-41f4-8659-95fcc9d8f395",
     "showTitle": false,
     "title": ""
    }
   },
   "outputs": [],
   "source": [
    "results"
   ]
  },
  {
   "cell_type": "markdown",
   "metadata": {
    "application/vnd.databricks.v1+cell": {
     "cellMetadata": {},
     "inputWidgets": {},
     "nuid": "21b96e0b-eb0c-4603-a602-3beb2de5003a",
     "showTitle": false,
     "title": ""
    }
   },
   "source": [
    "## New york"
   ]
  },
  {
   "cell_type": "code",
   "execution_count": 0,
   "metadata": {
    "application/vnd.databricks.v1+cell": {
     "cellMetadata": {
      "byteLimit": 2048000,
      "rowLimit": 10000
     },
     "inputWidgets": {},
     "nuid": "ff83f13b-5119-4919-a6f1-adc3242e3c11",
     "showTitle": false,
     "title": ""
    }
   },
   "outputs": [],
   "source": [
    "start_time = time.time()\n",
    "minimum_spanning_tree, total_cost = kruskal(graph_ny)\n",
    "end_time = time.time()\n",
    "print(\"Time between function executions:\", end_time - start_time, \"seconds\")"
   ]
  },
  {
   "cell_type": "code",
   "execution_count": 0,
   "metadata": {
    "application/vnd.databricks.v1+cell": {
     "cellMetadata": {
      "byteLimit": 2048000,
      "rowLimit": 10000
     },
     "inputWidgets": {},
     "nuid": "61204af5-9a99-41e5-9cfc-6342db1bfed6",
     "showTitle": false,
     "title": ""
    }
   },
   "outputs": [],
   "source": [
    "total_cost"
   ]
  },
  {
   "cell_type": "code",
   "execution_count": 0,
   "metadata": {
    "application/vnd.databricks.v1+cell": {
     "cellMetadata": {
      "byteLimit": 2048000,
      "rowLimit": 10000
     },
     "inputWidgets": {},
     "nuid": "77acb8a8-d201-4612-bfe7-e8d971b228be",
     "showTitle": false,
     "title": ""
    }
   },
   "outputs": [],
   "source": [
    "minimum_spanning_tree_new_york = nx.Graph()"
   ]
  },
  {
   "cell_type": "code",
   "execution_count": 0,
   "metadata": {
    "application/vnd.databricks.v1+cell": {
     "cellMetadata": {
      "byteLimit": 2048000,
      "rowLimit": 10000
     },
     "inputWidgets": {},
     "nuid": "d3b7b591-c6c9-4f5f-82d1-3ed5c2cc57b0",
     "showTitle": false,
     "title": ""
    }
   },
   "outputs": [],
   "source": [
    "for u, v, weight in minimum_spanning_tree:\n",
    "    minimum_spanning_tree_new_york.add_edge(u, v, weight=weight)"
   ]
  },
  {
   "cell_type": "code",
   "execution_count": 0,
   "metadata": {
    "application/vnd.databricks.v1+cell": {
     "cellMetadata": {
      "byteLimit": 2048000,
      "rowLimit": 10000
     },
     "inputWidgets": {},
     "nuid": "f3c5bd9a-799b-41c1-b13f-d53ed42cec1b",
     "showTitle": false,
     "title": ""
    }
   },
   "outputs": [],
   "source": [
    "minimum_spanning_tree_new_york_dict = nx.to_dict_of_dicts(minimum_spanning_tree_new_york)\n",
    "\n",
    "minimum_spanning_tree_new_york_dict = {\n",
    "    node1: {\n",
    "        node2: subdict['weight'] for node2, subdict in nested_dict.items()\n",
    "    } for node1, nested_dict in minimum_spanning_tree_new_york_dict.items()\n",
    "}"
   ]
  },
  {
   "cell_type": "code",
   "execution_count": 0,
   "metadata": {
    "application/vnd.databricks.v1+cell": {
     "cellMetadata": {
      "byteLimit": 2048000,
      "rowLimit": 10000
     },
     "inputWidgets": {},
     "nuid": "b5cf1d40-d5c6-4d89-acbf-f4cdff04680d",
     "showTitle": false,
     "title": ""
    }
   },
   "outputs": [],
   "source": [
    "results_list = [\n",
    "    \"new_york\",\n",
    "    minimum_spanning_tree_new_york.number_of_nodes(),\n",
    "    minimum_spanning_tree_new_york.number_of_edges(),\n",
    "    \"Kruskal\",\n",
    "    total_cost,\n",
    "    end_time - start_time,\n",
    "    minimum_spanning_tree_new_york_dict,\n",
    "    \"\"\n",
    "]\n",
    "\n",
    "results.loc[len(results)] = results_list\n"
   ]
  },
  {
   "cell_type": "markdown",
   "metadata": {
    "application/vnd.databricks.v1+cell": {
     "cellMetadata": {},
     "inputWidgets": {},
     "nuid": "033da753-e5b5-4e5e-a2b8-2826d6dd3abf",
     "showTitle": false,
     "title": ""
    }
   },
   "source": [
    "## San Francisco"
   ]
  },
  {
   "cell_type": "code",
   "execution_count": 0,
   "metadata": {
    "application/vnd.databricks.v1+cell": {
     "cellMetadata": {
      "byteLimit": 2048000,
      "rowLimit": 10000
     },
     "inputWidgets": {},
     "nuid": "75222894-d17f-4ae9-bc27-a31779a30a03",
     "showTitle": false,
     "title": ""
    }
   },
   "outputs": [],
   "source": [
    "start_time = time.time()\n",
    "minimum_spanning_tree, total_cost = kruskal(graph_sa)\n",
    "end_time = time.time()\n",
    "print(\"Time between function executions:\", end_time - start_time, \"seconds\")"
   ]
  },
  {
   "cell_type": "code",
   "execution_count": 0,
   "metadata": {
    "application/vnd.databricks.v1+cell": {
     "cellMetadata": {
      "byteLimit": 2048000,
      "rowLimit": 10000
     },
     "inputWidgets": {},
     "nuid": "38b18135-0a58-4a88-b2a6-249070663860",
     "showTitle": false,
     "title": ""
    }
   },
   "outputs": [],
   "source": [
    "minimum_spanning_tree_san = nx.Graph()"
   ]
  },
  {
   "cell_type": "code",
   "execution_count": 0,
   "metadata": {
    "application/vnd.databricks.v1+cell": {
     "cellMetadata": {
      "byteLimit": 2048000,
      "rowLimit": 10000
     },
     "inputWidgets": {},
     "nuid": "7253c15a-280f-489b-a8fd-cbc277bdc68d",
     "showTitle": false,
     "title": ""
    }
   },
   "outputs": [],
   "source": [
    "for u, v, weight in minimum_spanning_tree:\n",
    "    minimum_spanning_tree_san.add_edge(u, v, weight=weight)"
   ]
  },
  {
   "cell_type": "code",
   "execution_count": 0,
   "metadata": {
    "application/vnd.databricks.v1+cell": {
     "cellMetadata": {
      "byteLimit": 2048000,
      "rowLimit": 10000
     },
     "inputWidgets": {},
     "nuid": "b58b66dd-6266-49c6-b759-891280b7f412",
     "showTitle": false,
     "title": ""
    }
   },
   "outputs": [],
   "source": [
    "minimum_spanning_tree_san_dict = nx.to_dict_of_dicts(minimum_spanning_tree_san)\n",
    "\n",
    "\n",
    "minimum_spanning_tree_san_dict = {\n",
    "    node1: {node2: subdict[\"weight\"] for node2, subdict in nested_dict.items()}\n",
    "    for node1, nested_dict in minimum_spanning_tree_san_dict.items()\n",
    "}"
   ]
  },
  {
   "cell_type": "code",
   "execution_count": 0,
   "metadata": {
    "application/vnd.databricks.v1+cell": {
     "cellMetadata": {
      "byteLimit": 2048000,
      "rowLimit": 10000
     },
     "inputWidgets": {},
     "nuid": "0de4fc12-cd38-4a31-b2ff-7f7e5bf3dc2a",
     "showTitle": false,
     "title": ""
    }
   },
   "outputs": [],
   "source": [
    "results_list = [\n",
    "    \"san_francisco\",\n",
    "    minimum_spanning_tree_san.number_of_nodes(),\n",
    "    minimum_spanning_tree_san.number_of_edges(),\n",
    "    \"Kruskal\",\n",
    "    total_cost,\n",
    "    end_time - start_time,\n",
    "    minimum_spanning_tree_san_dict,\n",
    "    \"\"\n",
    "]\n"
   ]
  },
  {
   "cell_type": "code",
   "execution_count": 0,
   "metadata": {
    "application/vnd.databricks.v1+cell": {
     "cellMetadata": {
      "byteLimit": 2048000,
      "rowLimit": 10000
     },
     "inputWidgets": {},
     "nuid": "63f96afb-e116-45a8-8514-7f4ccba34d4a",
     "showTitle": false,
     "title": ""
    }
   },
   "outputs": [],
   "source": [
    "results.loc[len(results)] = results_list"
   ]
  },
  {
   "cell_type": "markdown",
   "metadata": {
    "application/vnd.databricks.v1+cell": {
     "cellMetadata": {},
     "inputWidgets": {},
     "nuid": "1f943788-e649-49b7-a143-92c0fccc75fe",
     "showTitle": false,
     "title": ""
    }
   },
   "source": [
    "## Colorado"
   ]
  },
  {
   "cell_type": "code",
   "execution_count": 0,
   "metadata": {
    "application/vnd.databricks.v1+cell": {
     "cellMetadata": {
      "byteLimit": 2048000,
      "rowLimit": 10000
     },
     "inputWidgets": {},
     "nuid": "02c10439-7219-4f32-b060-6f0ac15fc739",
     "showTitle": false,
     "title": ""
    }
   },
   "outputs": [],
   "source": [
    "start_time = time.time()\n",
    "minimum_spanning_tree, total_cost = kruskal(graph_col)\n",
    "end_time = time.time()\n",
    "print(\"Time between function executions:\", end_time - start_time, \"seconds\")"
   ]
  },
  {
   "cell_type": "code",
   "execution_count": 0,
   "metadata": {
    "application/vnd.databricks.v1+cell": {
     "cellMetadata": {
      "byteLimit": 2048000,
      "rowLimit": 10000
     },
     "inputWidgets": {},
     "nuid": "4c344cd7-509b-409c-b6dc-ebc6c8901cb8",
     "showTitle": false,
     "title": ""
    }
   },
   "outputs": [],
   "source": [
    "minimum_spanning_tree_colorado = nx.Graph()"
   ]
  },
  {
   "cell_type": "code",
   "execution_count": 0,
   "metadata": {
    "application/vnd.databricks.v1+cell": {
     "cellMetadata": {
      "byteLimit": 2048000,
      "rowLimit": 10000
     },
     "inputWidgets": {},
     "nuid": "c418ba85-4f2d-4977-86ce-6c4017975183",
     "showTitle": false,
     "title": ""
    }
   },
   "outputs": [],
   "source": [
    "for u, v, weight in minimum_spanning_tree:\n",
    "    minimum_spanning_tree_colorado.add_edge(u, v, weight=weight)"
   ]
  },
  {
   "cell_type": "code",
   "execution_count": 0,
   "metadata": {
    "application/vnd.databricks.v1+cell": {
     "cellMetadata": {
      "byteLimit": 2048000,
      "rowLimit": 10000
     },
     "inputWidgets": {},
     "nuid": "9a7adb99-5c51-4dde-b7b7-8ff4d38affa6",
     "showTitle": false,
     "title": ""
    }
   },
   "outputs": [],
   "source": [
    "minimum_spanning_tree_colorado_dict = nx.to_dict_of_dicts(minimum_spanning_tree_colorado)\n",
    "\n",
    "\n",
    "minimum_spanning_tree_colorado_dict = {\n",
    "    node1: {\n",
    "        node2: subdict['weight'] for node2, subdict in nested_dict.items()\n",
    "    } for node1, nested_dict in minimum_spanning_tree_colorado_dict.items()\n",
    "}"
   ]
  },
  {
   "cell_type": "code",
   "execution_count": 0,
   "metadata": {
    "application/vnd.databricks.v1+cell": {
     "cellMetadata": {
      "byteLimit": 2048000,
      "rowLimit": 10000
     },
     "inputWidgets": {},
     "nuid": "e7c5aca5-782c-4cbe-a4ab-3f6d761ac08b",
     "showTitle": false,
     "title": ""
    }
   },
   "outputs": [],
   "source": [
    "results_list = [\n",
    "    \"colorado\",\n",
    "    minimum_spanning_tree_colorado.number_of_nodes(),\n",
    "    minimum_spanning_tree_colorado.number_of_edges(),\n",
    "    \"Kruskal\",\n",
    "    total_cost,\n",
    "    end_time - start_time,\n",
    "    minimum_spanning_tree_colorado_dict,\n",
    "    \"\"\n",
    "]\n"
   ]
  },
  {
   "cell_type": "code",
   "execution_count": 0,
   "metadata": {
    "application/vnd.databricks.v1+cell": {
     "cellMetadata": {
      "byteLimit": 2048000,
      "rowLimit": 10000
     },
     "inputWidgets": {},
     "nuid": "40aa05bb-7f12-4af0-a982-28026e34497c",
     "showTitle": false,
     "title": ""
    }
   },
   "outputs": [],
   "source": [
    "results.loc[len(results)] = results_list"
   ]
  },
  {
   "cell_type": "code",
   "execution_count": 0,
   "metadata": {
    "application/vnd.databricks.v1+cell": {
     "cellMetadata": {
      "byteLimit": 2048000,
      "rowLimit": 10000
     },
     "inputWidgets": {},
     "nuid": "8188a6da-02cf-4dcf-86ee-0981c5e06c80",
     "showTitle": false,
     "title": ""
    }
   },
   "outputs": [],
   "source": [
    "results.to_csv(\"results.csv\")"
   ]
  },
  {
   "cell_type": "markdown",
   "metadata": {
    "application/vnd.databricks.v1+cell": {
     "cellMetadata": {},
     "inputWidgets": {},
     "nuid": "ba47c4cb-2862-40e9-b743-886c0346d8be",
     "showTitle": false,
     "title": ""
    }
   },
   "source": [
    "# Ford-Fulkerson"
   ]
  },
  {
   "cell_type": "markdown",
   "metadata": {
    "application/vnd.databricks.v1+cell": {
     "cellMetadata": {},
     "inputWidgets": {},
     "nuid": "49f11c47-bdb3-41e5-912c-278f90184595",
     "showTitle": false,
     "title": ""
    }
   },
   "source": [
    "## Toy 2"
   ]
  },
  {
   "cell_type": "markdown",
   "metadata": {
    "application/vnd.databricks.v1+cell": {
     "cellMetadata": {},
     "inputWidgets": {},
     "nuid": "9324a0ca-1326-41a1-8644-bb24b8c53f41",
     "showTitle": false,
     "title": ""
    }
   },
   "source": [
    "##DIMACS\n",
    "\n",
    "Instância de entrada para o algoritmo de fluxo: um exemplo de entrada a ser aplicado ao\n",
    "algoritmo de Ford-Fulkerson\n",
    "Considerar o exemplo do arquivo no formato DIMACS representando o digrafo de 6 vértices e 8\n",
    "arcos apresentado em https://lpsolve.sourceforge.net/5.5/DIMACS_maxf.htm."
   ]
  },
  {
   "cell_type": "code",
   "execution_count": 0,
   "metadata": {
    "application/vnd.databricks.v1+cell": {
     "cellMetadata": {},
     "inputWidgets": {},
     "nuid": "25edaf4d-fe30-4f7e-abc0-edb3cbc40a22",
     "showTitle": false,
     "title": ""
    }
   },
   "outputs": [],
   "source": []
  }
 ],
 "metadata": {
  "application/vnd.databricks.v1+notebook": {
   "dashboards": [],
   "language": "python",
   "notebookMetadata": {
    "pythonIndentUnit": 4
   },
   "notebookName": "code",
   "widgets": {}
  },
  "colab": {
   "name": "PLN.ipynb",
   "provenance": [],
   "version": "0.3.2"
  },
  "kernelspec": {
   "display_name": "Python 3.8.8 ('cursos')",
   "language": "python",
   "name": "python3"
  },
  "language_info": {
   "codemirror_mode": {
    "name": "ipython",
    "version": 3
   },
   "file_extension": ".py",
   "mimetype": "text/x-python",
   "name": "python",
   "nbconvert_exporter": "python",
   "pygments_lexer": "ipython3",
   "version": "3.10.11"
  },
  "vscode": {
   "interpreter": {
    "hash": "c9f1699d804fa66b1086f9af2a0a5cbb5f8d8881a981a166c2b61a59da5b4d52"
   }
  }
 },
 "nbformat": 4,
 "nbformat_minor": 0
}
